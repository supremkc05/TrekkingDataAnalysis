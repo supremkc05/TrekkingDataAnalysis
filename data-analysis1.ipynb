{
 "cells": [
  {
   "cell_type": "code",
   "execution_count": 35,
   "metadata": {},
   "outputs": [],
   "source": [
    "import pandas as pd\n",
    "import re\n",
    "from matplotlib import pyplot as plt\n",
    "import seaborn as sns\n",
    "from sklearn.model_selection import train_test_split\n",
    "from sklearn.ensemble import GradientBoostingRegressor\n",
    "from sklearn.metrics import mean_absolute_error, r2_score\n",
    "from sklearn.ensemble import RandomForestClassifier\n",
    "from sklearn.metrics import classification_report, accuracy_score\n",
    "import seaborn as sns\n",
    "import warnings\n",
    "warnings.filterwarnings('ignore')\n",
    "import plotly.express as px\n",
    "import numpy as np"
   ]
  },
  {
   "cell_type": "markdown",
   "metadata": {},
   "source": [
    "load the dataset"
   ]
  },
  {
   "cell_type": "code",
   "execution_count": 36,
   "metadata": {},
   "outputs": [
    {
     "data": {
      "text/html": [
       "<div>\n",
       "<style scoped>\n",
       "    .dataframe tbody tr th:only-of-type {\n",
       "        vertical-align: middle;\n",
       "    }\n",
       "\n",
       "    .dataframe tbody tr th {\n",
       "        vertical-align: top;\n",
       "    }\n",
       "\n",
       "    .dataframe thead th {\n",
       "        text-align: right;\n",
       "    }\n",
       "</style>\n",
       "<table border=\"1\" class=\"dataframe\">\n",
       "  <thead>\n",
       "    <tr style=\"text-align: right;\">\n",
       "      <th></th>\n",
       "      <th>Unnamed: 0</th>\n",
       "      <th>Trek</th>\n",
       "      <th>Cost</th>\n",
       "      <th>Time</th>\n",
       "      <th>Trip Grade</th>\n",
       "      <th>Max Altitude</th>\n",
       "      <th>Accomodation</th>\n",
       "      <th>Best Travel Time</th>\n",
       "      <th>Date of Travel</th>\n",
       "      <th>Sex</th>\n",
       "      <th>...</th>\n",
       "      <th>GraduateOrNot</th>\n",
       "      <th>AnnualIncome</th>\n",
       "      <th>FamilyMembers</th>\n",
       "      <th>ChronicDiseases</th>\n",
       "      <th>FrequentFlyer</th>\n",
       "      <th>EverTravelledAbroad</th>\n",
       "      <th>TravelInsurance</th>\n",
       "      <th>Year</th>\n",
       "      <th>Regional code</th>\n",
       "      <th>Country</th>\n",
       "    </tr>\n",
       "  </thead>\n",
       "  <tbody>\n",
       "    <tr>\n",
       "      <th>0</th>\n",
       "      <td>0</td>\n",
       "      <td>Everest Base Camp Trek</td>\n",
       "      <td>\\r\\n$1,420     USD</td>\n",
       "      <td>16 Days</td>\n",
       "      <td>Moderate</td>\n",
       "      <td>5545 m</td>\n",
       "      <td>Hotel/Guesthouse</td>\n",
       "      <td>March - May &amp; Sept - Dec</td>\n",
       "      <td>9/13/2022</td>\n",
       "      <td>Non-Binary</td>\n",
       "      <td>...</td>\n",
       "      <td>Yes</td>\n",
       "      <td>400000</td>\n",
       "      <td>6</td>\n",
       "      <td>1</td>\n",
       "      <td>No</td>\n",
       "      <td>No</td>\n",
       "      <td>0</td>\n",
       "      <td>2017</td>\n",
       "      <td>0</td>\n",
       "      <td>total</td>\n",
       "    </tr>\n",
       "    <tr>\n",
       "      <th>1</th>\n",
       "      <td>1</td>\n",
       "      <td>Everest Base Camp Short Trek</td>\n",
       "      <td>\\r\\n$1,295     USD</td>\n",
       "      <td>14 Days</td>\n",
       "      <td>Moderate</td>\n",
       "      <td>5545 m</td>\n",
       "      <td>Hotel/Guesthouse</td>\n",
       "      <td>March - May &amp; Sept - Dec</td>\n",
       "      <td>9/4/2021</td>\n",
       "      <td>Female</td>\n",
       "      <td>...</td>\n",
       "      <td>Yes</td>\n",
       "      <td>1250000</td>\n",
       "      <td>7</td>\n",
       "      <td>0</td>\n",
       "      <td>No</td>\n",
       "      <td>No</td>\n",
       "      <td>0</td>\n",
       "      <td>2017</td>\n",
       "      <td>40</td>\n",
       "      <td>Afghanistan</td>\n",
       "    </tr>\n",
       "    <tr>\n",
       "      <th>2</th>\n",
       "      <td>2</td>\n",
       "      <td>Everest Base Camp Heli Shuttle Trek</td>\n",
       "      <td>\\r\\n$2000 USD</td>\n",
       "      <td>12 Days</td>\n",
       "      <td>Moderate</td>\n",
       "      <td>5545 m</td>\n",
       "      <td>Hotel/Guesthouse</td>\n",
       "      <td>March - May &amp; Sept - Dec</td>\n",
       "      <td>1/25/2021</td>\n",
       "      <td>Female</td>\n",
       "      <td>...</td>\n",
       "      <td>Yes</td>\n",
       "      <td>500000</td>\n",
       "      <td>4</td>\n",
       "      <td>1</td>\n",
       "      <td>No</td>\n",
       "      <td>No</td>\n",
       "      <td>1</td>\n",
       "      <td>2017</td>\n",
       "      <td>80</td>\n",
       "      <td>Albania</td>\n",
       "    </tr>\n",
       "    <tr>\n",
       "      <th>3</th>\n",
       "      <td>3</td>\n",
       "      <td>Everest Base Camp Heli Trek</td>\n",
       "      <td>\\r\\n$3,300     USD</td>\n",
       "      <td>11 Days</td>\n",
       "      <td>Moderate</td>\n",
       "      <td>5545 m</td>\n",
       "      <td>Hotel/Guesthouse</td>\n",
       "      <td>March - May &amp; Sept - Dec</td>\n",
       "      <td>1/28/2022</td>\n",
       "      <td>Non-Binary</td>\n",
       "      <td>...</td>\n",
       "      <td>Yes</td>\n",
       "      <td>700000</td>\n",
       "      <td>3</td>\n",
       "      <td>1</td>\n",
       "      <td>No</td>\n",
       "      <td>No</td>\n",
       "      <td>0</td>\n",
       "      <td>2017</td>\n",
       "      <td>120</td>\n",
       "      <td>Algeria</td>\n",
       "    </tr>\n",
       "    <tr>\n",
       "      <th>4</th>\n",
       "      <td>4</td>\n",
       "      <td>Everest Base Camp Trek for Seniors</td>\n",
       "      <td>\\r\\n$1,800     USD</td>\n",
       "      <td>20 Days</td>\n",
       "      <td>Moderate</td>\n",
       "      <td>5545 m</td>\n",
       "      <td>Hotel/Guesthouse</td>\n",
       "      <td>March - May &amp; Sept - Dec</td>\n",
       "      <td>10/21/2021</td>\n",
       "      <td>Non-Binary</td>\n",
       "      <td>...</td>\n",
       "      <td>Yes</td>\n",
       "      <td>700000</td>\n",
       "      <td>8</td>\n",
       "      <td>1</td>\n",
       "      <td>Yes</td>\n",
       "      <td>No</td>\n",
       "      <td>0</td>\n",
       "      <td>2017</td>\n",
       "      <td>200</td>\n",
       "      <td>Andra</td>\n",
       "    </tr>\n",
       "  </tbody>\n",
       "</table>\n",
       "<p>5 rows × 22 columns</p>\n",
       "</div>"
      ],
      "text/plain": [
       "   Unnamed: 0                                 Trek                Cost  \\\n",
       "0           0               Everest Base Camp Trek  \\r\\n$1,420     USD   \n",
       "1           1         Everest Base Camp Short Trek  \\r\\n$1,295     USD   \n",
       "2           2  Everest Base Camp Heli Shuttle Trek       \\r\\n$2000 USD   \n",
       "3           3          Everest Base Camp Heli Trek  \\r\\n$3,300     USD   \n",
       "4           4   Everest Base Camp Trek for Seniors  \\r\\n$1,800     USD   \n",
       "\n",
       "       Time Trip Grade Max Altitude      Accomodation  \\\n",
       "0   16 Days   Moderate       5545 m  Hotel/Guesthouse   \n",
       "1   14 Days   Moderate       5545 m  Hotel/Guesthouse   \n",
       "2   12 Days   Moderate       5545 m  Hotel/Guesthouse   \n",
       "3   11 Days   Moderate       5545 m  Hotel/Guesthouse   \n",
       "4   20 Days   Moderate       5545 m  Hotel/Guesthouse   \n",
       "\n",
       "           Best Travel Time Date of Travel         Sex  ...  GraduateOrNot  \\\n",
       "0  March - May & Sept - Dec      9/13/2022  Non-Binary  ...            Yes   \n",
       "1  March - May & Sept - Dec       9/4/2021      Female  ...            Yes   \n",
       "2  March - May & Sept - Dec      1/25/2021      Female  ...            Yes   \n",
       "3  March - May & Sept - Dec      1/28/2022  Non-Binary  ...            Yes   \n",
       "4  March - May & Sept - Dec     10/21/2021  Non-Binary  ...            Yes   \n",
       "\n",
       "  AnnualIncome FamilyMembers  ChronicDiseases  FrequentFlyer  \\\n",
       "0       400000             6                1             No   \n",
       "1      1250000             7                0             No   \n",
       "2       500000             4                1             No   \n",
       "3       700000             3                1             No   \n",
       "4       700000             8                1            Yes   \n",
       "\n",
       "   EverTravelledAbroad TravelInsurance  Year  Regional code      Country  \n",
       "0                   No               0  2017              0        total  \n",
       "1                   No               0  2017             40  Afghanistan  \n",
       "2                   No               1  2017             80      Albania  \n",
       "3                   No               0  2017            120      Algeria  \n",
       "4                   No               0  2017            200        Andra  \n",
       "\n",
       "[5 rows x 22 columns]"
      ]
     },
     "execution_count": 36,
     "metadata": {},
     "output_type": "execute_result"
    }
   ],
   "source": [
    "# Read CSV\n",
    "df = pd.read_csv(\"Nepali_Treking.csv\")\n",
    "df.head()"
   ]
  },
  {
   "cell_type": "code",
   "execution_count": 37,
   "metadata": {},
   "outputs": [
    {
     "data": {
      "text/html": [
       "<div>\n",
       "<style scoped>\n",
       "    .dataframe tbody tr th:only-of-type {\n",
       "        vertical-align: middle;\n",
       "    }\n",
       "\n",
       "    .dataframe tbody tr th {\n",
       "        vertical-align: top;\n",
       "    }\n",
       "\n",
       "    .dataframe thead th {\n",
       "        text-align: right;\n",
       "    }\n",
       "</style>\n",
       "<table border=\"1\" class=\"dataframe\">\n",
       "  <thead>\n",
       "    <tr style=\"text-align: right;\">\n",
       "      <th></th>\n",
       "      <th>Unnamed: 0</th>\n",
       "      <th>Trek</th>\n",
       "      <th>Cost</th>\n",
       "      <th>Time</th>\n",
       "      <th>Trip Grade</th>\n",
       "      <th>Max Altitude</th>\n",
       "      <th>Accomodation</th>\n",
       "      <th>Best Travel Time</th>\n",
       "      <th>Date of Travel</th>\n",
       "      <th>Sex</th>\n",
       "      <th>...</th>\n",
       "      <th>GraduateOrNot</th>\n",
       "      <th>AnnualIncome</th>\n",
       "      <th>FamilyMembers</th>\n",
       "      <th>ChronicDiseases</th>\n",
       "      <th>FrequentFlyer</th>\n",
       "      <th>EverTravelledAbroad</th>\n",
       "      <th>TravelInsurance</th>\n",
       "      <th>Year</th>\n",
       "      <th>Regional code</th>\n",
       "      <th>Country</th>\n",
       "    </tr>\n",
       "  </thead>\n",
       "  <tbody>\n",
       "    <tr>\n",
       "      <th>90</th>\n",
       "      <td>90</td>\n",
       "      <td>Annapurna Base Camp Heli Trek</td>\n",
       "      <td>\\r\\n$1,750    USD</td>\n",
       "      <td>9 Days</td>\n",
       "      <td>Easy To Moderate</td>\n",
       "      <td>4210 m</td>\n",
       "      <td>Hotel/Teahouses</td>\n",
       "      <td>March - May &amp; Sept - Dec</td>\n",
       "      <td>8/7/2023</td>\n",
       "      <td>Transgender</td>\n",
       "      <td>...</td>\n",
       "      <td>Yes</td>\n",
       "      <td>1050000</td>\n",
       "      <td>3</td>\n",
       "      <td>0</td>\n",
       "      <td>No</td>\n",
       "      <td>No</td>\n",
       "      <td>0</td>\n",
       "      <td>2017</td>\n",
       "      <td>3980</td>\n",
       "      <td>Kazakhstan</td>\n",
       "    </tr>\n",
       "    <tr>\n",
       "      <th>164</th>\n",
       "      <td>164</td>\n",
       "      <td>Annapurna Base Camp Heli Trek</td>\n",
       "      <td>\\r\\n$1,750   USD</td>\n",
       "      <td>9 Days</td>\n",
       "      <td>Easy To Moderate</td>\n",
       "      <td>4210 m</td>\n",
       "      <td>Hotel/Teahouses</td>\n",
       "      <td>March - May &amp; Sept - Dec</td>\n",
       "      <td>5/27/2023</td>\n",
       "      <td>Transgender</td>\n",
       "      <td>...</td>\n",
       "      <td>Yes</td>\n",
       "      <td>300000</td>\n",
       "      <td>6</td>\n",
       "      <td>0</td>\n",
       "      <td>No</td>\n",
       "      <td>No</td>\n",
       "      <td>0</td>\n",
       "      <td>2017</td>\n",
       "      <td>7050</td>\n",
       "      <td>Slovenia</td>\n",
       "    </tr>\n",
       "    <tr>\n",
       "      <th>238</th>\n",
       "      <td>238</td>\n",
       "      <td>Annapurna Base Camp Heli Trek</td>\n",
       "      <td>\\r\\n$1,750  USD</td>\n",
       "      <td>9 Days</td>\n",
       "      <td>Easy To Moderate</td>\n",
       "      <td>4210 m</td>\n",
       "      <td>Hotel/Teahouses</td>\n",
       "      <td>March - May &amp; Sept - Dec</td>\n",
       "      <td>5/7/2022</td>\n",
       "      <td>Non-Binary</td>\n",
       "      <td>...</td>\n",
       "      <td>Yes</td>\n",
       "      <td>600000</td>\n",
       "      <td>3</td>\n",
       "      <td>1</td>\n",
       "      <td>No</td>\n",
       "      <td>No</td>\n",
       "      <td>0</td>\n",
       "      <td>2016</td>\n",
       "      <td>1520</td>\n",
       "      <td>Chile</td>\n",
       "    </tr>\n",
       "    <tr>\n",
       "      <th>16</th>\n",
       "      <td>16</td>\n",
       "      <td>Annapurna Base Camp Heli Trek</td>\n",
       "      <td>\\r\\n$1,750     USD</td>\n",
       "      <td>9 Days</td>\n",
       "      <td>Easy To Moderate</td>\n",
       "      <td>4210 m</td>\n",
       "      <td>Hotel/Teahouses</td>\n",
       "      <td>March - May &amp; Sept - Dec</td>\n",
       "      <td>10/7/2022</td>\n",
       "      <td>Male</td>\n",
       "      <td>...</td>\n",
       "      <td>Yes</td>\n",
       "      <td>1150000</td>\n",
       "      <td>4</td>\n",
       "      <td>1</td>\n",
       "      <td>No</td>\n",
       "      <td>No</td>\n",
       "      <td>0</td>\n",
       "      <td>2017</td>\n",
       "      <td>560</td>\n",
       "      <td>Belgium</td>\n",
       "    </tr>\n",
       "    <tr>\n",
       "      <th>312</th>\n",
       "      <td>312</td>\n",
       "      <td>Annapurna Base Camp Heli Trek</td>\n",
       "      <td>\\r\\n$1,750 USD</td>\n",
       "      <td>9 Days</td>\n",
       "      <td>Easy To Moderate</td>\n",
       "      <td>4210 m</td>\n",
       "      <td>Hotel/Teahouses</td>\n",
       "      <td>March - May &amp; Sept - Dec</td>\n",
       "      <td>6/24/2022</td>\n",
       "      <td>Non-Binary</td>\n",
       "      <td>...</td>\n",
       "      <td>Yes</td>\n",
       "      <td>850000</td>\n",
       "      <td>7</td>\n",
       "      <td>0</td>\n",
       "      <td>No</td>\n",
       "      <td>No</td>\n",
       "      <td>0</td>\n",
       "      <td>2016</td>\n",
       "      <td>4540</td>\n",
       "      <td>Malawi</td>\n",
       "    </tr>\n",
       "    <tr>\n",
       "      <th>...</th>\n",
       "      <td>...</td>\n",
       "      <td>...</td>\n",
       "      <td>...</td>\n",
       "      <td>...</td>\n",
       "      <td>...</td>\n",
       "      <td>...</td>\n",
       "      <td>...</td>\n",
       "      <td>...</td>\n",
       "      <td>...</td>\n",
       "      <td>...</td>\n",
       "      <td>...</td>\n",
       "      <td>...</td>\n",
       "      <td>...</td>\n",
       "      <td>...</td>\n",
       "      <td>...</td>\n",
       "      <td>...</td>\n",
       "      <td>...</td>\n",
       "      <td>...</td>\n",
       "      <td>...</td>\n",
       "      <td>...</td>\n",
       "      <td>...</td>\n",
       "    </tr>\n",
       "    <tr>\n",
       "      <th>118</th>\n",
       "      <td>118</td>\n",
       "      <td>Upper Mustang Trek</td>\n",
       "      <td>$1,499    USD</td>\n",
       "      <td>17 Days</td>\n",
       "      <td>Moderate+Demanding</td>\n",
       "      <td>3,870m</td>\n",
       "      <td>Hotel/Guesthouse</td>\n",
       "      <td>Jan - May &amp; Sept - Dec</td>\n",
       "      <td>5/22/2022</td>\n",
       "      <td>Non-Binary</td>\n",
       "      <td>...</td>\n",
       "      <td>Yes</td>\n",
       "      <td>1500000</td>\n",
       "      <td>4</td>\n",
       "      <td>1</td>\n",
       "      <td>Yes</td>\n",
       "      <td>Yes</td>\n",
       "      <td>1</td>\n",
       "      <td>2017</td>\n",
       "      <td>4960</td>\n",
       "      <td>Mongolia</td>\n",
       "    </tr>\n",
       "    <tr>\n",
       "      <th>340</th>\n",
       "      <td>340</td>\n",
       "      <td>Upper Mustang Trek</td>\n",
       "      <td>$1,499 USD</td>\n",
       "      <td>17 Days</td>\n",
       "      <td>Moderate+Demanding</td>\n",
       "      <td>3,870m</td>\n",
       "      <td>Hotel/Guesthouse</td>\n",
       "      <td>Jan - May &amp; Sept - Dec</td>\n",
       "      <td>9/29/2021</td>\n",
       "      <td>Male</td>\n",
       "      <td>...</td>\n",
       "      <td>No</td>\n",
       "      <td>800000</td>\n",
       "      <td>7</td>\n",
       "      <td>1</td>\n",
       "      <td>No</td>\n",
       "      <td>No</td>\n",
       "      <td>0</td>\n",
       "      <td>2016</td>\n",
       "      <td>5860</td>\n",
       "      <td>Pakistan</td>\n",
       "    </tr>\n",
       "    <tr>\n",
       "      <th>44</th>\n",
       "      <td>44</td>\n",
       "      <td>Upper Mustang Trek</td>\n",
       "      <td>$1,499     USD</td>\n",
       "      <td>17 Days</td>\n",
       "      <td>Moderate+Demanding</td>\n",
       "      <td>3,870m</td>\n",
       "      <td>Hotel/Guesthouse</td>\n",
       "      <td>Jan - May &amp; Sept - Dec</td>\n",
       "      <td>3/23/2022</td>\n",
       "      <td>Female</td>\n",
       "      <td>...</td>\n",
       "      <td>Yes</td>\n",
       "      <td>1400000</td>\n",
       "      <td>7</td>\n",
       "      <td>0</td>\n",
       "      <td>No</td>\n",
       "      <td>Yes</td>\n",
       "      <td>1</td>\n",
       "      <td>2017</td>\n",
       "      <td>1910</td>\n",
       "      <td>Croatia</td>\n",
       "    </tr>\n",
       "    <tr>\n",
       "      <th>192</th>\n",
       "      <td>192</td>\n",
       "      <td>Upper Mustang Trek</td>\n",
       "      <td>$1,499   USD</td>\n",
       "      <td>17 Days</td>\n",
       "      <td>Moderate+Demanding</td>\n",
       "      <td>3,870m</td>\n",
       "      <td>Hotel/Guesthouse</td>\n",
       "      <td>Jan - May &amp; Sept - Dec</td>\n",
       "      <td>3/12/2023</td>\n",
       "      <td>Non-Binary</td>\n",
       "      <td>...</td>\n",
       "      <td>Yes</td>\n",
       "      <td>800000</td>\n",
       "      <td>4</td>\n",
       "      <td>1</td>\n",
       "      <td>No</td>\n",
       "      <td>Yes</td>\n",
       "      <td>0</td>\n",
       "      <td>2017</td>\n",
       "      <td>8400</td>\n",
       "      <td>united states of america</td>\n",
       "    </tr>\n",
       "    <tr>\n",
       "      <th>266</th>\n",
       "      <td>266</td>\n",
       "      <td>Upper Mustang Trek</td>\n",
       "      <td>$1,499  USD</td>\n",
       "      <td>17 Days</td>\n",
       "      <td>Moderate+Demanding</td>\n",
       "      <td>3,870m</td>\n",
       "      <td>Hotel/Guesthouse</td>\n",
       "      <td>Jan - May &amp; Sept - Dec</td>\n",
       "      <td>10/13/2021</td>\n",
       "      <td>Transgender</td>\n",
       "      <td>...</td>\n",
       "      <td>Yes</td>\n",
       "      <td>400000</td>\n",
       "      <td>5</td>\n",
       "      <td>0</td>\n",
       "      <td>No</td>\n",
       "      <td>No</td>\n",
       "      <td>0</td>\n",
       "      <td>2016</td>\n",
       "      <td>2660</td>\n",
       "      <td>Gabon</td>\n",
       "    </tr>\n",
       "  </tbody>\n",
       "</table>\n",
       "<p>383 rows × 22 columns</p>\n",
       "</div>"
      ],
      "text/plain": [
       "     Unnamed: 0                           Trek                Cost      Time  \\\n",
       "90           90  Annapurna Base Camp Heli Trek   \\r\\n$1,750    USD    9 Days   \n",
       "164         164  Annapurna Base Camp Heli Trek    \\r\\n$1,750   USD    9 Days   \n",
       "238         238  Annapurna Base Camp Heli Trek     \\r\\n$1,750  USD    9 Days   \n",
       "16           16  Annapurna Base Camp Heli Trek  \\r\\n$1,750     USD    9 Days   \n",
       "312         312  Annapurna Base Camp Heli Trek      \\r\\n$1,750 USD    9 Days   \n",
       "..          ...                            ...                 ...       ...   \n",
       "118         118           Upper Mustang Trek         $1,499    USD   17 Days   \n",
       "340         340           Upper Mustang Trek            $1,499 USD   17 Days   \n",
       "44           44           Upper Mustang Trek        $1,499     USD   17 Days   \n",
       "192         192           Upper Mustang Trek          $1,499   USD   17 Days   \n",
       "266         266           Upper Mustang Trek           $1,499  USD   17 Days   \n",
       "\n",
       "             Trip Grade Max Altitude      Accomodation  \\\n",
       "90     Easy To Moderate       4210 m   Hotel/Teahouses   \n",
       "164    Easy To Moderate       4210 m   Hotel/Teahouses   \n",
       "238    Easy To Moderate       4210 m   Hotel/Teahouses   \n",
       "16     Easy To Moderate       4210 m   Hotel/Teahouses   \n",
       "312    Easy To Moderate       4210 m   Hotel/Teahouses   \n",
       "..                  ...          ...               ...   \n",
       "118  Moderate+Demanding       3,870m  Hotel/Guesthouse   \n",
       "340  Moderate+Demanding       3,870m  Hotel/Guesthouse   \n",
       "44   Moderate+Demanding       3,870m  Hotel/Guesthouse   \n",
       "192  Moderate+Demanding       3,870m  Hotel/Guesthouse   \n",
       "266  Moderate+Demanding       3,870m  Hotel/Guesthouse   \n",
       "\n",
       "             Best Travel Time Date of Travel          Sex  ...  GraduateOrNot  \\\n",
       "90   March - May & Sept - Dec       8/7/2023  Transgender  ...            Yes   \n",
       "164  March - May & Sept - Dec      5/27/2023  Transgender  ...            Yes   \n",
       "238  March - May & Sept - Dec       5/7/2022   Non-Binary  ...            Yes   \n",
       "16   March - May & Sept - Dec      10/7/2022         Male  ...            Yes   \n",
       "312  March - May & Sept - Dec      6/24/2022   Non-Binary  ...            Yes   \n",
       "..                        ...            ...          ...  ...            ...   \n",
       "118    Jan - May & Sept - Dec      5/22/2022   Non-Binary  ...            Yes   \n",
       "340    Jan - May & Sept - Dec      9/29/2021         Male  ...             No   \n",
       "44     Jan - May & Sept - Dec      3/23/2022       Female  ...            Yes   \n",
       "192    Jan - May & Sept - Dec      3/12/2023   Non-Binary  ...            Yes   \n",
       "266    Jan - May & Sept - Dec     10/13/2021  Transgender  ...            Yes   \n",
       "\n",
       "    AnnualIncome FamilyMembers  ChronicDiseases  FrequentFlyer  \\\n",
       "90       1050000             3                0             No   \n",
       "164       300000             6                0             No   \n",
       "238       600000             3                1             No   \n",
       "16       1150000             4                1             No   \n",
       "312       850000             7                0             No   \n",
       "..           ...           ...              ...            ...   \n",
       "118      1500000             4                1            Yes   \n",
       "340       800000             7                1             No   \n",
       "44       1400000             7                0             No   \n",
       "192       800000             4                1             No   \n",
       "266       400000             5                0             No   \n",
       "\n",
       "     EverTravelledAbroad TravelInsurance  Year  Regional code  \\\n",
       "90                    No               0  2017           3980   \n",
       "164                   No               0  2017           7050   \n",
       "238                   No               0  2016           1520   \n",
       "16                    No               0  2017            560   \n",
       "312                   No               0  2016           4540   \n",
       "..                   ...             ...   ...            ...   \n",
       "118                  Yes               1  2017           4960   \n",
       "340                   No               0  2016           5860   \n",
       "44                   Yes               1  2017           1910   \n",
       "192                  Yes               0  2017           8400   \n",
       "266                   No               0  2016           2660   \n",
       "\n",
       "                      Country  \n",
       "90                 Kazakhstan  \n",
       "164                  Slovenia  \n",
       "238                     Chile  \n",
       "16                    Belgium  \n",
       "312                    Malawi  \n",
       "..                        ...  \n",
       "118                  Mongolia  \n",
       "340                  Pakistan  \n",
       "44                    Croatia  \n",
       "192  united states of america  \n",
       "266                     Gabon  \n",
       "\n",
       "[383 rows x 22 columns]"
      ]
     },
     "execution_count": 37,
     "metadata": {},
     "output_type": "execute_result"
    }
   ],
   "source": [
    "# Alphabetical Order\n",
    "df = df.sort_values(\"Trek\")\n",
    "df"
   ]
  },
  {
   "cell_type": "code",
   "execution_count": 38,
   "metadata": {},
   "outputs": [
    {
     "name": "stdout",
     "output_type": "stream",
     "text": [
      "Top 5 popular treks:\n"
     ]
    },
    {
     "data": {
      "text/plain": [
       "Trek\n",
       "Annapurna Base Camp Trek    10\n",
       "Annapurna Circuit Trek      10\n",
       "Mardi Himal Trek            10\n",
       "Upper Mustang Trek          10\n",
       "Manaslu Circuit Trek        10\n",
       "Name: count, dtype: int64"
      ]
     },
     "execution_count": 38,
     "metadata": {},
     "output_type": "execute_result"
    }
   ],
   "source": [
    "print(\"Top 5 popular treks:\")\n",
    "df['Trek'].value_counts().head(5)"
   ]
  },
  {
   "cell_type": "code",
   "execution_count": 39,
   "metadata": {},
   "outputs": [
    {
     "data": {
      "text/html": [
       "<div>\n",
       "<style scoped>\n",
       "    .dataframe tbody tr th:only-of-type {\n",
       "        vertical-align: middle;\n",
       "    }\n",
       "\n",
       "    .dataframe tbody tr th {\n",
       "        vertical-align: top;\n",
       "    }\n",
       "\n",
       "    .dataframe thead th {\n",
       "        text-align: right;\n",
       "    }\n",
       "</style>\n",
       "<table border=\"1\" class=\"dataframe\">\n",
       "  <thead>\n",
       "    <tr style=\"text-align: right;\">\n",
       "      <th></th>\n",
       "      <th>Trek</th>\n",
       "      <th>Cost</th>\n",
       "      <th>Time</th>\n",
       "      <th>Trip Grade</th>\n",
       "      <th>Max Altitude</th>\n",
       "      <th>Accomodation</th>\n",
       "      <th>Best Travel Time</th>\n",
       "      <th>Date of Travel</th>\n",
       "      <th>Sex</th>\n",
       "      <th>Age</th>\n",
       "      <th>...</th>\n",
       "      <th>GraduateOrNot</th>\n",
       "      <th>AnnualIncome</th>\n",
       "      <th>FamilyMembers</th>\n",
       "      <th>ChronicDiseases</th>\n",
       "      <th>FrequentFlyer</th>\n",
       "      <th>EverTravelledAbroad</th>\n",
       "      <th>TravelInsurance</th>\n",
       "      <th>Year</th>\n",
       "      <th>Regional code</th>\n",
       "      <th>Country</th>\n",
       "    </tr>\n",
       "  </thead>\n",
       "  <tbody>\n",
       "    <tr>\n",
       "      <th>90</th>\n",
       "      <td>Annapurna Base Camp Heli Trek</td>\n",
       "      <td>\\r\\n$1,750    USD</td>\n",
       "      <td>9 Days</td>\n",
       "      <td>Easy To Moderate</td>\n",
       "      <td>4210 m</td>\n",
       "      <td>Hotel/Teahouses</td>\n",
       "      <td>March - May &amp; Sept - Dec</td>\n",
       "      <td>8/7/2023</td>\n",
       "      <td>Transgender</td>\n",
       "      <td>27</td>\n",
       "      <td>...</td>\n",
       "      <td>Yes</td>\n",
       "      <td>1050000</td>\n",
       "      <td>3</td>\n",
       "      <td>0</td>\n",
       "      <td>No</td>\n",
       "      <td>No</td>\n",
       "      <td>0</td>\n",
       "      <td>2017</td>\n",
       "      <td>3980</td>\n",
       "      <td>Kazakhstan</td>\n",
       "    </tr>\n",
       "    <tr>\n",
       "      <th>164</th>\n",
       "      <td>Annapurna Base Camp Heli Trek</td>\n",
       "      <td>\\r\\n$1,750   USD</td>\n",
       "      <td>9 Days</td>\n",
       "      <td>Easy To Moderate</td>\n",
       "      <td>4210 m</td>\n",
       "      <td>Hotel/Teahouses</td>\n",
       "      <td>March - May &amp; Sept - Dec</td>\n",
       "      <td>5/27/2023</td>\n",
       "      <td>Transgender</td>\n",
       "      <td>28</td>\n",
       "      <td>...</td>\n",
       "      <td>Yes</td>\n",
       "      <td>300000</td>\n",
       "      <td>6</td>\n",
       "      <td>0</td>\n",
       "      <td>No</td>\n",
       "      <td>No</td>\n",
       "      <td>0</td>\n",
       "      <td>2017</td>\n",
       "      <td>7050</td>\n",
       "      <td>Slovenia</td>\n",
       "    </tr>\n",
       "    <tr>\n",
       "      <th>238</th>\n",
       "      <td>Annapurna Base Camp Heli Trek</td>\n",
       "      <td>\\r\\n$1,750  USD</td>\n",
       "      <td>9 Days</td>\n",
       "      <td>Easy To Moderate</td>\n",
       "      <td>4210 m</td>\n",
       "      <td>Hotel/Teahouses</td>\n",
       "      <td>March - May &amp; Sept - Dec</td>\n",
       "      <td>5/7/2022</td>\n",
       "      <td>Non-Binary</td>\n",
       "      <td>29</td>\n",
       "      <td>...</td>\n",
       "      <td>Yes</td>\n",
       "      <td>600000</td>\n",
       "      <td>3</td>\n",
       "      <td>1</td>\n",
       "      <td>No</td>\n",
       "      <td>No</td>\n",
       "      <td>0</td>\n",
       "      <td>2016</td>\n",
       "      <td>1520</td>\n",
       "      <td>Chile</td>\n",
       "    </tr>\n",
       "    <tr>\n",
       "      <th>16</th>\n",
       "      <td>Annapurna Base Camp Heli Trek</td>\n",
       "      <td>\\r\\n$1,750     USD</td>\n",
       "      <td>9 Days</td>\n",
       "      <td>Easy To Moderate</td>\n",
       "      <td>4210 m</td>\n",
       "      <td>Hotel/Teahouses</td>\n",
       "      <td>March - May &amp; Sept - Dec</td>\n",
       "      <td>10/7/2022</td>\n",
       "      <td>Male</td>\n",
       "      <td>28</td>\n",
       "      <td>...</td>\n",
       "      <td>Yes</td>\n",
       "      <td>1150000</td>\n",
       "      <td>4</td>\n",
       "      <td>1</td>\n",
       "      <td>No</td>\n",
       "      <td>No</td>\n",
       "      <td>0</td>\n",
       "      <td>2017</td>\n",
       "      <td>560</td>\n",
       "      <td>Belgium</td>\n",
       "    </tr>\n",
       "    <tr>\n",
       "      <th>312</th>\n",
       "      <td>Annapurna Base Camp Heli Trek</td>\n",
       "      <td>\\r\\n$1,750 USD</td>\n",
       "      <td>9 Days</td>\n",
       "      <td>Easy To Moderate</td>\n",
       "      <td>4210 m</td>\n",
       "      <td>Hotel/Teahouses</td>\n",
       "      <td>March - May &amp; Sept - Dec</td>\n",
       "      <td>6/24/2022</td>\n",
       "      <td>Non-Binary</td>\n",
       "      <td>32</td>\n",
       "      <td>...</td>\n",
       "      <td>Yes</td>\n",
       "      <td>850000</td>\n",
       "      <td>7</td>\n",
       "      <td>0</td>\n",
       "      <td>No</td>\n",
       "      <td>No</td>\n",
       "      <td>0</td>\n",
       "      <td>2016</td>\n",
       "      <td>4540</td>\n",
       "      <td>Malawi</td>\n",
       "    </tr>\n",
       "    <tr>\n",
       "      <th>...</th>\n",
       "      <td>...</td>\n",
       "      <td>...</td>\n",
       "      <td>...</td>\n",
       "      <td>...</td>\n",
       "      <td>...</td>\n",
       "      <td>...</td>\n",
       "      <td>...</td>\n",
       "      <td>...</td>\n",
       "      <td>...</td>\n",
       "      <td>...</td>\n",
       "      <td>...</td>\n",
       "      <td>...</td>\n",
       "      <td>...</td>\n",
       "      <td>...</td>\n",
       "      <td>...</td>\n",
       "      <td>...</td>\n",
       "      <td>...</td>\n",
       "      <td>...</td>\n",
       "      <td>...</td>\n",
       "      <td>...</td>\n",
       "      <td>...</td>\n",
       "    </tr>\n",
       "    <tr>\n",
       "      <th>118</th>\n",
       "      <td>Upper Mustang Trek</td>\n",
       "      <td>$1,499    USD</td>\n",
       "      <td>17 Days</td>\n",
       "      <td>Moderate+Demanding</td>\n",
       "      <td>3,870m</td>\n",
       "      <td>Hotel/Guesthouse</td>\n",
       "      <td>Jan - May &amp; Sept - Dec</td>\n",
       "      <td>5/22/2022</td>\n",
       "      <td>Non-Binary</td>\n",
       "      <td>31</td>\n",
       "      <td>...</td>\n",
       "      <td>Yes</td>\n",
       "      <td>1500000</td>\n",
       "      <td>4</td>\n",
       "      <td>1</td>\n",
       "      <td>Yes</td>\n",
       "      <td>Yes</td>\n",
       "      <td>1</td>\n",
       "      <td>2017</td>\n",
       "      <td>4960</td>\n",
       "      <td>Mongolia</td>\n",
       "    </tr>\n",
       "    <tr>\n",
       "      <th>340</th>\n",
       "      <td>Upper Mustang Trek</td>\n",
       "      <td>$1,499 USD</td>\n",
       "      <td>17 Days</td>\n",
       "      <td>Moderate+Demanding</td>\n",
       "      <td>3,870m</td>\n",
       "      <td>Hotel/Guesthouse</td>\n",
       "      <td>Jan - May &amp; Sept - Dec</td>\n",
       "      <td>9/29/2021</td>\n",
       "      <td>Male</td>\n",
       "      <td>27</td>\n",
       "      <td>...</td>\n",
       "      <td>No</td>\n",
       "      <td>800000</td>\n",
       "      <td>7</td>\n",
       "      <td>1</td>\n",
       "      <td>No</td>\n",
       "      <td>No</td>\n",
       "      <td>0</td>\n",
       "      <td>2016</td>\n",
       "      <td>5860</td>\n",
       "      <td>Pakistan</td>\n",
       "    </tr>\n",
       "    <tr>\n",
       "      <th>44</th>\n",
       "      <td>Upper Mustang Trek</td>\n",
       "      <td>$1,499     USD</td>\n",
       "      <td>17 Days</td>\n",
       "      <td>Moderate+Demanding</td>\n",
       "      <td>3,870m</td>\n",
       "      <td>Hotel/Guesthouse</td>\n",
       "      <td>Jan - May &amp; Sept - Dec</td>\n",
       "      <td>3/23/2022</td>\n",
       "      <td>Female</td>\n",
       "      <td>25</td>\n",
       "      <td>...</td>\n",
       "      <td>Yes</td>\n",
       "      <td>1400000</td>\n",
       "      <td>7</td>\n",
       "      <td>0</td>\n",
       "      <td>No</td>\n",
       "      <td>Yes</td>\n",
       "      <td>1</td>\n",
       "      <td>2017</td>\n",
       "      <td>1910</td>\n",
       "      <td>Croatia</td>\n",
       "    </tr>\n",
       "    <tr>\n",
       "      <th>192</th>\n",
       "      <td>Upper Mustang Trek</td>\n",
       "      <td>$1,499   USD</td>\n",
       "      <td>17 Days</td>\n",
       "      <td>Moderate+Demanding</td>\n",
       "      <td>3,870m</td>\n",
       "      <td>Hotel/Guesthouse</td>\n",
       "      <td>Jan - May &amp; Sept - Dec</td>\n",
       "      <td>3/12/2023</td>\n",
       "      <td>Non-Binary</td>\n",
       "      <td>28</td>\n",
       "      <td>...</td>\n",
       "      <td>Yes</td>\n",
       "      <td>800000</td>\n",
       "      <td>4</td>\n",
       "      <td>1</td>\n",
       "      <td>No</td>\n",
       "      <td>Yes</td>\n",
       "      <td>0</td>\n",
       "      <td>2017</td>\n",
       "      <td>8400</td>\n",
       "      <td>united states of america</td>\n",
       "    </tr>\n",
       "    <tr>\n",
       "      <th>266</th>\n",
       "      <td>Upper Mustang Trek</td>\n",
       "      <td>$1,499  USD</td>\n",
       "      <td>17 Days</td>\n",
       "      <td>Moderate+Demanding</td>\n",
       "      <td>3,870m</td>\n",
       "      <td>Hotel/Guesthouse</td>\n",
       "      <td>Jan - May &amp; Sept - Dec</td>\n",
       "      <td>10/13/2021</td>\n",
       "      <td>Transgender</td>\n",
       "      <td>31</td>\n",
       "      <td>...</td>\n",
       "      <td>Yes</td>\n",
       "      <td>400000</td>\n",
       "      <td>5</td>\n",
       "      <td>0</td>\n",
       "      <td>No</td>\n",
       "      <td>No</td>\n",
       "      <td>0</td>\n",
       "      <td>2016</td>\n",
       "      <td>2660</td>\n",
       "      <td>Gabon</td>\n",
       "    </tr>\n",
       "  </tbody>\n",
       "</table>\n",
       "<p>383 rows × 21 columns</p>\n",
       "</div>"
      ],
      "text/plain": [
       "                              Trek                Cost      Time  \\\n",
       "90   Annapurna Base Camp Heli Trek   \\r\\n$1,750    USD    9 Days   \n",
       "164  Annapurna Base Camp Heli Trek    \\r\\n$1,750   USD    9 Days   \n",
       "238  Annapurna Base Camp Heli Trek     \\r\\n$1,750  USD    9 Days   \n",
       "16   Annapurna Base Camp Heli Trek  \\r\\n$1,750     USD    9 Days   \n",
       "312  Annapurna Base Camp Heli Trek      \\r\\n$1,750 USD    9 Days   \n",
       "..                             ...                 ...       ...   \n",
       "118           Upper Mustang Trek         $1,499    USD   17 Days   \n",
       "340           Upper Mustang Trek            $1,499 USD   17 Days   \n",
       "44            Upper Mustang Trek        $1,499     USD   17 Days   \n",
       "192           Upper Mustang Trek          $1,499   USD   17 Days   \n",
       "266           Upper Mustang Trek           $1,499  USD   17 Days   \n",
       "\n",
       "             Trip Grade Max Altitude      Accomodation  \\\n",
       "90     Easy To Moderate       4210 m   Hotel/Teahouses   \n",
       "164    Easy To Moderate       4210 m   Hotel/Teahouses   \n",
       "238    Easy To Moderate       4210 m   Hotel/Teahouses   \n",
       "16     Easy To Moderate       4210 m   Hotel/Teahouses   \n",
       "312    Easy To Moderate       4210 m   Hotel/Teahouses   \n",
       "..                  ...          ...               ...   \n",
       "118  Moderate+Demanding       3,870m  Hotel/Guesthouse   \n",
       "340  Moderate+Demanding       3,870m  Hotel/Guesthouse   \n",
       "44   Moderate+Demanding       3,870m  Hotel/Guesthouse   \n",
       "192  Moderate+Demanding       3,870m  Hotel/Guesthouse   \n",
       "266  Moderate+Demanding       3,870m  Hotel/Guesthouse   \n",
       "\n",
       "             Best Travel Time Date of Travel          Sex  Age  ...  \\\n",
       "90   March - May & Sept - Dec       8/7/2023  Transgender   27  ...   \n",
       "164  March - May & Sept - Dec      5/27/2023  Transgender   28  ...   \n",
       "238  March - May & Sept - Dec       5/7/2022   Non-Binary   29  ...   \n",
       "16   March - May & Sept - Dec      10/7/2022         Male   28  ...   \n",
       "312  March - May & Sept - Dec      6/24/2022   Non-Binary   32  ...   \n",
       "..                        ...            ...          ...  ...  ...   \n",
       "118    Jan - May & Sept - Dec      5/22/2022   Non-Binary   31  ...   \n",
       "340    Jan - May & Sept - Dec      9/29/2021         Male   27  ...   \n",
       "44     Jan - May & Sept - Dec      3/23/2022       Female   25  ...   \n",
       "192    Jan - May & Sept - Dec      3/12/2023   Non-Binary   28  ...   \n",
       "266    Jan - May & Sept - Dec     10/13/2021  Transgender   31  ...   \n",
       "\n",
       "    GraduateOrNot AnnualIncome  FamilyMembers  ChronicDiseases  FrequentFlyer  \\\n",
       "90            Yes      1050000              3                0             No   \n",
       "164           Yes       300000              6                0             No   \n",
       "238           Yes       600000              3                1             No   \n",
       "16            Yes      1150000              4                1             No   \n",
       "312           Yes       850000              7                0             No   \n",
       "..            ...          ...            ...              ...            ...   \n",
       "118           Yes      1500000              4                1            Yes   \n",
       "340            No       800000              7                1             No   \n",
       "44            Yes      1400000              7                0             No   \n",
       "192           Yes       800000              4                1             No   \n",
       "266           Yes       400000              5                0             No   \n",
       "\n",
       "    EverTravelledAbroad TravelInsurance  Year  Regional code  \\\n",
       "90                   No               0  2017           3980   \n",
       "164                  No               0  2017           7050   \n",
       "238                  No               0  2016           1520   \n",
       "16                   No               0  2017            560   \n",
       "312                  No               0  2016           4540   \n",
       "..                  ...             ...   ...            ...   \n",
       "118                 Yes               1  2017           4960   \n",
       "340                  No               0  2016           5860   \n",
       "44                  Yes               1  2017           1910   \n",
       "192                 Yes               0  2017           8400   \n",
       "266                  No               0  2016           2660   \n",
       "\n",
       "                      Country  \n",
       "90                 Kazakhstan  \n",
       "164                  Slovenia  \n",
       "238                     Chile  \n",
       "16                    Belgium  \n",
       "312                    Malawi  \n",
       "..                        ...  \n",
       "118                  Mongolia  \n",
       "340                  Pakistan  \n",
       "44                    Croatia  \n",
       "192  united states of america  \n",
       "266                     Gabon  \n",
       "\n",
       "[383 rows x 21 columns]"
      ]
     },
     "execution_count": 39,
     "metadata": {},
     "output_type": "execute_result"
    }
   ],
   "source": [
    "# Dropping Unnecessary Columns\n",
    "df = df.drop(\"Unnamed: 0\", axis=1)\n",
    "df"
   ]
  },
  {
   "cell_type": "code",
   "execution_count": 40,
   "metadata": {},
   "outputs": [
    {
     "data": {
      "text/html": [
       "<div>\n",
       "<style scoped>\n",
       "    .dataframe tbody tr th:only-of-type {\n",
       "        vertical-align: middle;\n",
       "    }\n",
       "\n",
       "    .dataframe tbody tr th {\n",
       "        vertical-align: top;\n",
       "    }\n",
       "\n",
       "    .dataframe thead th {\n",
       "        text-align: right;\n",
       "    }\n",
       "</style>\n",
       "<table border=\"1\" class=\"dataframe\">\n",
       "  <thead>\n",
       "    <tr style=\"text-align: right;\">\n",
       "      <th></th>\n",
       "      <th>Trek</th>\n",
       "      <th>Cost</th>\n",
       "      <th>Time</th>\n",
       "      <th>Trip Grade</th>\n",
       "      <th>Max Altitude</th>\n",
       "      <th>Accomodation</th>\n",
       "      <th>Best Travel Time</th>\n",
       "      <th>Date of Travel</th>\n",
       "      <th>Sex</th>\n",
       "      <th>Age</th>\n",
       "      <th>...</th>\n",
       "      <th>GraduateOrNot</th>\n",
       "      <th>AnnualIncome</th>\n",
       "      <th>FamilyMembers</th>\n",
       "      <th>ChronicDiseases</th>\n",
       "      <th>FrequentFlyer</th>\n",
       "      <th>EverTravelledAbroad</th>\n",
       "      <th>TravelInsurance</th>\n",
       "      <th>Year</th>\n",
       "      <th>Regional code</th>\n",
       "      <th>Country</th>\n",
       "    </tr>\n",
       "  </thead>\n",
       "  <tbody>\n",
       "    <tr>\n",
       "      <th>0</th>\n",
       "      <td>Annapurna Base Camp Heli Trek</td>\n",
       "      <td>\\r\\n$1,750    USD</td>\n",
       "      <td>9 Days</td>\n",
       "      <td>Easy To Moderate</td>\n",
       "      <td>4210 m</td>\n",
       "      <td>Hotel/Teahouses</td>\n",
       "      <td>March - May &amp; Sept - Dec</td>\n",
       "      <td>8/7/2023</td>\n",
       "      <td>Transgender</td>\n",
       "      <td>27</td>\n",
       "      <td>...</td>\n",
       "      <td>Yes</td>\n",
       "      <td>1050000</td>\n",
       "      <td>3</td>\n",
       "      <td>0</td>\n",
       "      <td>No</td>\n",
       "      <td>No</td>\n",
       "      <td>0</td>\n",
       "      <td>2017</td>\n",
       "      <td>3980</td>\n",
       "      <td>Kazakhstan</td>\n",
       "    </tr>\n",
       "    <tr>\n",
       "      <th>1</th>\n",
       "      <td>Annapurna Base Camp Heli Trek</td>\n",
       "      <td>\\r\\n$1,750   USD</td>\n",
       "      <td>9 Days</td>\n",
       "      <td>Easy To Moderate</td>\n",
       "      <td>4210 m</td>\n",
       "      <td>Hotel/Teahouses</td>\n",
       "      <td>March - May &amp; Sept - Dec</td>\n",
       "      <td>5/27/2023</td>\n",
       "      <td>Transgender</td>\n",
       "      <td>28</td>\n",
       "      <td>...</td>\n",
       "      <td>Yes</td>\n",
       "      <td>300000</td>\n",
       "      <td>6</td>\n",
       "      <td>0</td>\n",
       "      <td>No</td>\n",
       "      <td>No</td>\n",
       "      <td>0</td>\n",
       "      <td>2017</td>\n",
       "      <td>7050</td>\n",
       "      <td>Slovenia</td>\n",
       "    </tr>\n",
       "    <tr>\n",
       "      <th>2</th>\n",
       "      <td>Annapurna Base Camp Heli Trek</td>\n",
       "      <td>\\r\\n$1,750  USD</td>\n",
       "      <td>9 Days</td>\n",
       "      <td>Easy To Moderate</td>\n",
       "      <td>4210 m</td>\n",
       "      <td>Hotel/Teahouses</td>\n",
       "      <td>March - May &amp; Sept - Dec</td>\n",
       "      <td>5/7/2022</td>\n",
       "      <td>Non-Binary</td>\n",
       "      <td>29</td>\n",
       "      <td>...</td>\n",
       "      <td>Yes</td>\n",
       "      <td>600000</td>\n",
       "      <td>3</td>\n",
       "      <td>1</td>\n",
       "      <td>No</td>\n",
       "      <td>No</td>\n",
       "      <td>0</td>\n",
       "      <td>2016</td>\n",
       "      <td>1520</td>\n",
       "      <td>Chile</td>\n",
       "    </tr>\n",
       "    <tr>\n",
       "      <th>3</th>\n",
       "      <td>Annapurna Base Camp Heli Trek</td>\n",
       "      <td>\\r\\n$1,750     USD</td>\n",
       "      <td>9 Days</td>\n",
       "      <td>Easy To Moderate</td>\n",
       "      <td>4210 m</td>\n",
       "      <td>Hotel/Teahouses</td>\n",
       "      <td>March - May &amp; Sept - Dec</td>\n",
       "      <td>10/7/2022</td>\n",
       "      <td>Male</td>\n",
       "      <td>28</td>\n",
       "      <td>...</td>\n",
       "      <td>Yes</td>\n",
       "      <td>1150000</td>\n",
       "      <td>4</td>\n",
       "      <td>1</td>\n",
       "      <td>No</td>\n",
       "      <td>No</td>\n",
       "      <td>0</td>\n",
       "      <td>2017</td>\n",
       "      <td>560</td>\n",
       "      <td>Belgium</td>\n",
       "    </tr>\n",
       "    <tr>\n",
       "      <th>4</th>\n",
       "      <td>Annapurna Base Camp Heli Trek</td>\n",
       "      <td>\\r\\n$1,750 USD</td>\n",
       "      <td>9 Days</td>\n",
       "      <td>Easy To Moderate</td>\n",
       "      <td>4210 m</td>\n",
       "      <td>Hotel/Teahouses</td>\n",
       "      <td>March - May &amp; Sept - Dec</td>\n",
       "      <td>6/24/2022</td>\n",
       "      <td>Non-Binary</td>\n",
       "      <td>32</td>\n",
       "      <td>...</td>\n",
       "      <td>Yes</td>\n",
       "      <td>850000</td>\n",
       "      <td>7</td>\n",
       "      <td>0</td>\n",
       "      <td>No</td>\n",
       "      <td>No</td>\n",
       "      <td>0</td>\n",
       "      <td>2016</td>\n",
       "      <td>4540</td>\n",
       "      <td>Malawi</td>\n",
       "    </tr>\n",
       "    <tr>\n",
       "      <th>...</th>\n",
       "      <td>...</td>\n",
       "      <td>...</td>\n",
       "      <td>...</td>\n",
       "      <td>...</td>\n",
       "      <td>...</td>\n",
       "      <td>...</td>\n",
       "      <td>...</td>\n",
       "      <td>...</td>\n",
       "      <td>...</td>\n",
       "      <td>...</td>\n",
       "      <td>...</td>\n",
       "      <td>...</td>\n",
       "      <td>...</td>\n",
       "      <td>...</td>\n",
       "      <td>...</td>\n",
       "      <td>...</td>\n",
       "      <td>...</td>\n",
       "      <td>...</td>\n",
       "      <td>...</td>\n",
       "      <td>...</td>\n",
       "      <td>...</td>\n",
       "    </tr>\n",
       "    <tr>\n",
       "      <th>378</th>\n",
       "      <td>Upper Mustang Trek</td>\n",
       "      <td>$1,499    USD</td>\n",
       "      <td>17 Days</td>\n",
       "      <td>Moderate+Demanding</td>\n",
       "      <td>3,870m</td>\n",
       "      <td>Hotel/Guesthouse</td>\n",
       "      <td>Jan - May &amp; Sept - Dec</td>\n",
       "      <td>5/22/2022</td>\n",
       "      <td>Non-Binary</td>\n",
       "      <td>31</td>\n",
       "      <td>...</td>\n",
       "      <td>Yes</td>\n",
       "      <td>1500000</td>\n",
       "      <td>4</td>\n",
       "      <td>1</td>\n",
       "      <td>Yes</td>\n",
       "      <td>Yes</td>\n",
       "      <td>1</td>\n",
       "      <td>2017</td>\n",
       "      <td>4960</td>\n",
       "      <td>Mongolia</td>\n",
       "    </tr>\n",
       "    <tr>\n",
       "      <th>379</th>\n",
       "      <td>Upper Mustang Trek</td>\n",
       "      <td>$1,499 USD</td>\n",
       "      <td>17 Days</td>\n",
       "      <td>Moderate+Demanding</td>\n",
       "      <td>3,870m</td>\n",
       "      <td>Hotel/Guesthouse</td>\n",
       "      <td>Jan - May &amp; Sept - Dec</td>\n",
       "      <td>9/29/2021</td>\n",
       "      <td>Male</td>\n",
       "      <td>27</td>\n",
       "      <td>...</td>\n",
       "      <td>No</td>\n",
       "      <td>800000</td>\n",
       "      <td>7</td>\n",
       "      <td>1</td>\n",
       "      <td>No</td>\n",
       "      <td>No</td>\n",
       "      <td>0</td>\n",
       "      <td>2016</td>\n",
       "      <td>5860</td>\n",
       "      <td>Pakistan</td>\n",
       "    </tr>\n",
       "    <tr>\n",
       "      <th>380</th>\n",
       "      <td>Upper Mustang Trek</td>\n",
       "      <td>$1,499     USD</td>\n",
       "      <td>17 Days</td>\n",
       "      <td>Moderate+Demanding</td>\n",
       "      <td>3,870m</td>\n",
       "      <td>Hotel/Guesthouse</td>\n",
       "      <td>Jan - May &amp; Sept - Dec</td>\n",
       "      <td>3/23/2022</td>\n",
       "      <td>Female</td>\n",
       "      <td>25</td>\n",
       "      <td>...</td>\n",
       "      <td>Yes</td>\n",
       "      <td>1400000</td>\n",
       "      <td>7</td>\n",
       "      <td>0</td>\n",
       "      <td>No</td>\n",
       "      <td>Yes</td>\n",
       "      <td>1</td>\n",
       "      <td>2017</td>\n",
       "      <td>1910</td>\n",
       "      <td>Croatia</td>\n",
       "    </tr>\n",
       "    <tr>\n",
       "      <th>381</th>\n",
       "      <td>Upper Mustang Trek</td>\n",
       "      <td>$1,499   USD</td>\n",
       "      <td>17 Days</td>\n",
       "      <td>Moderate+Demanding</td>\n",
       "      <td>3,870m</td>\n",
       "      <td>Hotel/Guesthouse</td>\n",
       "      <td>Jan - May &amp; Sept - Dec</td>\n",
       "      <td>3/12/2023</td>\n",
       "      <td>Non-Binary</td>\n",
       "      <td>28</td>\n",
       "      <td>...</td>\n",
       "      <td>Yes</td>\n",
       "      <td>800000</td>\n",
       "      <td>4</td>\n",
       "      <td>1</td>\n",
       "      <td>No</td>\n",
       "      <td>Yes</td>\n",
       "      <td>0</td>\n",
       "      <td>2017</td>\n",
       "      <td>8400</td>\n",
       "      <td>united states of america</td>\n",
       "    </tr>\n",
       "    <tr>\n",
       "      <th>382</th>\n",
       "      <td>Upper Mustang Trek</td>\n",
       "      <td>$1,499  USD</td>\n",
       "      <td>17 Days</td>\n",
       "      <td>Moderate+Demanding</td>\n",
       "      <td>3,870m</td>\n",
       "      <td>Hotel/Guesthouse</td>\n",
       "      <td>Jan - May &amp; Sept - Dec</td>\n",
       "      <td>10/13/2021</td>\n",
       "      <td>Transgender</td>\n",
       "      <td>31</td>\n",
       "      <td>...</td>\n",
       "      <td>Yes</td>\n",
       "      <td>400000</td>\n",
       "      <td>5</td>\n",
       "      <td>0</td>\n",
       "      <td>No</td>\n",
       "      <td>No</td>\n",
       "      <td>0</td>\n",
       "      <td>2016</td>\n",
       "      <td>2660</td>\n",
       "      <td>Gabon</td>\n",
       "    </tr>\n",
       "  </tbody>\n",
       "</table>\n",
       "<p>383 rows × 21 columns</p>\n",
       "</div>"
      ],
      "text/plain": [
       "                              Trek                Cost      Time  \\\n",
       "0    Annapurna Base Camp Heli Trek   \\r\\n$1,750    USD    9 Days   \n",
       "1    Annapurna Base Camp Heli Trek    \\r\\n$1,750   USD    9 Days   \n",
       "2    Annapurna Base Camp Heli Trek     \\r\\n$1,750  USD    9 Days   \n",
       "3    Annapurna Base Camp Heli Trek  \\r\\n$1,750     USD    9 Days   \n",
       "4    Annapurna Base Camp Heli Trek      \\r\\n$1,750 USD    9 Days   \n",
       "..                             ...                 ...       ...   \n",
       "378           Upper Mustang Trek         $1,499    USD   17 Days   \n",
       "379           Upper Mustang Trek            $1,499 USD   17 Days   \n",
       "380           Upper Mustang Trek        $1,499     USD   17 Days   \n",
       "381           Upper Mustang Trek          $1,499   USD   17 Days   \n",
       "382           Upper Mustang Trek           $1,499  USD   17 Days   \n",
       "\n",
       "             Trip Grade Max Altitude      Accomodation  \\\n",
       "0      Easy To Moderate       4210 m   Hotel/Teahouses   \n",
       "1      Easy To Moderate       4210 m   Hotel/Teahouses   \n",
       "2      Easy To Moderate       4210 m   Hotel/Teahouses   \n",
       "3      Easy To Moderate       4210 m   Hotel/Teahouses   \n",
       "4      Easy To Moderate       4210 m   Hotel/Teahouses   \n",
       "..                  ...          ...               ...   \n",
       "378  Moderate+Demanding       3,870m  Hotel/Guesthouse   \n",
       "379  Moderate+Demanding       3,870m  Hotel/Guesthouse   \n",
       "380  Moderate+Demanding       3,870m  Hotel/Guesthouse   \n",
       "381  Moderate+Demanding       3,870m  Hotel/Guesthouse   \n",
       "382  Moderate+Demanding       3,870m  Hotel/Guesthouse   \n",
       "\n",
       "             Best Travel Time Date of Travel          Sex  Age  ...  \\\n",
       "0    March - May & Sept - Dec       8/7/2023  Transgender   27  ...   \n",
       "1    March - May & Sept - Dec      5/27/2023  Transgender   28  ...   \n",
       "2    March - May & Sept - Dec       5/7/2022   Non-Binary   29  ...   \n",
       "3    March - May & Sept - Dec      10/7/2022         Male   28  ...   \n",
       "4    March - May & Sept - Dec      6/24/2022   Non-Binary   32  ...   \n",
       "..                        ...            ...          ...  ...  ...   \n",
       "378    Jan - May & Sept - Dec      5/22/2022   Non-Binary   31  ...   \n",
       "379    Jan - May & Sept - Dec      9/29/2021         Male   27  ...   \n",
       "380    Jan - May & Sept - Dec      3/23/2022       Female   25  ...   \n",
       "381    Jan - May & Sept - Dec      3/12/2023   Non-Binary   28  ...   \n",
       "382    Jan - May & Sept - Dec     10/13/2021  Transgender   31  ...   \n",
       "\n",
       "    GraduateOrNot AnnualIncome  FamilyMembers  ChronicDiseases  FrequentFlyer  \\\n",
       "0             Yes      1050000              3                0             No   \n",
       "1             Yes       300000              6                0             No   \n",
       "2             Yes       600000              3                1             No   \n",
       "3             Yes      1150000              4                1             No   \n",
       "4             Yes       850000              7                0             No   \n",
       "..            ...          ...            ...              ...            ...   \n",
       "378           Yes      1500000              4                1            Yes   \n",
       "379            No       800000              7                1             No   \n",
       "380           Yes      1400000              7                0             No   \n",
       "381           Yes       800000              4                1             No   \n",
       "382           Yes       400000              5                0             No   \n",
       "\n",
       "    EverTravelledAbroad TravelInsurance  Year  Regional code  \\\n",
       "0                    No               0  2017           3980   \n",
       "1                    No               0  2017           7050   \n",
       "2                    No               0  2016           1520   \n",
       "3                    No               0  2017            560   \n",
       "4                    No               0  2016           4540   \n",
       "..                  ...             ...   ...            ...   \n",
       "378                 Yes               1  2017           4960   \n",
       "379                  No               0  2016           5860   \n",
       "380                 Yes               1  2017           1910   \n",
       "381                 Yes               0  2017           8400   \n",
       "382                  No               0  2016           2660   \n",
       "\n",
       "                      Country  \n",
       "0                  Kazakhstan  \n",
       "1                    Slovenia  \n",
       "2                       Chile  \n",
       "3                     Belgium  \n",
       "4                      Malawi  \n",
       "..                        ...  \n",
       "378                  Mongolia  \n",
       "379                  Pakistan  \n",
       "380                   Croatia  \n",
       "381  united states of america  \n",
       "382                     Gabon  \n",
       "\n",
       "[383 rows x 21 columns]"
      ]
     },
     "execution_count": 40,
     "metadata": {},
     "output_type": "execute_result"
    }
   ],
   "source": [
    "# Index Reset\n",
    "df= df.reset_index(drop=True)\n",
    "df"
   ]
  },
  {
   "cell_type": "markdown",
   "metadata": {},
   "source": [
    "# Data Cleaning"
   ]
  },
  {
   "cell_type": "code",
   "execution_count": 41,
   "metadata": {},
   "outputs": [
    {
     "data": {
      "text/plain": [
       "0    Annapurna Base Camp Heli Trek\n",
       "1    Annapurna Base Camp Heli Trek\n",
       "2    Annapurna Base Camp Heli Trek\n",
       "3    Annapurna Base Camp Heli Trek\n",
       "4    Annapurna Base Camp Heli Trek\n",
       "Name: Trek, dtype: object"
      ]
     },
     "execution_count": 41,
     "metadata": {},
     "output_type": "execute_result"
    }
   ],
   "source": [
    "# Cleaning Treak Column\n",
    "df['Trek'] = df['Trek'].str.replace(r'[^\\x00-\\x7F]+', '', regex=True)\n",
    "df['Trek'].head(5)"
   ]
  },
  {
   "cell_type": "code",
   "execution_count": 42,
   "metadata": {},
   "outputs": [
    {
     "data": {
      "text/html": [
       "<div>\n",
       "<style scoped>\n",
       "    .dataframe tbody tr th:only-of-type {\n",
       "        vertical-align: middle;\n",
       "    }\n",
       "\n",
       "    .dataframe tbody tr th {\n",
       "        vertical-align: top;\n",
       "    }\n",
       "\n",
       "    .dataframe thead th {\n",
       "        text-align: right;\n",
       "    }\n",
       "</style>\n",
       "<table border=\"1\" class=\"dataframe\">\n",
       "  <thead>\n",
       "    <tr style=\"text-align: right;\">\n",
       "      <th></th>\n",
       "      <th>Trek</th>\n",
       "      <th>Cost</th>\n",
       "      <th>Time</th>\n",
       "      <th>Trip Grade</th>\n",
       "      <th>Max Altitude</th>\n",
       "      <th>Accomodation</th>\n",
       "      <th>Best Travel Time</th>\n",
       "      <th>Date of Travel</th>\n",
       "      <th>Sex</th>\n",
       "      <th>Age</th>\n",
       "      <th>...</th>\n",
       "      <th>GraduateOrNot</th>\n",
       "      <th>AnnualIncome</th>\n",
       "      <th>FamilyMembers</th>\n",
       "      <th>ChronicDiseases</th>\n",
       "      <th>FrequentFlyer</th>\n",
       "      <th>EverTravelledAbroad</th>\n",
       "      <th>TravelInsurance</th>\n",
       "      <th>Year</th>\n",
       "      <th>Regional code</th>\n",
       "      <th>Country</th>\n",
       "    </tr>\n",
       "  </thead>\n",
       "  <tbody>\n",
       "    <tr>\n",
       "      <th>0</th>\n",
       "      <td>Annapurna Base Camp Heli Trek</td>\n",
       "      <td>1750</td>\n",
       "      <td>9</td>\n",
       "      <td>Easy To Moderate</td>\n",
       "      <td>4210.0</td>\n",
       "      <td>Hotel/Teahouses</td>\n",
       "      <td>March - May &amp; Sept - Dec</td>\n",
       "      <td>8/7/2023</td>\n",
       "      <td>Transgender</td>\n",
       "      <td>27</td>\n",
       "      <td>...</td>\n",
       "      <td>Yes</td>\n",
       "      <td>1050000</td>\n",
       "      <td>3</td>\n",
       "      <td>0</td>\n",
       "      <td>No</td>\n",
       "      <td>No</td>\n",
       "      <td>0</td>\n",
       "      <td>2017</td>\n",
       "      <td>3980</td>\n",
       "      <td>Kazakhstan</td>\n",
       "    </tr>\n",
       "    <tr>\n",
       "      <th>1</th>\n",
       "      <td>Annapurna Base Camp Heli Trek</td>\n",
       "      <td>1750</td>\n",
       "      <td>9</td>\n",
       "      <td>Easy To Moderate</td>\n",
       "      <td>4210.0</td>\n",
       "      <td>Hotel/Teahouses</td>\n",
       "      <td>March - May &amp; Sept - Dec</td>\n",
       "      <td>5/27/2023</td>\n",
       "      <td>Transgender</td>\n",
       "      <td>28</td>\n",
       "      <td>...</td>\n",
       "      <td>Yes</td>\n",
       "      <td>300000</td>\n",
       "      <td>6</td>\n",
       "      <td>0</td>\n",
       "      <td>No</td>\n",
       "      <td>No</td>\n",
       "      <td>0</td>\n",
       "      <td>2017</td>\n",
       "      <td>7050</td>\n",
       "      <td>Slovenia</td>\n",
       "    </tr>\n",
       "    <tr>\n",
       "      <th>2</th>\n",
       "      <td>Annapurna Base Camp Heli Trek</td>\n",
       "      <td>1750</td>\n",
       "      <td>9</td>\n",
       "      <td>Easy To Moderate</td>\n",
       "      <td>4210.0</td>\n",
       "      <td>Hotel/Teahouses</td>\n",
       "      <td>March - May &amp; Sept - Dec</td>\n",
       "      <td>5/7/2022</td>\n",
       "      <td>Non-Binary</td>\n",
       "      <td>29</td>\n",
       "      <td>...</td>\n",
       "      <td>Yes</td>\n",
       "      <td>600000</td>\n",
       "      <td>3</td>\n",
       "      <td>1</td>\n",
       "      <td>No</td>\n",
       "      <td>No</td>\n",
       "      <td>0</td>\n",
       "      <td>2016</td>\n",
       "      <td>1520</td>\n",
       "      <td>Chile</td>\n",
       "    </tr>\n",
       "    <tr>\n",
       "      <th>3</th>\n",
       "      <td>Annapurna Base Camp Heli Trek</td>\n",
       "      <td>1750</td>\n",
       "      <td>9</td>\n",
       "      <td>Easy To Moderate</td>\n",
       "      <td>4210.0</td>\n",
       "      <td>Hotel/Teahouses</td>\n",
       "      <td>March - May &amp; Sept - Dec</td>\n",
       "      <td>10/7/2022</td>\n",
       "      <td>Male</td>\n",
       "      <td>28</td>\n",
       "      <td>...</td>\n",
       "      <td>Yes</td>\n",
       "      <td>1150000</td>\n",
       "      <td>4</td>\n",
       "      <td>1</td>\n",
       "      <td>No</td>\n",
       "      <td>No</td>\n",
       "      <td>0</td>\n",
       "      <td>2017</td>\n",
       "      <td>560</td>\n",
       "      <td>Belgium</td>\n",
       "    </tr>\n",
       "    <tr>\n",
       "      <th>4</th>\n",
       "      <td>Annapurna Base Camp Heli Trek</td>\n",
       "      <td>1750</td>\n",
       "      <td>9</td>\n",
       "      <td>Easy To Moderate</td>\n",
       "      <td>4210.0</td>\n",
       "      <td>Hotel/Teahouses</td>\n",
       "      <td>March - May &amp; Sept - Dec</td>\n",
       "      <td>6/24/2022</td>\n",
       "      <td>Non-Binary</td>\n",
       "      <td>32</td>\n",
       "      <td>...</td>\n",
       "      <td>Yes</td>\n",
       "      <td>850000</td>\n",
       "      <td>7</td>\n",
       "      <td>0</td>\n",
       "      <td>No</td>\n",
       "      <td>No</td>\n",
       "      <td>0</td>\n",
       "      <td>2016</td>\n",
       "      <td>4540</td>\n",
       "      <td>Malawi</td>\n",
       "    </tr>\n",
       "    <tr>\n",
       "      <th>...</th>\n",
       "      <td>...</td>\n",
       "      <td>...</td>\n",
       "      <td>...</td>\n",
       "      <td>...</td>\n",
       "      <td>...</td>\n",
       "      <td>...</td>\n",
       "      <td>...</td>\n",
       "      <td>...</td>\n",
       "      <td>...</td>\n",
       "      <td>...</td>\n",
       "      <td>...</td>\n",
       "      <td>...</td>\n",
       "      <td>...</td>\n",
       "      <td>...</td>\n",
       "      <td>...</td>\n",
       "      <td>...</td>\n",
       "      <td>...</td>\n",
       "      <td>...</td>\n",
       "      <td>...</td>\n",
       "      <td>...</td>\n",
       "      <td>...</td>\n",
       "    </tr>\n",
       "    <tr>\n",
       "      <th>378</th>\n",
       "      <td>Upper Mustang Trek</td>\n",
       "      <td>1499</td>\n",
       "      <td>17</td>\n",
       "      <td>Moderate+Demanding</td>\n",
       "      <td>3870.0</td>\n",
       "      <td>Hotel/Guesthouse</td>\n",
       "      <td>Jan - May &amp; Sept - Dec</td>\n",
       "      <td>5/22/2022</td>\n",
       "      <td>Non-Binary</td>\n",
       "      <td>31</td>\n",
       "      <td>...</td>\n",
       "      <td>Yes</td>\n",
       "      <td>1500000</td>\n",
       "      <td>4</td>\n",
       "      <td>1</td>\n",
       "      <td>Yes</td>\n",
       "      <td>Yes</td>\n",
       "      <td>1</td>\n",
       "      <td>2017</td>\n",
       "      <td>4960</td>\n",
       "      <td>Mongolia</td>\n",
       "    </tr>\n",
       "    <tr>\n",
       "      <th>379</th>\n",
       "      <td>Upper Mustang Trek</td>\n",
       "      <td>1499</td>\n",
       "      <td>17</td>\n",
       "      <td>Moderate+Demanding</td>\n",
       "      <td>3870.0</td>\n",
       "      <td>Hotel/Guesthouse</td>\n",
       "      <td>Jan - May &amp; Sept - Dec</td>\n",
       "      <td>9/29/2021</td>\n",
       "      <td>Male</td>\n",
       "      <td>27</td>\n",
       "      <td>...</td>\n",
       "      <td>No</td>\n",
       "      <td>800000</td>\n",
       "      <td>7</td>\n",
       "      <td>1</td>\n",
       "      <td>No</td>\n",
       "      <td>No</td>\n",
       "      <td>0</td>\n",
       "      <td>2016</td>\n",
       "      <td>5860</td>\n",
       "      <td>Pakistan</td>\n",
       "    </tr>\n",
       "    <tr>\n",
       "      <th>380</th>\n",
       "      <td>Upper Mustang Trek</td>\n",
       "      <td>1499</td>\n",
       "      <td>17</td>\n",
       "      <td>Moderate+Demanding</td>\n",
       "      <td>3870.0</td>\n",
       "      <td>Hotel/Guesthouse</td>\n",
       "      <td>Jan - May &amp; Sept - Dec</td>\n",
       "      <td>3/23/2022</td>\n",
       "      <td>Female</td>\n",
       "      <td>25</td>\n",
       "      <td>...</td>\n",
       "      <td>Yes</td>\n",
       "      <td>1400000</td>\n",
       "      <td>7</td>\n",
       "      <td>0</td>\n",
       "      <td>No</td>\n",
       "      <td>Yes</td>\n",
       "      <td>1</td>\n",
       "      <td>2017</td>\n",
       "      <td>1910</td>\n",
       "      <td>Croatia</td>\n",
       "    </tr>\n",
       "    <tr>\n",
       "      <th>381</th>\n",
       "      <td>Upper Mustang Trek</td>\n",
       "      <td>1499</td>\n",
       "      <td>17</td>\n",
       "      <td>Moderate+Demanding</td>\n",
       "      <td>3870.0</td>\n",
       "      <td>Hotel/Guesthouse</td>\n",
       "      <td>Jan - May &amp; Sept - Dec</td>\n",
       "      <td>3/12/2023</td>\n",
       "      <td>Non-Binary</td>\n",
       "      <td>28</td>\n",
       "      <td>...</td>\n",
       "      <td>Yes</td>\n",
       "      <td>800000</td>\n",
       "      <td>4</td>\n",
       "      <td>1</td>\n",
       "      <td>No</td>\n",
       "      <td>Yes</td>\n",
       "      <td>0</td>\n",
       "      <td>2017</td>\n",
       "      <td>8400</td>\n",
       "      <td>united states of america</td>\n",
       "    </tr>\n",
       "    <tr>\n",
       "      <th>382</th>\n",
       "      <td>Upper Mustang Trek</td>\n",
       "      <td>1499</td>\n",
       "      <td>17</td>\n",
       "      <td>Moderate+Demanding</td>\n",
       "      <td>3870.0</td>\n",
       "      <td>Hotel/Guesthouse</td>\n",
       "      <td>Jan - May &amp; Sept - Dec</td>\n",
       "      <td>10/13/2021</td>\n",
       "      <td>Transgender</td>\n",
       "      <td>31</td>\n",
       "      <td>...</td>\n",
       "      <td>Yes</td>\n",
       "      <td>400000</td>\n",
       "      <td>5</td>\n",
       "      <td>0</td>\n",
       "      <td>No</td>\n",
       "      <td>No</td>\n",
       "      <td>0</td>\n",
       "      <td>2016</td>\n",
       "      <td>2660</td>\n",
       "      <td>Gabon</td>\n",
       "    </tr>\n",
       "  </tbody>\n",
       "</table>\n",
       "<p>383 rows × 21 columns</p>\n",
       "</div>"
      ],
      "text/plain": [
       "                              Trek  Cost Time          Trip Grade  \\\n",
       "0    Annapurna Base Camp Heli Trek  1750    9    Easy To Moderate   \n",
       "1    Annapurna Base Camp Heli Trek  1750    9    Easy To Moderate   \n",
       "2    Annapurna Base Camp Heli Trek  1750    9    Easy To Moderate   \n",
       "3    Annapurna Base Camp Heli Trek  1750    9    Easy To Moderate   \n",
       "4    Annapurna Base Camp Heli Trek  1750    9    Easy To Moderate   \n",
       "..                             ...   ...  ...                 ...   \n",
       "378            Upper Mustang Trek   1499   17  Moderate+Demanding   \n",
       "379            Upper Mustang Trek   1499   17  Moderate+Demanding   \n",
       "380            Upper Mustang Trek   1499   17  Moderate+Demanding   \n",
       "381            Upper Mustang Trek   1499   17  Moderate+Demanding   \n",
       "382            Upper Mustang Trek   1499   17  Moderate+Demanding   \n",
       "\n",
       "     Max Altitude      Accomodation          Best Travel Time Date of Travel  \\\n",
       "0          4210.0   Hotel/Teahouses  March - May & Sept - Dec       8/7/2023   \n",
       "1          4210.0   Hotel/Teahouses  March - May & Sept - Dec      5/27/2023   \n",
       "2          4210.0   Hotel/Teahouses  March - May & Sept - Dec       5/7/2022   \n",
       "3          4210.0   Hotel/Teahouses  March - May & Sept - Dec      10/7/2022   \n",
       "4          4210.0   Hotel/Teahouses  March - May & Sept - Dec      6/24/2022   \n",
       "..            ...               ...                       ...            ...   \n",
       "378        3870.0  Hotel/Guesthouse    Jan - May & Sept - Dec      5/22/2022   \n",
       "379        3870.0  Hotel/Guesthouse    Jan - May & Sept - Dec      9/29/2021   \n",
       "380        3870.0  Hotel/Guesthouse    Jan - May & Sept - Dec      3/23/2022   \n",
       "381        3870.0  Hotel/Guesthouse    Jan - May & Sept - Dec      3/12/2023   \n",
       "382        3870.0  Hotel/Guesthouse    Jan - May & Sept - Dec     10/13/2021   \n",
       "\n",
       "             Sex  Age  ... GraduateOrNot AnnualIncome  FamilyMembers  \\\n",
       "0    Transgender   27  ...           Yes      1050000              3   \n",
       "1    Transgender   28  ...           Yes       300000              6   \n",
       "2     Non-Binary   29  ...           Yes       600000              3   \n",
       "3           Male   28  ...           Yes      1150000              4   \n",
       "4     Non-Binary   32  ...           Yes       850000              7   \n",
       "..           ...  ...  ...           ...          ...            ...   \n",
       "378   Non-Binary   31  ...           Yes      1500000              4   \n",
       "379         Male   27  ...            No       800000              7   \n",
       "380       Female   25  ...           Yes      1400000              7   \n",
       "381   Non-Binary   28  ...           Yes       800000              4   \n",
       "382  Transgender   31  ...           Yes       400000              5   \n",
       "\n",
       "     ChronicDiseases  FrequentFlyer EverTravelledAbroad TravelInsurance  Year  \\\n",
       "0                  0             No                  No               0  2017   \n",
       "1                  0             No                  No               0  2017   \n",
       "2                  1             No                  No               0  2016   \n",
       "3                  1             No                  No               0  2017   \n",
       "4                  0             No                  No               0  2016   \n",
       "..               ...            ...                 ...             ...   ...   \n",
       "378                1            Yes                 Yes               1  2017   \n",
       "379                1             No                  No               0  2016   \n",
       "380                0             No                 Yes               1  2017   \n",
       "381                1             No                 Yes               0  2017   \n",
       "382                0             No                  No               0  2016   \n",
       "\n",
       "     Regional code                   Country  \n",
       "0             3980                Kazakhstan  \n",
       "1             7050                  Slovenia  \n",
       "2             1520                     Chile  \n",
       "3              560                   Belgium  \n",
       "4             4540                    Malawi  \n",
       "..             ...                       ...  \n",
       "378           4960                  Mongolia  \n",
       "379           5860                  Pakistan  \n",
       "380           1910                   Croatia  \n",
       "381           8400  united states of america  \n",
       "382           2660                     Gabon  \n",
       "\n",
       "[383 rows x 21 columns]"
      ]
     },
     "execution_count": 42,
     "metadata": {},
     "output_type": "execute_result"
    }
   ],
   "source": [
    "# Cleaning Cost, Time, Altitude\n",
    "df['Cost'] = df['Cost'].str.replace(r'[^\\d]', '', regex=True)\n",
    "df['Time'] = df['Time'].str.replace(r'[^\\d]', '', regex=True)\n",
    "\n",
    "df[\"Max Altitude\"] = (\n",
    "    df[\"Max Altitude\"]\n",
    "    .str.replace(\"m\", \"\")\n",
    "    .str.replace(\",\", \"\")\n",
    "    .str.strip()\n",
    "    .astype(float)\n",
    ")\n",
    "\n",
    "# df['Max Altitude'] = df['Max Altitude'].str.replace(r'[^\\d]', '', regex=True)\n",
    "df"
   ]
  },
  {
   "cell_type": "code",
   "execution_count": 43,
   "metadata": {},
   "outputs": [
    {
     "data": {
      "text/html": [
       "<div>\n",
       "<style scoped>\n",
       "    .dataframe tbody tr th:only-of-type {\n",
       "        vertical-align: middle;\n",
       "    }\n",
       "\n",
       "    .dataframe tbody tr th {\n",
       "        vertical-align: top;\n",
       "    }\n",
       "\n",
       "    .dataframe thead th {\n",
       "        text-align: right;\n",
       "    }\n",
       "</style>\n",
       "<table border=\"1\" class=\"dataframe\">\n",
       "  <thead>\n",
       "    <tr style=\"text-align: right;\">\n",
       "      <th></th>\n",
       "      <th>Trek</th>\n",
       "      <th>Cost</th>\n",
       "      <th>Time</th>\n",
       "      <th>Trip Grade</th>\n",
       "      <th>Max Altitude</th>\n",
       "      <th>Accomodation</th>\n",
       "      <th>Best Travel Time</th>\n",
       "      <th>Date of Travel</th>\n",
       "      <th>Sex</th>\n",
       "      <th>Age</th>\n",
       "      <th>...</th>\n",
       "      <th>GraduateOrNot</th>\n",
       "      <th>AnnualIncome</th>\n",
       "      <th>FamilyMembers</th>\n",
       "      <th>ChronicDiseases</th>\n",
       "      <th>FrequentFlyer</th>\n",
       "      <th>EverTravelledAbroad</th>\n",
       "      <th>TravelInsurance</th>\n",
       "      <th>Year</th>\n",
       "      <th>Regional code</th>\n",
       "      <th>Country</th>\n",
       "    </tr>\n",
       "  </thead>\n",
       "  <tbody>\n",
       "    <tr>\n",
       "      <th>0</th>\n",
       "      <td>Annapurna Base Camp Heli Trek</td>\n",
       "      <td>1750</td>\n",
       "      <td>9</td>\n",
       "      <td>1</td>\n",
       "      <td>4210.0</td>\n",
       "      <td>Hotel/Teahouses</td>\n",
       "      <td>March - May &amp; Sept - Dec</td>\n",
       "      <td>8/7/2023</td>\n",
       "      <td>Transgender</td>\n",
       "      <td>27</td>\n",
       "      <td>...</td>\n",
       "      <td>Yes</td>\n",
       "      <td>1050000</td>\n",
       "      <td>3</td>\n",
       "      <td>0</td>\n",
       "      <td>No</td>\n",
       "      <td>No</td>\n",
       "      <td>0</td>\n",
       "      <td>2017</td>\n",
       "      <td>3980</td>\n",
       "      <td>Kazakhstan</td>\n",
       "    </tr>\n",
       "    <tr>\n",
       "      <th>1</th>\n",
       "      <td>Annapurna Base Camp Heli Trek</td>\n",
       "      <td>1750</td>\n",
       "      <td>9</td>\n",
       "      <td>1</td>\n",
       "      <td>4210.0</td>\n",
       "      <td>Hotel/Teahouses</td>\n",
       "      <td>March - May &amp; Sept - Dec</td>\n",
       "      <td>5/27/2023</td>\n",
       "      <td>Transgender</td>\n",
       "      <td>28</td>\n",
       "      <td>...</td>\n",
       "      <td>Yes</td>\n",
       "      <td>300000</td>\n",
       "      <td>6</td>\n",
       "      <td>0</td>\n",
       "      <td>No</td>\n",
       "      <td>No</td>\n",
       "      <td>0</td>\n",
       "      <td>2017</td>\n",
       "      <td>7050</td>\n",
       "      <td>Slovenia</td>\n",
       "    </tr>\n",
       "    <tr>\n",
       "      <th>2</th>\n",
       "      <td>Annapurna Base Camp Heli Trek</td>\n",
       "      <td>1750</td>\n",
       "      <td>9</td>\n",
       "      <td>1</td>\n",
       "      <td>4210.0</td>\n",
       "      <td>Hotel/Teahouses</td>\n",
       "      <td>March - May &amp; Sept - Dec</td>\n",
       "      <td>5/7/2022</td>\n",
       "      <td>Non-Binary</td>\n",
       "      <td>29</td>\n",
       "      <td>...</td>\n",
       "      <td>Yes</td>\n",
       "      <td>600000</td>\n",
       "      <td>3</td>\n",
       "      <td>1</td>\n",
       "      <td>No</td>\n",
       "      <td>No</td>\n",
       "      <td>0</td>\n",
       "      <td>2016</td>\n",
       "      <td>1520</td>\n",
       "      <td>Chile</td>\n",
       "    </tr>\n",
       "    <tr>\n",
       "      <th>3</th>\n",
       "      <td>Annapurna Base Camp Heli Trek</td>\n",
       "      <td>1750</td>\n",
       "      <td>9</td>\n",
       "      <td>1</td>\n",
       "      <td>4210.0</td>\n",
       "      <td>Hotel/Teahouses</td>\n",
       "      <td>March - May &amp; Sept - Dec</td>\n",
       "      <td>10/7/2022</td>\n",
       "      <td>Male</td>\n",
       "      <td>28</td>\n",
       "      <td>...</td>\n",
       "      <td>Yes</td>\n",
       "      <td>1150000</td>\n",
       "      <td>4</td>\n",
       "      <td>1</td>\n",
       "      <td>No</td>\n",
       "      <td>No</td>\n",
       "      <td>0</td>\n",
       "      <td>2017</td>\n",
       "      <td>560</td>\n",
       "      <td>Belgium</td>\n",
       "    </tr>\n",
       "    <tr>\n",
       "      <th>4</th>\n",
       "      <td>Annapurna Base Camp Heli Trek</td>\n",
       "      <td>1750</td>\n",
       "      <td>9</td>\n",
       "      <td>1</td>\n",
       "      <td>4210.0</td>\n",
       "      <td>Hotel/Teahouses</td>\n",
       "      <td>March - May &amp; Sept - Dec</td>\n",
       "      <td>6/24/2022</td>\n",
       "      <td>Non-Binary</td>\n",
       "      <td>32</td>\n",
       "      <td>...</td>\n",
       "      <td>Yes</td>\n",
       "      <td>850000</td>\n",
       "      <td>7</td>\n",
       "      <td>0</td>\n",
       "      <td>No</td>\n",
       "      <td>No</td>\n",
       "      <td>0</td>\n",
       "      <td>2016</td>\n",
       "      <td>4540</td>\n",
       "      <td>Malawi</td>\n",
       "    </tr>\n",
       "    <tr>\n",
       "      <th>...</th>\n",
       "      <td>...</td>\n",
       "      <td>...</td>\n",
       "      <td>...</td>\n",
       "      <td>...</td>\n",
       "      <td>...</td>\n",
       "      <td>...</td>\n",
       "      <td>...</td>\n",
       "      <td>...</td>\n",
       "      <td>...</td>\n",
       "      <td>...</td>\n",
       "      <td>...</td>\n",
       "      <td>...</td>\n",
       "      <td>...</td>\n",
       "      <td>...</td>\n",
       "      <td>...</td>\n",
       "      <td>...</td>\n",
       "      <td>...</td>\n",
       "      <td>...</td>\n",
       "      <td>...</td>\n",
       "      <td>...</td>\n",
       "      <td>...</td>\n",
       "    </tr>\n",
       "    <tr>\n",
       "      <th>378</th>\n",
       "      <td>Upper Mustang Trek</td>\n",
       "      <td>1499</td>\n",
       "      <td>17</td>\n",
       "      <td>3</td>\n",
       "      <td>3870.0</td>\n",
       "      <td>Hotel/Guesthouse</td>\n",
       "      <td>Jan - May &amp; Sept - Dec</td>\n",
       "      <td>5/22/2022</td>\n",
       "      <td>Non-Binary</td>\n",
       "      <td>31</td>\n",
       "      <td>...</td>\n",
       "      <td>Yes</td>\n",
       "      <td>1500000</td>\n",
       "      <td>4</td>\n",
       "      <td>1</td>\n",
       "      <td>Yes</td>\n",
       "      <td>Yes</td>\n",
       "      <td>1</td>\n",
       "      <td>2017</td>\n",
       "      <td>4960</td>\n",
       "      <td>Mongolia</td>\n",
       "    </tr>\n",
       "    <tr>\n",
       "      <th>379</th>\n",
       "      <td>Upper Mustang Trek</td>\n",
       "      <td>1499</td>\n",
       "      <td>17</td>\n",
       "      <td>3</td>\n",
       "      <td>3870.0</td>\n",
       "      <td>Hotel/Guesthouse</td>\n",
       "      <td>Jan - May &amp; Sept - Dec</td>\n",
       "      <td>9/29/2021</td>\n",
       "      <td>Male</td>\n",
       "      <td>27</td>\n",
       "      <td>...</td>\n",
       "      <td>No</td>\n",
       "      <td>800000</td>\n",
       "      <td>7</td>\n",
       "      <td>1</td>\n",
       "      <td>No</td>\n",
       "      <td>No</td>\n",
       "      <td>0</td>\n",
       "      <td>2016</td>\n",
       "      <td>5860</td>\n",
       "      <td>Pakistan</td>\n",
       "    </tr>\n",
       "    <tr>\n",
       "      <th>380</th>\n",
       "      <td>Upper Mustang Trek</td>\n",
       "      <td>1499</td>\n",
       "      <td>17</td>\n",
       "      <td>3</td>\n",
       "      <td>3870.0</td>\n",
       "      <td>Hotel/Guesthouse</td>\n",
       "      <td>Jan - May &amp; Sept - Dec</td>\n",
       "      <td>3/23/2022</td>\n",
       "      <td>Female</td>\n",
       "      <td>25</td>\n",
       "      <td>...</td>\n",
       "      <td>Yes</td>\n",
       "      <td>1400000</td>\n",
       "      <td>7</td>\n",
       "      <td>0</td>\n",
       "      <td>No</td>\n",
       "      <td>Yes</td>\n",
       "      <td>1</td>\n",
       "      <td>2017</td>\n",
       "      <td>1910</td>\n",
       "      <td>Croatia</td>\n",
       "    </tr>\n",
       "    <tr>\n",
       "      <th>381</th>\n",
       "      <td>Upper Mustang Trek</td>\n",
       "      <td>1499</td>\n",
       "      <td>17</td>\n",
       "      <td>3</td>\n",
       "      <td>3870.0</td>\n",
       "      <td>Hotel/Guesthouse</td>\n",
       "      <td>Jan - May &amp; Sept - Dec</td>\n",
       "      <td>3/12/2023</td>\n",
       "      <td>Non-Binary</td>\n",
       "      <td>28</td>\n",
       "      <td>...</td>\n",
       "      <td>Yes</td>\n",
       "      <td>800000</td>\n",
       "      <td>4</td>\n",
       "      <td>1</td>\n",
       "      <td>No</td>\n",
       "      <td>Yes</td>\n",
       "      <td>0</td>\n",
       "      <td>2017</td>\n",
       "      <td>8400</td>\n",
       "      <td>united states of america</td>\n",
       "    </tr>\n",
       "    <tr>\n",
       "      <th>382</th>\n",
       "      <td>Upper Mustang Trek</td>\n",
       "      <td>1499</td>\n",
       "      <td>17</td>\n",
       "      <td>3</td>\n",
       "      <td>3870.0</td>\n",
       "      <td>Hotel/Guesthouse</td>\n",
       "      <td>Jan - May &amp; Sept - Dec</td>\n",
       "      <td>10/13/2021</td>\n",
       "      <td>Transgender</td>\n",
       "      <td>31</td>\n",
       "      <td>...</td>\n",
       "      <td>Yes</td>\n",
       "      <td>400000</td>\n",
       "      <td>5</td>\n",
       "      <td>0</td>\n",
       "      <td>No</td>\n",
       "      <td>No</td>\n",
       "      <td>0</td>\n",
       "      <td>2016</td>\n",
       "      <td>2660</td>\n",
       "      <td>Gabon</td>\n",
       "    </tr>\n",
       "  </tbody>\n",
       "</table>\n",
       "<p>383 rows × 21 columns</p>\n",
       "</div>"
      ],
      "text/plain": [
       "                              Trek  Cost Time  Trip Grade  Max Altitude  \\\n",
       "0    Annapurna Base Camp Heli Trek  1750    9           1        4210.0   \n",
       "1    Annapurna Base Camp Heli Trek  1750    9           1        4210.0   \n",
       "2    Annapurna Base Camp Heli Trek  1750    9           1        4210.0   \n",
       "3    Annapurna Base Camp Heli Trek  1750    9           1        4210.0   \n",
       "4    Annapurna Base Camp Heli Trek  1750    9           1        4210.0   \n",
       "..                             ...   ...  ...         ...           ...   \n",
       "378            Upper Mustang Trek   1499   17           3        3870.0   \n",
       "379            Upper Mustang Trek   1499   17           3        3870.0   \n",
       "380            Upper Mustang Trek   1499   17           3        3870.0   \n",
       "381            Upper Mustang Trek   1499   17           3        3870.0   \n",
       "382            Upper Mustang Trek   1499   17           3        3870.0   \n",
       "\n",
       "         Accomodation          Best Travel Time Date of Travel          Sex  \\\n",
       "0     Hotel/Teahouses  March - May & Sept - Dec       8/7/2023  Transgender   \n",
       "1     Hotel/Teahouses  March - May & Sept - Dec      5/27/2023  Transgender   \n",
       "2     Hotel/Teahouses  March - May & Sept - Dec       5/7/2022   Non-Binary   \n",
       "3     Hotel/Teahouses  March - May & Sept - Dec      10/7/2022         Male   \n",
       "4     Hotel/Teahouses  March - May & Sept - Dec      6/24/2022   Non-Binary   \n",
       "..                ...                       ...            ...          ...   \n",
       "378  Hotel/Guesthouse    Jan - May & Sept - Dec      5/22/2022   Non-Binary   \n",
       "379  Hotel/Guesthouse    Jan - May & Sept - Dec      9/29/2021         Male   \n",
       "380  Hotel/Guesthouse    Jan - May & Sept - Dec      3/23/2022       Female   \n",
       "381  Hotel/Guesthouse    Jan - May & Sept - Dec      3/12/2023   Non-Binary   \n",
       "382  Hotel/Guesthouse    Jan - May & Sept - Dec     10/13/2021  Transgender   \n",
       "\n",
       "     Age  ... GraduateOrNot AnnualIncome  FamilyMembers  ChronicDiseases  \\\n",
       "0     27  ...           Yes      1050000              3                0   \n",
       "1     28  ...           Yes       300000              6                0   \n",
       "2     29  ...           Yes       600000              3                1   \n",
       "3     28  ...           Yes      1150000              4                1   \n",
       "4     32  ...           Yes       850000              7                0   \n",
       "..   ...  ...           ...          ...            ...              ...   \n",
       "378   31  ...           Yes      1500000              4                1   \n",
       "379   27  ...            No       800000              7                1   \n",
       "380   25  ...           Yes      1400000              7                0   \n",
       "381   28  ...           Yes       800000              4                1   \n",
       "382   31  ...           Yes       400000              5                0   \n",
       "\n",
       "     FrequentFlyer EverTravelledAbroad TravelInsurance  Year  Regional code  \\\n",
       "0               No                  No               0  2017           3980   \n",
       "1               No                  No               0  2017           7050   \n",
       "2               No                  No               0  2016           1520   \n",
       "3               No                  No               0  2017            560   \n",
       "4               No                  No               0  2016           4540   \n",
       "..             ...                 ...             ...   ...            ...   \n",
       "378            Yes                 Yes               1  2017           4960   \n",
       "379             No                  No               0  2016           5860   \n",
       "380             No                 Yes               1  2017           1910   \n",
       "381             No                 Yes               0  2017           8400   \n",
       "382             No                  No               0  2016           2660   \n",
       "\n",
       "                      Country  \n",
       "0                  Kazakhstan  \n",
       "1                    Slovenia  \n",
       "2                       Chile  \n",
       "3                     Belgium  \n",
       "4                      Malawi  \n",
       "..                        ...  \n",
       "378                  Mongolia  \n",
       "379                  Pakistan  \n",
       "380                   Croatia  \n",
       "381  united states of america  \n",
       "382                     Gabon  \n",
       "\n",
       "[383 rows x 21 columns]"
      ]
     },
     "execution_count": 43,
     "metadata": {},
     "output_type": "execute_result"
    }
   ],
   "source": [
    "# Trek Grade Mapping\n",
    "grade_mapping = {\n",
    "    'Easy': 1,\n",
    "    'Easy To Moderate': 1,\n",
    "    'Easy-Moderate': 1,\n",
    "    'Light': 2,\n",
    "    'Light+Moderate': 2,\n",
    "    'Moderate': 2,\n",
    "    'Moderate+Demanding': 3,\n",
    "    'Moderate-Hard': 3,\n",
    "    'Demanding': 4,\n",
    "    'Demanding+Challenging': 4,\n",
    "    'Strenuous': 5\n",
    "}\n",
    "\n",
    "df[\"Trip Grade\"] = df['Trip Grade'].map(grade_mapping)\n",
    "df"
   ]
  },
  {
   "cell_type": "code",
   "execution_count": 44,
   "metadata": {},
   "outputs": [
    {
     "data": {
      "text/html": [
       "<div>\n",
       "<style scoped>\n",
       "    .dataframe tbody tr th:only-of-type {\n",
       "        vertical-align: middle;\n",
       "    }\n",
       "\n",
       "    .dataframe tbody tr th {\n",
       "        vertical-align: top;\n",
       "    }\n",
       "\n",
       "    .dataframe thead th {\n",
       "        text-align: right;\n",
       "    }\n",
       "</style>\n",
       "<table border=\"1\" class=\"dataframe\">\n",
       "  <thead>\n",
       "    <tr style=\"text-align: right;\">\n",
       "      <th></th>\n",
       "      <th>Trek</th>\n",
       "      <th>Cost</th>\n",
       "      <th>Time</th>\n",
       "      <th>Trip Grade</th>\n",
       "      <th>Max Altitude</th>\n",
       "      <th>Accomodation</th>\n",
       "      <th>Best Travel Time</th>\n",
       "      <th>Date of Travel</th>\n",
       "      <th>Sex</th>\n",
       "      <th>Age</th>\n",
       "      <th>...</th>\n",
       "      <th>GraduateOrNot</th>\n",
       "      <th>AnnualIncome</th>\n",
       "      <th>FamilyMembers</th>\n",
       "      <th>ChronicDiseases</th>\n",
       "      <th>FrequentFlyer</th>\n",
       "      <th>EverTravelledAbroad</th>\n",
       "      <th>TravelInsurance</th>\n",
       "      <th>Year</th>\n",
       "      <th>Regional code</th>\n",
       "      <th>Country</th>\n",
       "    </tr>\n",
       "  </thead>\n",
       "  <tbody>\n",
       "    <tr>\n",
       "      <th>0</th>\n",
       "      <td>Annapurna Base Camp Heli Trek</td>\n",
       "      <td>1750</td>\n",
       "      <td>9</td>\n",
       "      <td>1</td>\n",
       "      <td>4210.0</td>\n",
       "      <td>Hotel/Teahouses</td>\n",
       "      <td>March - May &amp; Sept - Dec</td>\n",
       "      <td>8/7/2023</td>\n",
       "      <td>Transgender</td>\n",
       "      <td>27</td>\n",
       "      <td>...</td>\n",
       "      <td>Yes</td>\n",
       "      <td>1050000</td>\n",
       "      <td>3</td>\n",
       "      <td>0</td>\n",
       "      <td>No</td>\n",
       "      <td>No</td>\n",
       "      <td>0</td>\n",
       "      <td>2017</td>\n",
       "      <td>3980</td>\n",
       "      <td>Kazakhstan</td>\n",
       "    </tr>\n",
       "    <tr>\n",
       "      <th>1</th>\n",
       "      <td>Annapurna Base Camp Heli Trek</td>\n",
       "      <td>1750</td>\n",
       "      <td>9</td>\n",
       "      <td>1</td>\n",
       "      <td>4210.0</td>\n",
       "      <td>Hotel/Teahouses</td>\n",
       "      <td>March - May &amp; Sept - Dec</td>\n",
       "      <td>5/27/2023</td>\n",
       "      <td>Transgender</td>\n",
       "      <td>28</td>\n",
       "      <td>...</td>\n",
       "      <td>Yes</td>\n",
       "      <td>300000</td>\n",
       "      <td>6</td>\n",
       "      <td>0</td>\n",
       "      <td>No</td>\n",
       "      <td>No</td>\n",
       "      <td>0</td>\n",
       "      <td>2017</td>\n",
       "      <td>7050</td>\n",
       "      <td>Slovenia</td>\n",
       "    </tr>\n",
       "    <tr>\n",
       "      <th>2</th>\n",
       "      <td>Annapurna Base Camp Heli Trek</td>\n",
       "      <td>1750</td>\n",
       "      <td>9</td>\n",
       "      <td>1</td>\n",
       "      <td>4210.0</td>\n",
       "      <td>Hotel/Teahouses</td>\n",
       "      <td>March - May &amp; Sept - Dec</td>\n",
       "      <td>5/7/2022</td>\n",
       "      <td>Non-Binary</td>\n",
       "      <td>29</td>\n",
       "      <td>...</td>\n",
       "      <td>Yes</td>\n",
       "      <td>600000</td>\n",
       "      <td>3</td>\n",
       "      <td>1</td>\n",
       "      <td>No</td>\n",
       "      <td>No</td>\n",
       "      <td>0</td>\n",
       "      <td>2016</td>\n",
       "      <td>1520</td>\n",
       "      <td>Chile</td>\n",
       "    </tr>\n",
       "    <tr>\n",
       "      <th>3</th>\n",
       "      <td>Annapurna Base Camp Heli Trek</td>\n",
       "      <td>1750</td>\n",
       "      <td>9</td>\n",
       "      <td>1</td>\n",
       "      <td>4210.0</td>\n",
       "      <td>Hotel/Teahouses</td>\n",
       "      <td>March - May &amp; Sept - Dec</td>\n",
       "      <td>10/7/2022</td>\n",
       "      <td>Male</td>\n",
       "      <td>28</td>\n",
       "      <td>...</td>\n",
       "      <td>Yes</td>\n",
       "      <td>1150000</td>\n",
       "      <td>4</td>\n",
       "      <td>1</td>\n",
       "      <td>No</td>\n",
       "      <td>No</td>\n",
       "      <td>0</td>\n",
       "      <td>2017</td>\n",
       "      <td>560</td>\n",
       "      <td>Belgium</td>\n",
       "    </tr>\n",
       "    <tr>\n",
       "      <th>4</th>\n",
       "      <td>Annapurna Base Camp Heli Trek</td>\n",
       "      <td>1750</td>\n",
       "      <td>9</td>\n",
       "      <td>1</td>\n",
       "      <td>4210.0</td>\n",
       "      <td>Hotel/Teahouses</td>\n",
       "      <td>March - May &amp; Sept - Dec</td>\n",
       "      <td>6/24/2022</td>\n",
       "      <td>Non-Binary</td>\n",
       "      <td>32</td>\n",
       "      <td>...</td>\n",
       "      <td>Yes</td>\n",
       "      <td>850000</td>\n",
       "      <td>7</td>\n",
       "      <td>0</td>\n",
       "      <td>No</td>\n",
       "      <td>No</td>\n",
       "      <td>0</td>\n",
       "      <td>2016</td>\n",
       "      <td>4540</td>\n",
       "      <td>Malawi</td>\n",
       "    </tr>\n",
       "    <tr>\n",
       "      <th>...</th>\n",
       "      <td>...</td>\n",
       "      <td>...</td>\n",
       "      <td>...</td>\n",
       "      <td>...</td>\n",
       "      <td>...</td>\n",
       "      <td>...</td>\n",
       "      <td>...</td>\n",
       "      <td>...</td>\n",
       "      <td>...</td>\n",
       "      <td>...</td>\n",
       "      <td>...</td>\n",
       "      <td>...</td>\n",
       "      <td>...</td>\n",
       "      <td>...</td>\n",
       "      <td>...</td>\n",
       "      <td>...</td>\n",
       "      <td>...</td>\n",
       "      <td>...</td>\n",
       "      <td>...</td>\n",
       "      <td>...</td>\n",
       "      <td>...</td>\n",
       "    </tr>\n",
       "    <tr>\n",
       "      <th>378</th>\n",
       "      <td>Upper Mustang Trek</td>\n",
       "      <td>1499</td>\n",
       "      <td>17</td>\n",
       "      <td>3</td>\n",
       "      <td>3870.0</td>\n",
       "      <td>Hotel/Guesthouse</td>\n",
       "      <td>Jan - May &amp; Sept - Dec</td>\n",
       "      <td>5/22/2022</td>\n",
       "      <td>Non-Binary</td>\n",
       "      <td>31</td>\n",
       "      <td>...</td>\n",
       "      <td>Yes</td>\n",
       "      <td>1500000</td>\n",
       "      <td>4</td>\n",
       "      <td>1</td>\n",
       "      <td>Yes</td>\n",
       "      <td>Yes</td>\n",
       "      <td>1</td>\n",
       "      <td>2017</td>\n",
       "      <td>4960</td>\n",
       "      <td>Mongolia</td>\n",
       "    </tr>\n",
       "    <tr>\n",
       "      <th>379</th>\n",
       "      <td>Upper Mustang Trek</td>\n",
       "      <td>1499</td>\n",
       "      <td>17</td>\n",
       "      <td>3</td>\n",
       "      <td>3870.0</td>\n",
       "      <td>Hotel/Guesthouse</td>\n",
       "      <td>Jan - May &amp; Sept - Dec</td>\n",
       "      <td>9/29/2021</td>\n",
       "      <td>Male</td>\n",
       "      <td>27</td>\n",
       "      <td>...</td>\n",
       "      <td>No</td>\n",
       "      <td>800000</td>\n",
       "      <td>7</td>\n",
       "      <td>1</td>\n",
       "      <td>No</td>\n",
       "      <td>No</td>\n",
       "      <td>0</td>\n",
       "      <td>2016</td>\n",
       "      <td>5860</td>\n",
       "      <td>Pakistan</td>\n",
       "    </tr>\n",
       "    <tr>\n",
       "      <th>380</th>\n",
       "      <td>Upper Mustang Trek</td>\n",
       "      <td>1499</td>\n",
       "      <td>17</td>\n",
       "      <td>3</td>\n",
       "      <td>3870.0</td>\n",
       "      <td>Hotel/Guesthouse</td>\n",
       "      <td>Jan - May &amp; Sept - Dec</td>\n",
       "      <td>3/23/2022</td>\n",
       "      <td>Female</td>\n",
       "      <td>25</td>\n",
       "      <td>...</td>\n",
       "      <td>Yes</td>\n",
       "      <td>1400000</td>\n",
       "      <td>7</td>\n",
       "      <td>0</td>\n",
       "      <td>No</td>\n",
       "      <td>Yes</td>\n",
       "      <td>1</td>\n",
       "      <td>2017</td>\n",
       "      <td>1910</td>\n",
       "      <td>Croatia</td>\n",
       "    </tr>\n",
       "    <tr>\n",
       "      <th>381</th>\n",
       "      <td>Upper Mustang Trek</td>\n",
       "      <td>1499</td>\n",
       "      <td>17</td>\n",
       "      <td>3</td>\n",
       "      <td>3870.0</td>\n",
       "      <td>Hotel/Guesthouse</td>\n",
       "      <td>Jan - May &amp; Sept - Dec</td>\n",
       "      <td>3/12/2023</td>\n",
       "      <td>Non-Binary</td>\n",
       "      <td>28</td>\n",
       "      <td>...</td>\n",
       "      <td>Yes</td>\n",
       "      <td>800000</td>\n",
       "      <td>4</td>\n",
       "      <td>1</td>\n",
       "      <td>No</td>\n",
       "      <td>Yes</td>\n",
       "      <td>0</td>\n",
       "      <td>2017</td>\n",
       "      <td>8400</td>\n",
       "      <td>united states of america</td>\n",
       "    </tr>\n",
       "    <tr>\n",
       "      <th>382</th>\n",
       "      <td>Upper Mustang Trek</td>\n",
       "      <td>1499</td>\n",
       "      <td>17</td>\n",
       "      <td>3</td>\n",
       "      <td>3870.0</td>\n",
       "      <td>Hotel/Guesthouse</td>\n",
       "      <td>Jan - May &amp; Sept - Dec</td>\n",
       "      <td>10/13/2021</td>\n",
       "      <td>Transgender</td>\n",
       "      <td>31</td>\n",
       "      <td>...</td>\n",
       "      <td>Yes</td>\n",
       "      <td>400000</td>\n",
       "      <td>5</td>\n",
       "      <td>0</td>\n",
       "      <td>No</td>\n",
       "      <td>No</td>\n",
       "      <td>0</td>\n",
       "      <td>2016</td>\n",
       "      <td>2660</td>\n",
       "      <td>Gabon</td>\n",
       "    </tr>\n",
       "  </tbody>\n",
       "</table>\n",
       "<p>383 rows × 21 columns</p>\n",
       "</div>"
      ],
      "text/plain": [
       "                              Trek  Cost Time  Trip Grade  Max Altitude  \\\n",
       "0    Annapurna Base Camp Heli Trek  1750    9           1        4210.0   \n",
       "1    Annapurna Base Camp Heli Trek  1750    9           1        4210.0   \n",
       "2    Annapurna Base Camp Heli Trek  1750    9           1        4210.0   \n",
       "3    Annapurna Base Camp Heli Trek  1750    9           1        4210.0   \n",
       "4    Annapurna Base Camp Heli Trek  1750    9           1        4210.0   \n",
       "..                             ...   ...  ...         ...           ...   \n",
       "378            Upper Mustang Trek   1499   17           3        3870.0   \n",
       "379            Upper Mustang Trek   1499   17           3        3870.0   \n",
       "380            Upper Mustang Trek   1499   17           3        3870.0   \n",
       "381            Upper Mustang Trek   1499   17           3        3870.0   \n",
       "382            Upper Mustang Trek   1499   17           3        3870.0   \n",
       "\n",
       "         Accomodation          Best Travel Time Date of Travel          Sex  \\\n",
       "0     Hotel/Teahouses  March - May & Sept - Dec       8/7/2023  Transgender   \n",
       "1     Hotel/Teahouses  March - May & Sept - Dec      5/27/2023  Transgender   \n",
       "2     Hotel/Teahouses  March - May & Sept - Dec       5/7/2022   Non-Binary   \n",
       "3     Hotel/Teahouses  March - May & Sept - Dec      10/7/2022         Male   \n",
       "4     Hotel/Teahouses  March - May & Sept - Dec      6/24/2022   Non-Binary   \n",
       "..                ...                       ...            ...          ...   \n",
       "378  Hotel/Guesthouse    Jan - May & Sept - Dec      5/22/2022   Non-Binary   \n",
       "379  Hotel/Guesthouse    Jan - May & Sept - Dec      9/29/2021         Male   \n",
       "380  Hotel/Guesthouse    Jan - May & Sept - Dec      3/23/2022       Female   \n",
       "381  Hotel/Guesthouse    Jan - May & Sept - Dec      3/12/2023   Non-Binary   \n",
       "382  Hotel/Guesthouse    Jan - May & Sept - Dec     10/13/2021  Transgender   \n",
       "\n",
       "     Age  ... GraduateOrNot AnnualIncome  FamilyMembers  ChronicDiseases  \\\n",
       "0     27  ...           Yes      1050000              3                0   \n",
       "1     28  ...           Yes       300000              6                0   \n",
       "2     29  ...           Yes       600000              3                1   \n",
       "3     28  ...           Yes      1150000              4                1   \n",
       "4     32  ...           Yes       850000              7                0   \n",
       "..   ...  ...           ...          ...            ...              ...   \n",
       "378   31  ...           Yes      1500000              4                1   \n",
       "379   27  ...            No       800000              7                1   \n",
       "380   25  ...           Yes      1400000              7                0   \n",
       "381   28  ...           Yes       800000              4                1   \n",
       "382   31  ...           Yes       400000              5                0   \n",
       "\n",
       "     FrequentFlyer EverTravelledAbroad TravelInsurance  Year  Regional code  \\\n",
       "0               No                  No               0  2017           3980   \n",
       "1               No                  No               0  2017           7050   \n",
       "2               No                  No               0  2016           1520   \n",
       "3               No                  No               0  2017            560   \n",
       "4               No                  No               0  2016           4540   \n",
       "..             ...                 ...             ...   ...            ...   \n",
       "378            Yes                 Yes               1  2017           4960   \n",
       "379             No                  No               0  2016           5860   \n",
       "380             No                 Yes               1  2017           1910   \n",
       "381             No                 Yes               0  2017           8400   \n",
       "382             No                  No               0  2016           2660   \n",
       "\n",
       "                      Country  \n",
       "0                  Kazakhstan  \n",
       "1                    Slovenia  \n",
       "2                       Chile  \n",
       "3                     Belgium  \n",
       "4                      Malawi  \n",
       "..                        ...  \n",
       "378                  Mongolia  \n",
       "379                  Pakistan  \n",
       "380                   Croatia  \n",
       "381  united states of america  \n",
       "382                     Gabon  \n",
       "\n",
       "[383 rows x 21 columns]"
      ]
     },
     "execution_count": 44,
     "metadata": {},
     "output_type": "execute_result"
    }
   ],
   "source": [
    "# Cleaning Best Travel Time Column\n",
    "df[\"Best Travel Time\"] = (\n",
    "    df[\"Best Travel Time\"].str.replace(\".\", \"\", regex=False)\n",
    "    .str.replace(\"Setpt\", \"Sept\", regex=False)\n",
    "    .str.title()\n",
    ")\n",
    "\n",
    "# Further clean to standardize \"Month - Month & Month - Month\" format\n",
    "def clean_travel_time(row):\n",
    "    pattern = r'([A-Za-z]{3,4})\\s*-\\s*([A-Za-z]{3,4})\\s*&\\s*([A-Za-z]{3,4})\\s*-\\s*([A-Za-z]{3,4})'\n",
    "    match = re.match(pattern, row)\n",
    "\n",
    "    if match:\n",
    "        return f\"{match.group(1)} - {match.group(2)} & {match.group(3)} - {match.group(4)}\"\n",
    "    \n",
    "    return row \n",
    "\n",
    "df[\"Best Travel Time\"] = df[\"Best Travel Time\"].apply(clean_travel_time)\n",
    "df"
   ]
  },
  {
   "cell_type": "code",
   "execution_count": 45,
   "metadata": {},
   "outputs": [
    {
     "data": {
      "text/html": [
       "<div>\n",
       "<style scoped>\n",
       "    .dataframe tbody tr th:only-of-type {\n",
       "        vertical-align: middle;\n",
       "    }\n",
       "\n",
       "    .dataframe tbody tr th {\n",
       "        vertical-align: top;\n",
       "    }\n",
       "\n",
       "    .dataframe thead th {\n",
       "        text-align: right;\n",
       "    }\n",
       "</style>\n",
       "<table border=\"1\" class=\"dataframe\">\n",
       "  <thead>\n",
       "    <tr style=\"text-align: right;\">\n",
       "      <th></th>\n",
       "      <th>Trek</th>\n",
       "      <th>Cost</th>\n",
       "      <th>Time</th>\n",
       "      <th>Trip Grade</th>\n",
       "      <th>Max Altitude</th>\n",
       "      <th>Accomodation</th>\n",
       "      <th>Best Travel Time</th>\n",
       "      <th>Date of Travel</th>\n",
       "      <th>Sex</th>\n",
       "      <th>Age</th>\n",
       "      <th>...</th>\n",
       "      <th>GraduateOrNot</th>\n",
       "      <th>AnnualIncome</th>\n",
       "      <th>FamilyMembers</th>\n",
       "      <th>ChronicDiseases</th>\n",
       "      <th>FrequentFlyer</th>\n",
       "      <th>EverTravelledAbroad</th>\n",
       "      <th>TravelInsurance</th>\n",
       "      <th>Year</th>\n",
       "      <th>Regional code</th>\n",
       "      <th>Country</th>\n",
       "    </tr>\n",
       "  </thead>\n",
       "  <tbody>\n",
       "    <tr>\n",
       "      <th>0</th>\n",
       "      <td>Annapurna Base Camp Heli Trek</td>\n",
       "      <td>1750</td>\n",
       "      <td>9</td>\n",
       "      <td>1</td>\n",
       "      <td>4210.0</td>\n",
       "      <td>Hotel/Teahouses</td>\n",
       "      <td>Spring/Autumn</td>\n",
       "      <td>8/7/2023</td>\n",
       "      <td>Transgender</td>\n",
       "      <td>27</td>\n",
       "      <td>...</td>\n",
       "      <td>Yes</td>\n",
       "      <td>1050000</td>\n",
       "      <td>3</td>\n",
       "      <td>0</td>\n",
       "      <td>No</td>\n",
       "      <td>No</td>\n",
       "      <td>0</td>\n",
       "      <td>2017</td>\n",
       "      <td>3980</td>\n",
       "      <td>Kazakhstan</td>\n",
       "    </tr>\n",
       "    <tr>\n",
       "      <th>1</th>\n",
       "      <td>Annapurna Base Camp Heli Trek</td>\n",
       "      <td>1750</td>\n",
       "      <td>9</td>\n",
       "      <td>1</td>\n",
       "      <td>4210.0</td>\n",
       "      <td>Hotel/Teahouses</td>\n",
       "      <td>Spring/Autumn</td>\n",
       "      <td>5/27/2023</td>\n",
       "      <td>Transgender</td>\n",
       "      <td>28</td>\n",
       "      <td>...</td>\n",
       "      <td>Yes</td>\n",
       "      <td>300000</td>\n",
       "      <td>6</td>\n",
       "      <td>0</td>\n",
       "      <td>No</td>\n",
       "      <td>No</td>\n",
       "      <td>0</td>\n",
       "      <td>2017</td>\n",
       "      <td>7050</td>\n",
       "      <td>Slovenia</td>\n",
       "    </tr>\n",
       "    <tr>\n",
       "      <th>2</th>\n",
       "      <td>Annapurna Base Camp Heli Trek</td>\n",
       "      <td>1750</td>\n",
       "      <td>9</td>\n",
       "      <td>1</td>\n",
       "      <td>4210.0</td>\n",
       "      <td>Hotel/Teahouses</td>\n",
       "      <td>Spring/Autumn</td>\n",
       "      <td>5/7/2022</td>\n",
       "      <td>Non-Binary</td>\n",
       "      <td>29</td>\n",
       "      <td>...</td>\n",
       "      <td>Yes</td>\n",
       "      <td>600000</td>\n",
       "      <td>3</td>\n",
       "      <td>1</td>\n",
       "      <td>No</td>\n",
       "      <td>No</td>\n",
       "      <td>0</td>\n",
       "      <td>2016</td>\n",
       "      <td>1520</td>\n",
       "      <td>Chile</td>\n",
       "    </tr>\n",
       "    <tr>\n",
       "      <th>3</th>\n",
       "      <td>Annapurna Base Camp Heli Trek</td>\n",
       "      <td>1750</td>\n",
       "      <td>9</td>\n",
       "      <td>1</td>\n",
       "      <td>4210.0</td>\n",
       "      <td>Hotel/Teahouses</td>\n",
       "      <td>Spring/Autumn</td>\n",
       "      <td>10/7/2022</td>\n",
       "      <td>Male</td>\n",
       "      <td>28</td>\n",
       "      <td>...</td>\n",
       "      <td>Yes</td>\n",
       "      <td>1150000</td>\n",
       "      <td>4</td>\n",
       "      <td>1</td>\n",
       "      <td>No</td>\n",
       "      <td>No</td>\n",
       "      <td>0</td>\n",
       "      <td>2017</td>\n",
       "      <td>560</td>\n",
       "      <td>Belgium</td>\n",
       "    </tr>\n",
       "    <tr>\n",
       "      <th>4</th>\n",
       "      <td>Annapurna Base Camp Heli Trek</td>\n",
       "      <td>1750</td>\n",
       "      <td>9</td>\n",
       "      <td>1</td>\n",
       "      <td>4210.0</td>\n",
       "      <td>Hotel/Teahouses</td>\n",
       "      <td>Spring/Autumn</td>\n",
       "      <td>6/24/2022</td>\n",
       "      <td>Non-Binary</td>\n",
       "      <td>32</td>\n",
       "      <td>...</td>\n",
       "      <td>Yes</td>\n",
       "      <td>850000</td>\n",
       "      <td>7</td>\n",
       "      <td>0</td>\n",
       "      <td>No</td>\n",
       "      <td>No</td>\n",
       "      <td>0</td>\n",
       "      <td>2016</td>\n",
       "      <td>4540</td>\n",
       "      <td>Malawi</td>\n",
       "    </tr>\n",
       "    <tr>\n",
       "      <th>...</th>\n",
       "      <td>...</td>\n",
       "      <td>...</td>\n",
       "      <td>...</td>\n",
       "      <td>...</td>\n",
       "      <td>...</td>\n",
       "      <td>...</td>\n",
       "      <td>...</td>\n",
       "      <td>...</td>\n",
       "      <td>...</td>\n",
       "      <td>...</td>\n",
       "      <td>...</td>\n",
       "      <td>...</td>\n",
       "      <td>...</td>\n",
       "      <td>...</td>\n",
       "      <td>...</td>\n",
       "      <td>...</td>\n",
       "      <td>...</td>\n",
       "      <td>...</td>\n",
       "      <td>...</td>\n",
       "      <td>...</td>\n",
       "      <td>...</td>\n",
       "    </tr>\n",
       "    <tr>\n",
       "      <th>378</th>\n",
       "      <td>Upper Mustang Trek</td>\n",
       "      <td>1499</td>\n",
       "      <td>17</td>\n",
       "      <td>3</td>\n",
       "      <td>3870.0</td>\n",
       "      <td>Hotel/Guesthouse</td>\n",
       "      <td>Spring/Autumn/Winter</td>\n",
       "      <td>5/22/2022</td>\n",
       "      <td>Non-Binary</td>\n",
       "      <td>31</td>\n",
       "      <td>...</td>\n",
       "      <td>Yes</td>\n",
       "      <td>1500000</td>\n",
       "      <td>4</td>\n",
       "      <td>1</td>\n",
       "      <td>Yes</td>\n",
       "      <td>Yes</td>\n",
       "      <td>1</td>\n",
       "      <td>2017</td>\n",
       "      <td>4960</td>\n",
       "      <td>Mongolia</td>\n",
       "    </tr>\n",
       "    <tr>\n",
       "      <th>379</th>\n",
       "      <td>Upper Mustang Trek</td>\n",
       "      <td>1499</td>\n",
       "      <td>17</td>\n",
       "      <td>3</td>\n",
       "      <td>3870.0</td>\n",
       "      <td>Hotel/Guesthouse</td>\n",
       "      <td>Spring/Autumn/Winter</td>\n",
       "      <td>9/29/2021</td>\n",
       "      <td>Male</td>\n",
       "      <td>27</td>\n",
       "      <td>...</td>\n",
       "      <td>No</td>\n",
       "      <td>800000</td>\n",
       "      <td>7</td>\n",
       "      <td>1</td>\n",
       "      <td>No</td>\n",
       "      <td>No</td>\n",
       "      <td>0</td>\n",
       "      <td>2016</td>\n",
       "      <td>5860</td>\n",
       "      <td>Pakistan</td>\n",
       "    </tr>\n",
       "    <tr>\n",
       "      <th>380</th>\n",
       "      <td>Upper Mustang Trek</td>\n",
       "      <td>1499</td>\n",
       "      <td>17</td>\n",
       "      <td>3</td>\n",
       "      <td>3870.0</td>\n",
       "      <td>Hotel/Guesthouse</td>\n",
       "      <td>Spring/Autumn/Winter</td>\n",
       "      <td>3/23/2022</td>\n",
       "      <td>Female</td>\n",
       "      <td>25</td>\n",
       "      <td>...</td>\n",
       "      <td>Yes</td>\n",
       "      <td>1400000</td>\n",
       "      <td>7</td>\n",
       "      <td>0</td>\n",
       "      <td>No</td>\n",
       "      <td>Yes</td>\n",
       "      <td>1</td>\n",
       "      <td>2017</td>\n",
       "      <td>1910</td>\n",
       "      <td>Croatia</td>\n",
       "    </tr>\n",
       "    <tr>\n",
       "      <th>381</th>\n",
       "      <td>Upper Mustang Trek</td>\n",
       "      <td>1499</td>\n",
       "      <td>17</td>\n",
       "      <td>3</td>\n",
       "      <td>3870.0</td>\n",
       "      <td>Hotel/Guesthouse</td>\n",
       "      <td>Spring/Autumn/Winter</td>\n",
       "      <td>3/12/2023</td>\n",
       "      <td>Non-Binary</td>\n",
       "      <td>28</td>\n",
       "      <td>...</td>\n",
       "      <td>Yes</td>\n",
       "      <td>800000</td>\n",
       "      <td>4</td>\n",
       "      <td>1</td>\n",
       "      <td>No</td>\n",
       "      <td>Yes</td>\n",
       "      <td>0</td>\n",
       "      <td>2017</td>\n",
       "      <td>8400</td>\n",
       "      <td>united states of america</td>\n",
       "    </tr>\n",
       "    <tr>\n",
       "      <th>382</th>\n",
       "      <td>Upper Mustang Trek</td>\n",
       "      <td>1499</td>\n",
       "      <td>17</td>\n",
       "      <td>3</td>\n",
       "      <td>3870.0</td>\n",
       "      <td>Hotel/Guesthouse</td>\n",
       "      <td>Spring/Autumn/Winter</td>\n",
       "      <td>10/13/2021</td>\n",
       "      <td>Transgender</td>\n",
       "      <td>31</td>\n",
       "      <td>...</td>\n",
       "      <td>Yes</td>\n",
       "      <td>400000</td>\n",
       "      <td>5</td>\n",
       "      <td>0</td>\n",
       "      <td>No</td>\n",
       "      <td>No</td>\n",
       "      <td>0</td>\n",
       "      <td>2016</td>\n",
       "      <td>2660</td>\n",
       "      <td>Gabon</td>\n",
       "    </tr>\n",
       "  </tbody>\n",
       "</table>\n",
       "<p>383 rows × 21 columns</p>\n",
       "</div>"
      ],
      "text/plain": [
       "                              Trek  Cost Time  Trip Grade  Max Altitude  \\\n",
       "0    Annapurna Base Camp Heli Trek  1750    9           1        4210.0   \n",
       "1    Annapurna Base Camp Heli Trek  1750    9           1        4210.0   \n",
       "2    Annapurna Base Camp Heli Trek  1750    9           1        4210.0   \n",
       "3    Annapurna Base Camp Heli Trek  1750    9           1        4210.0   \n",
       "4    Annapurna Base Camp Heli Trek  1750    9           1        4210.0   \n",
       "..                             ...   ...  ...         ...           ...   \n",
       "378            Upper Mustang Trek   1499   17           3        3870.0   \n",
       "379            Upper Mustang Trek   1499   17           3        3870.0   \n",
       "380            Upper Mustang Trek   1499   17           3        3870.0   \n",
       "381            Upper Mustang Trek   1499   17           3        3870.0   \n",
       "382            Upper Mustang Trek   1499   17           3        3870.0   \n",
       "\n",
       "         Accomodation      Best Travel Time Date of Travel          Sex  Age  \\\n",
       "0     Hotel/Teahouses         Spring/Autumn       8/7/2023  Transgender   27   \n",
       "1     Hotel/Teahouses         Spring/Autumn      5/27/2023  Transgender   28   \n",
       "2     Hotel/Teahouses         Spring/Autumn       5/7/2022   Non-Binary   29   \n",
       "3     Hotel/Teahouses         Spring/Autumn      10/7/2022         Male   28   \n",
       "4     Hotel/Teahouses         Spring/Autumn      6/24/2022   Non-Binary   32   \n",
       "..                ...                   ...            ...          ...  ...   \n",
       "378  Hotel/Guesthouse  Spring/Autumn/Winter      5/22/2022   Non-Binary   31   \n",
       "379  Hotel/Guesthouse  Spring/Autumn/Winter      9/29/2021         Male   27   \n",
       "380  Hotel/Guesthouse  Spring/Autumn/Winter      3/23/2022       Female   25   \n",
       "381  Hotel/Guesthouse  Spring/Autumn/Winter      3/12/2023   Non-Binary   28   \n",
       "382  Hotel/Guesthouse  Spring/Autumn/Winter     10/13/2021  Transgender   31   \n",
       "\n",
       "     ... GraduateOrNot AnnualIncome  FamilyMembers  ChronicDiseases  \\\n",
       "0    ...           Yes      1050000              3                0   \n",
       "1    ...           Yes       300000              6                0   \n",
       "2    ...           Yes       600000              3                1   \n",
       "3    ...           Yes      1150000              4                1   \n",
       "4    ...           Yes       850000              7                0   \n",
       "..   ...           ...          ...            ...              ...   \n",
       "378  ...           Yes      1500000              4                1   \n",
       "379  ...            No       800000              7                1   \n",
       "380  ...           Yes      1400000              7                0   \n",
       "381  ...           Yes       800000              4                1   \n",
       "382  ...           Yes       400000              5                0   \n",
       "\n",
       "     FrequentFlyer EverTravelledAbroad TravelInsurance  Year  Regional code  \\\n",
       "0               No                  No               0  2017           3980   \n",
       "1               No                  No               0  2017           7050   \n",
       "2               No                  No               0  2016           1520   \n",
       "3               No                  No               0  2017            560   \n",
       "4               No                  No               0  2016           4540   \n",
       "..             ...                 ...             ...   ...            ...   \n",
       "378            Yes                 Yes               1  2017           4960   \n",
       "379             No                  No               0  2016           5860   \n",
       "380             No                 Yes               1  2017           1910   \n",
       "381             No                 Yes               0  2017           8400   \n",
       "382             No                  No               0  2016           2660   \n",
       "\n",
       "                      Country  \n",
       "0                  Kazakhstan  \n",
       "1                    Slovenia  \n",
       "2                       Chile  \n",
       "3                     Belgium  \n",
       "4                      Malawi  \n",
       "..                        ...  \n",
       "378                  Mongolia  \n",
       "379                  Pakistan  \n",
       "380                   Croatia  \n",
       "381  united states of america  \n",
       "382                     Gabon  \n",
       "\n",
       "[383 rows x 21 columns]"
      ]
     },
     "execution_count": 45,
     "metadata": {},
     "output_type": "execute_result"
    }
   ],
   "source": [
    "# Best travel time mapping \n",
    "seasons = {\n",
    "    'Jan - May & Sept - Dec': 'Spring/Autumn/Winter',\n",
    "    'March - May & Sept - Dec': 'Spring/Autumn',\n",
    "    'March - May & Sept - Nov': 'Spring/Autumn',\n",
    "    'March-May & Sept-Dec':'Spring/Autumn'\n",
    "}\n",
    "\n",
    "df[\"Best Travel Time\"] = df[\"Best Travel Time\"].map(seasons)\n",
    "df"
   ]
  },
  {
   "cell_type": "code",
   "execution_count": 46,
   "metadata": {},
   "outputs": [],
   "source": [
    "# Clean the 'Accomodation' column by removing 'Hotel/' substring\n",
    "df['Accomodation'] = df['Accomodation'].replace('Hotel/', '', regex=True)"
   ]
  },
  {
   "cell_type": "code",
   "execution_count": 47,
   "metadata": {},
   "outputs": [],
   "source": [
    "accommodation_replacements = {\n",
    "    'Guest House': 'Guesthouse',\n",
    "    'Guest Houses': 'Guesthouse',\n",
    "    'Guesthouse': 'Guesthouse',\n",
    "    'Guesthouses': 'Guesthouse',\n",
    "    'Teahouse': 'Teahouse',\n",
    "    'Teahouses': 'Teahouse',\n",
    "    'Teahouses/Lodges': 'Teahouse',\n",
    "    'Lodges': 'Lodge',\n",
    "    'Luxury Lodges': 'Lodge'\n",
    "}\n",
    "\n",
    "# Apply the replacements to the 'Accomodation' column\n",
    "df['Accomodation'] = df['Accomodation'].replace(accommodation_replacements)"
   ]
  },
  {
   "cell_type": "code",
   "execution_count": 48,
   "metadata": {},
   "outputs": [
    {
     "data": {
      "text/html": [
       "<div>\n",
       "<style scoped>\n",
       "    .dataframe tbody tr th:only-of-type {\n",
       "        vertical-align: middle;\n",
       "    }\n",
       "\n",
       "    .dataframe tbody tr th {\n",
       "        vertical-align: top;\n",
       "    }\n",
       "\n",
       "    .dataframe thead th {\n",
       "        text-align: right;\n",
       "    }\n",
       "</style>\n",
       "<table border=\"1\" class=\"dataframe\">\n",
       "  <thead>\n",
       "    <tr style=\"text-align: right;\">\n",
       "      <th></th>\n",
       "      <th>Trek</th>\n",
       "      <th>Cost</th>\n",
       "      <th>Time</th>\n",
       "      <th>Trip Grade</th>\n",
       "      <th>Max Altitude</th>\n",
       "      <th>Accomodation</th>\n",
       "      <th>Best Travel Time</th>\n",
       "      <th>Date of Travel</th>\n",
       "      <th>Sex</th>\n",
       "      <th>Age</th>\n",
       "      <th>...</th>\n",
       "      <th>AnnualIncome</th>\n",
       "      <th>FamilyMembers</th>\n",
       "      <th>ChronicDiseases</th>\n",
       "      <th>FrequentFlyer</th>\n",
       "      <th>EverTravelledAbroad</th>\n",
       "      <th>TravelInsurance</th>\n",
       "      <th>Year</th>\n",
       "      <th>Regional code</th>\n",
       "      <th>Country</th>\n",
       "      <th>Cluster</th>\n",
       "    </tr>\n",
       "  </thead>\n",
       "  <tbody>\n",
       "    <tr>\n",
       "      <th>0</th>\n",
       "      <td>Annapurna Base Camp Heli Trek</td>\n",
       "      <td>1750</td>\n",
       "      <td>9</td>\n",
       "      <td>1</td>\n",
       "      <td>4210.0</td>\n",
       "      <td>Teahouse</td>\n",
       "      <td>Spring/Autumn</td>\n",
       "      <td>8/7/2023</td>\n",
       "      <td>Transgender</td>\n",
       "      <td>27</td>\n",
       "      <td>...</td>\n",
       "      <td>1050000</td>\n",
       "      <td>3</td>\n",
       "      <td>0</td>\n",
       "      <td>No</td>\n",
       "      <td>No</td>\n",
       "      <td>0</td>\n",
       "      <td>2017</td>\n",
       "      <td>3980</td>\n",
       "      <td>Kazakhstan</td>\n",
       "      <td>1</td>\n",
       "    </tr>\n",
       "    <tr>\n",
       "      <th>1</th>\n",
       "      <td>Annapurna Base Camp Heli Trek</td>\n",
       "      <td>1750</td>\n",
       "      <td>9</td>\n",
       "      <td>1</td>\n",
       "      <td>4210.0</td>\n",
       "      <td>Teahouse</td>\n",
       "      <td>Spring/Autumn</td>\n",
       "      <td>5/27/2023</td>\n",
       "      <td>Transgender</td>\n",
       "      <td>28</td>\n",
       "      <td>...</td>\n",
       "      <td>300000</td>\n",
       "      <td>6</td>\n",
       "      <td>0</td>\n",
       "      <td>No</td>\n",
       "      <td>No</td>\n",
       "      <td>0</td>\n",
       "      <td>2017</td>\n",
       "      <td>7050</td>\n",
       "      <td>Slovenia</td>\n",
       "      <td>1</td>\n",
       "    </tr>\n",
       "    <tr>\n",
       "      <th>2</th>\n",
       "      <td>Annapurna Base Camp Heli Trek</td>\n",
       "      <td>1750</td>\n",
       "      <td>9</td>\n",
       "      <td>1</td>\n",
       "      <td>4210.0</td>\n",
       "      <td>Teahouse</td>\n",
       "      <td>Spring/Autumn</td>\n",
       "      <td>5/7/2022</td>\n",
       "      <td>Non-Binary</td>\n",
       "      <td>29</td>\n",
       "      <td>...</td>\n",
       "      <td>600000</td>\n",
       "      <td>3</td>\n",
       "      <td>1</td>\n",
       "      <td>No</td>\n",
       "      <td>No</td>\n",
       "      <td>0</td>\n",
       "      <td>2016</td>\n",
       "      <td>1520</td>\n",
       "      <td>Chile</td>\n",
       "      <td>1</td>\n",
       "    </tr>\n",
       "    <tr>\n",
       "      <th>3</th>\n",
       "      <td>Annapurna Base Camp Heli Trek</td>\n",
       "      <td>1750</td>\n",
       "      <td>9</td>\n",
       "      <td>1</td>\n",
       "      <td>4210.0</td>\n",
       "      <td>Teahouse</td>\n",
       "      <td>Spring/Autumn</td>\n",
       "      <td>10/7/2022</td>\n",
       "      <td>Male</td>\n",
       "      <td>28</td>\n",
       "      <td>...</td>\n",
       "      <td>1150000</td>\n",
       "      <td>4</td>\n",
       "      <td>1</td>\n",
       "      <td>No</td>\n",
       "      <td>No</td>\n",
       "      <td>0</td>\n",
       "      <td>2017</td>\n",
       "      <td>560</td>\n",
       "      <td>Belgium</td>\n",
       "      <td>1</td>\n",
       "    </tr>\n",
       "    <tr>\n",
       "      <th>4</th>\n",
       "      <td>Annapurna Base Camp Heli Trek</td>\n",
       "      <td>1750</td>\n",
       "      <td>9</td>\n",
       "      <td>1</td>\n",
       "      <td>4210.0</td>\n",
       "      <td>Teahouse</td>\n",
       "      <td>Spring/Autumn</td>\n",
       "      <td>6/24/2022</td>\n",
       "      <td>Non-Binary</td>\n",
       "      <td>32</td>\n",
       "      <td>...</td>\n",
       "      <td>850000</td>\n",
       "      <td>7</td>\n",
       "      <td>0</td>\n",
       "      <td>No</td>\n",
       "      <td>No</td>\n",
       "      <td>0</td>\n",
       "      <td>2016</td>\n",
       "      <td>4540</td>\n",
       "      <td>Malawi</td>\n",
       "      <td>1</td>\n",
       "    </tr>\n",
       "    <tr>\n",
       "      <th>...</th>\n",
       "      <td>...</td>\n",
       "      <td>...</td>\n",
       "      <td>...</td>\n",
       "      <td>...</td>\n",
       "      <td>...</td>\n",
       "      <td>...</td>\n",
       "      <td>...</td>\n",
       "      <td>...</td>\n",
       "      <td>...</td>\n",
       "      <td>...</td>\n",
       "      <td>...</td>\n",
       "      <td>...</td>\n",
       "      <td>...</td>\n",
       "      <td>...</td>\n",
       "      <td>...</td>\n",
       "      <td>...</td>\n",
       "      <td>...</td>\n",
       "      <td>...</td>\n",
       "      <td>...</td>\n",
       "      <td>...</td>\n",
       "      <td>...</td>\n",
       "    </tr>\n",
       "    <tr>\n",
       "      <th>378</th>\n",
       "      <td>Upper Mustang Trek</td>\n",
       "      <td>1499</td>\n",
       "      <td>17</td>\n",
       "      <td>3</td>\n",
       "      <td>3870.0</td>\n",
       "      <td>Guesthouse</td>\n",
       "      <td>Spring/Autumn/Winter</td>\n",
       "      <td>5/22/2022</td>\n",
       "      <td>Non-Binary</td>\n",
       "      <td>31</td>\n",
       "      <td>...</td>\n",
       "      <td>1500000</td>\n",
       "      <td>4</td>\n",
       "      <td>1</td>\n",
       "      <td>Yes</td>\n",
       "      <td>Yes</td>\n",
       "      <td>1</td>\n",
       "      <td>2017</td>\n",
       "      <td>4960</td>\n",
       "      <td>Mongolia</td>\n",
       "      <td>13</td>\n",
       "    </tr>\n",
       "    <tr>\n",
       "      <th>379</th>\n",
       "      <td>Upper Mustang Trek</td>\n",
       "      <td>1499</td>\n",
       "      <td>17</td>\n",
       "      <td>3</td>\n",
       "      <td>3870.0</td>\n",
       "      <td>Guesthouse</td>\n",
       "      <td>Spring/Autumn/Winter</td>\n",
       "      <td>9/29/2021</td>\n",
       "      <td>Male</td>\n",
       "      <td>27</td>\n",
       "      <td>...</td>\n",
       "      <td>800000</td>\n",
       "      <td>7</td>\n",
       "      <td>1</td>\n",
       "      <td>No</td>\n",
       "      <td>No</td>\n",
       "      <td>0</td>\n",
       "      <td>2016</td>\n",
       "      <td>5860</td>\n",
       "      <td>Pakistan</td>\n",
       "      <td>13</td>\n",
       "    </tr>\n",
       "    <tr>\n",
       "      <th>380</th>\n",
       "      <td>Upper Mustang Trek</td>\n",
       "      <td>1499</td>\n",
       "      <td>17</td>\n",
       "      <td>3</td>\n",
       "      <td>3870.0</td>\n",
       "      <td>Guesthouse</td>\n",
       "      <td>Spring/Autumn/Winter</td>\n",
       "      <td>3/23/2022</td>\n",
       "      <td>Female</td>\n",
       "      <td>25</td>\n",
       "      <td>...</td>\n",
       "      <td>1400000</td>\n",
       "      <td>7</td>\n",
       "      <td>0</td>\n",
       "      <td>No</td>\n",
       "      <td>Yes</td>\n",
       "      <td>1</td>\n",
       "      <td>2017</td>\n",
       "      <td>1910</td>\n",
       "      <td>Croatia</td>\n",
       "      <td>13</td>\n",
       "    </tr>\n",
       "    <tr>\n",
       "      <th>381</th>\n",
       "      <td>Upper Mustang Trek</td>\n",
       "      <td>1499</td>\n",
       "      <td>17</td>\n",
       "      <td>3</td>\n",
       "      <td>3870.0</td>\n",
       "      <td>Guesthouse</td>\n",
       "      <td>Spring/Autumn/Winter</td>\n",
       "      <td>3/12/2023</td>\n",
       "      <td>Non-Binary</td>\n",
       "      <td>28</td>\n",
       "      <td>...</td>\n",
       "      <td>800000</td>\n",
       "      <td>4</td>\n",
       "      <td>1</td>\n",
       "      <td>No</td>\n",
       "      <td>Yes</td>\n",
       "      <td>0</td>\n",
       "      <td>2017</td>\n",
       "      <td>8400</td>\n",
       "      <td>united states of america</td>\n",
       "      <td>13</td>\n",
       "    </tr>\n",
       "    <tr>\n",
       "      <th>382</th>\n",
       "      <td>Upper Mustang Trek</td>\n",
       "      <td>1499</td>\n",
       "      <td>17</td>\n",
       "      <td>3</td>\n",
       "      <td>3870.0</td>\n",
       "      <td>Guesthouse</td>\n",
       "      <td>Spring/Autumn/Winter</td>\n",
       "      <td>10/13/2021</td>\n",
       "      <td>Transgender</td>\n",
       "      <td>31</td>\n",
       "      <td>...</td>\n",
       "      <td>400000</td>\n",
       "      <td>5</td>\n",
       "      <td>0</td>\n",
       "      <td>No</td>\n",
       "      <td>No</td>\n",
       "      <td>0</td>\n",
       "      <td>2016</td>\n",
       "      <td>2660</td>\n",
       "      <td>Gabon</td>\n",
       "      <td>13</td>\n",
       "    </tr>\n",
       "  </tbody>\n",
       "</table>\n",
       "<p>338 rows × 22 columns</p>\n",
       "</div>"
      ],
      "text/plain": [
       "                              Trek  Cost Time  Trip Grade  Max Altitude  \\\n",
       "0    Annapurna Base Camp Heli Trek  1750    9           1        4210.0   \n",
       "1    Annapurna Base Camp Heli Trek  1750    9           1        4210.0   \n",
       "2    Annapurna Base Camp Heli Trek  1750    9           1        4210.0   \n",
       "3    Annapurna Base Camp Heli Trek  1750    9           1        4210.0   \n",
       "4    Annapurna Base Camp Heli Trek  1750    9           1        4210.0   \n",
       "..                             ...   ...  ...         ...           ...   \n",
       "378            Upper Mustang Trek   1499   17           3        3870.0   \n",
       "379            Upper Mustang Trek   1499   17           3        3870.0   \n",
       "380            Upper Mustang Trek   1499   17           3        3870.0   \n",
       "381            Upper Mustang Trek   1499   17           3        3870.0   \n",
       "382            Upper Mustang Trek   1499   17           3        3870.0   \n",
       "\n",
       "    Accomodation      Best Travel Time Date of Travel          Sex  Age  ...  \\\n",
       "0       Teahouse         Spring/Autumn       8/7/2023  Transgender   27  ...   \n",
       "1       Teahouse         Spring/Autumn      5/27/2023  Transgender   28  ...   \n",
       "2       Teahouse         Spring/Autumn       5/7/2022   Non-Binary   29  ...   \n",
       "3       Teahouse         Spring/Autumn      10/7/2022         Male   28  ...   \n",
       "4       Teahouse         Spring/Autumn      6/24/2022   Non-Binary   32  ...   \n",
       "..           ...                   ...            ...          ...  ...  ...   \n",
       "378   Guesthouse  Spring/Autumn/Winter      5/22/2022   Non-Binary   31  ...   \n",
       "379   Guesthouse  Spring/Autumn/Winter      9/29/2021         Male   27  ...   \n",
       "380   Guesthouse  Spring/Autumn/Winter      3/23/2022       Female   25  ...   \n",
       "381   Guesthouse  Spring/Autumn/Winter      3/12/2023   Non-Binary   28  ...   \n",
       "382   Guesthouse  Spring/Autumn/Winter     10/13/2021  Transgender   31  ...   \n",
       "\n",
       "    AnnualIncome FamilyMembers  ChronicDiseases  FrequentFlyer  \\\n",
       "0        1050000             3                0             No   \n",
       "1         300000             6                0             No   \n",
       "2         600000             3                1             No   \n",
       "3        1150000             4                1             No   \n",
       "4         850000             7                0             No   \n",
       "..           ...           ...              ...            ...   \n",
       "378      1500000             4                1            Yes   \n",
       "379       800000             7                1             No   \n",
       "380      1400000             7                0             No   \n",
       "381       800000             4                1             No   \n",
       "382       400000             5                0             No   \n",
       "\n",
       "     EverTravelledAbroad TravelInsurance  Year  Regional code  \\\n",
       "0                     No               0  2017           3980   \n",
       "1                     No               0  2017           7050   \n",
       "2                     No               0  2016           1520   \n",
       "3                     No               0  2017            560   \n",
       "4                     No               0  2016           4540   \n",
       "..                   ...             ...   ...            ...   \n",
       "378                  Yes               1  2017           4960   \n",
       "379                   No               0  2016           5860   \n",
       "380                  Yes               1  2017           1910   \n",
       "381                  Yes               0  2017           8400   \n",
       "382                   No               0  2016           2660   \n",
       "\n",
       "                      Country  Cluster  \n",
       "0                  Kazakhstan        1  \n",
       "1                    Slovenia        1  \n",
       "2                       Chile        1  \n",
       "3                     Belgium        1  \n",
       "4                      Malawi        1  \n",
       "..                        ...      ...  \n",
       "378                  Mongolia       13  \n",
       "379                  Pakistan       13  \n",
       "380                   Croatia       13  \n",
       "381  united states of america       13  \n",
       "382                     Gabon       13  \n",
       "\n",
       "[338 rows x 22 columns]"
      ]
     },
     "execution_count": 48,
     "metadata": {},
     "output_type": "execute_result"
    }
   ],
   "source": [
    "# Clustering\n",
    "df['Cluster'] = -1\n",
    "\n",
    "df.loc[df['Trek'].str.contains('Annapurna', case=False), 'Cluster'] = 1\n",
    "df.loc[df['Trek'].str.contains('Everest', case=False), 'Cluster'] = 2\n",
    "df.loc[df['Trek'].str.contains('Poon Hill', case=False), 'Cluster'] = 3\n",
    "df.loc[df['Trek'].str.contains('Gokyo', case=False), 'Cluster'] = 4\n",
    "df.loc[df['Trek'].str.contains('Helambu', case=False), 'Cluster'] = 5\n",
    "df.loc[df['Trek'].str.contains('Kanchenjunga', case=False), 'Cluster'] = 6\n",
    "df.loc[df['Trek'].str.contains('Langtang', case=False), 'Cluster'] = 7\n",
    "df.loc[df['Trek'].str.contains('Makalu', case=False), 'Cluster'] = 8\n",
    "df.loc[df['Trek'].str.contains('Manaslu', case=False), 'Cluster'] = 9\n",
    "df.loc[df['Trek'].str.contains('Mardi', case=False), 'Cluster'] = 10\n",
    "df.loc[df['Trek'].str.contains('Narphu', case=False), 'Cluster'] = 11\n",
    "df.loc[df['Trek'].str.contains('Rara', case=False), 'Cluster'] = 12\n",
    "df.loc[df['Trek'].str.contains('Mustang', case=False), 'Cluster'] = 13\n",
    "\n",
    "df = df[df['Cluster'] != -1]\n",
    "\n",
    "df"
   ]
  },
  {
   "cell_type": "code",
   "execution_count": 49,
   "metadata": {},
   "outputs": [],
   "source": [
    "# #date of travel column\n",
    "df['Date of Travel'] = pd.to_datetime(df['Date of Travel'], errors='coerce')"
   ]
  },
  {
   "cell_type": "code",
   "execution_count": 50,
   "metadata": {},
   "outputs": [
    {
     "data": {
      "text/html": [
       "<div>\n",
       "<style scoped>\n",
       "    .dataframe tbody tr th:only-of-type {\n",
       "        vertical-align: middle;\n",
       "    }\n",
       "\n",
       "    .dataframe tbody tr th {\n",
       "        vertical-align: top;\n",
       "    }\n",
       "\n",
       "    .dataframe thead th {\n",
       "        text-align: right;\n",
       "    }\n",
       "</style>\n",
       "<table border=\"1\" class=\"dataframe\">\n",
       "  <thead>\n",
       "    <tr style=\"text-align: right;\">\n",
       "      <th></th>\n",
       "      <th>Trek</th>\n",
       "      <th>Cost</th>\n",
       "      <th>Time</th>\n",
       "      <th>Trip Grade</th>\n",
       "      <th>Max Altitude</th>\n",
       "      <th>Accomodation</th>\n",
       "      <th>Best Travel Time</th>\n",
       "      <th>Date of Travel</th>\n",
       "      <th>Sex</th>\n",
       "      <th>Age</th>\n",
       "      <th>...</th>\n",
       "      <th>AnnualIncome</th>\n",
       "      <th>FamilyMembers</th>\n",
       "      <th>ChronicDiseases</th>\n",
       "      <th>FrequentFlyer</th>\n",
       "      <th>EverTravelledAbroad</th>\n",
       "      <th>TravelInsurance</th>\n",
       "      <th>Year</th>\n",
       "      <th>Regional code</th>\n",
       "      <th>Country</th>\n",
       "      <th>Cluster</th>\n",
       "    </tr>\n",
       "  </thead>\n",
       "  <tbody>\n",
       "    <tr>\n",
       "      <th>244</th>\n",
       "      <td>Manaslu Circuit Trek</td>\n",
       "      <td>1190</td>\n",
       "      <td>17</td>\n",
       "      <td>3</td>\n",
       "      <td>5220.0</td>\n",
       "      <td>Guesthouse</td>\n",
       "      <td>Spring/Autumn/Winter</td>\n",
       "      <td>2025-05-13</td>\n",
       "      <td>Female</td>\n",
       "      <td>31</td>\n",
       "      <td>...</td>\n",
       "      <td>1400000</td>\n",
       "      <td>3</td>\n",
       "      <td>1</td>\n",
       "      <td>Yes</td>\n",
       "      <td>No</td>\n",
       "      <td>1</td>\n",
       "      <td>5460</td>\n",
       "      <td>4560</td>\n",
       "      <td>Nepal</td>\n",
       "      <td>9</td>\n",
       "    </tr>\n",
       "  </tbody>\n",
       "</table>\n",
       "<p>1 rows × 22 columns</p>\n",
       "</div>"
      ],
      "text/plain": [
       "                     Trek  Cost Time  Trip Grade  Max Altitude Accomodation  \\\n",
       "244  Manaslu Circuit Trek  1190   17           3        5220.0   Guesthouse   \n",
       "\n",
       "         Best Travel Time Date of Travel     Sex  Age  ... AnnualIncome  \\\n",
       "244  Spring/Autumn/Winter     2025-05-13  Female   31  ...      1400000   \n",
       "\n",
       "    FamilyMembers  ChronicDiseases  FrequentFlyer  EverTravelledAbroad  \\\n",
       "244             3                1            Yes                   No   \n",
       "\n",
       "    TravelInsurance  Year  Regional code  Country  Cluster  \n",
       "244               1  5460           4560    Nepal        9  \n",
       "\n",
       "[1 rows x 22 columns]"
      ]
     },
     "execution_count": 50,
     "metadata": {},
     "output_type": "execute_result"
    }
   ],
   "source": [
    "df[df['Year']==5460]"
   ]
  },
  {
   "cell_type": "code",
   "execution_count": 51,
   "metadata": {},
   "outputs": [],
   "source": [
    "#year value 5460  change with the mode value\n",
    "mode_year = df['Year'].mode()[0]\n",
    "df['Year'] = df['Year'].replace(5460, mode_year)"
   ]
  },
  {
   "cell_type": "code",
   "execution_count": 52,
   "metadata": {},
   "outputs": [],
   "source": [
    "# Map 'GraduateOrNot' column to 0 and 1\n",
    "df['GraduateOrNot'] = df['GraduateOrNot'].map({'Yes': 1, 'No': 0})"
   ]
  },
  {
   "cell_type": "code",
   "execution_count": 53,
   "metadata": {},
   "outputs": [
    {
     "data": {
      "text/plain": [
       "0    1\n",
       "1    1\n",
       "2    1\n",
       "3    1\n",
       "4    1\n",
       "5    1\n",
       "6    1\n",
       "7    0\n",
       "8    1\n",
       "9    1\n",
       "Name: GraduateOrNot, dtype: int64"
      ]
     },
     "execution_count": 53,
     "metadata": {},
     "output_type": "execute_result"
    }
   ],
   "source": [
    "df['GraduateOrNot'].head(10)"
   ]
  },
  {
   "cell_type": "code",
   "execution_count": 54,
   "metadata": {},
   "outputs": [],
   "source": [
    "#frequentflyer column mapping as 0 and 1\n",
    "df['FrequentFlyer'] = df['FrequentFlyer'].map({'Yes': 1, 'No': 0})"
   ]
  },
  {
   "cell_type": "code",
   "execution_count": 55,
   "metadata": {},
   "outputs": [],
   "source": [
    "df['EverTravelledAbroad']=df['EverTravelledAbroad'].map({'Yes':1,'No':0})"
   ]
  },
  {
   "cell_type": "code",
   "execution_count": 56,
   "metadata": {},
   "outputs": [],
   "source": [
    "#employment  Type column \n",
    "df['Employment Type'] = df['Employment Type'].str.strip().str.lower() \n",
    "\n",
    "#mapping\n",
    "employment_mapping = {\n",
    "    'government sector': 0,\n",
    "    'private sector/self employed': 1\n",
    "}\n",
    "\n",
    "df['Employment Type'] = df['Employment Type'].map(employment_mapping)"
   ]
  },
  {
   "cell_type": "markdown",
   "metadata": {},
   "source": [
    "Trekkers segmentation Analysis"
   ]
  },
  {
   "cell_type": "code",
   "execution_count": 57,
   "metadata": {},
   "outputs": [
    {
     "name": "stdout",
     "output_type": "stream",
     "text": [
      "Trekkers age distribution:\n",
      "count    338.000000\n",
      "mean      29.677515\n",
      "std        2.874140\n",
      "min       25.000000\n",
      "25%       28.000000\n",
      "50%       29.000000\n",
      "75%       32.000000\n",
      "max       35.000000\n",
      "Name: Age, dtype: float64\n",
      "Trekkers sex distribution (%):\n",
      "Sex\n",
      "Male           26.923077\n",
      "Female         26.627219\n",
      "Non-Binary     23.372781\n",
      "Transgender    23.076923\n",
      "Name: proportion, dtype: float64\n"
     ]
    }
   ],
   "source": [
    "# Trekkers demographics based on statistics\n",
    "# based on age\n",
    "age_dist = df['Age'].describe()\n",
    "print(\"Trekkers age distribution:\")\n",
    "print(age_dist)\n",
    "\n",
    "#based on sex in percentage\n",
    "sex_dist = df['Sex'].value_counts(normalize=True) * 100\n",
    "print(\"Trekkers sex distribution (%):\")\n",
    "print(sex_dist)"
   ]
  },
  {
   "cell_type": "code",
   "execution_count": 58,
   "metadata": {},
   "outputs": [
    {
     "data": {
      "application/vnd.plotly.v1+json": {
       "config": {
        "plotlyServerURL": "https://plot.ly"
       },
       "data": [
        {
         "domain": {
          "x": [
           0,
           1
          ],
          "y": [
           0,
           1
          ]
         },
         "hole": 0.3,
         "hovertemplate": "Sex=%{label}<extra></extra>",
         "labels": [
          "Transgender",
          "Transgender",
          "Non-Binary",
          "Male",
          "Non-Binary",
          "Transgender",
          "Male",
          "Female",
          "Non-Binary",
          "Male",
          "Transgender",
          "Male",
          "Non-Binary",
          "Non-Binary",
          "Male",
          "Non-Binary",
          "Transgender",
          "Non-Binary",
          "Female",
          "Male",
          "Transgender",
          "Non-Binary",
          "Non-Binary",
          "Female",
          "Female",
          "Male",
          "Female",
          "Female",
          "Transgender",
          "Male",
          "Female",
          "Non-Binary",
          "Non-Binary",
          "Male",
          "Female",
          "Female",
          "Male",
          "Transgender",
          "Female",
          "Female",
          "Non-Binary",
          "Male",
          "Male",
          "Transgender",
          "Female",
          "Transgender",
          "Female",
          "Non-Binary",
          "Female",
          "Male",
          "Female",
          "Non-Binary",
          "Male",
          "Non-Binary",
          "Non-Binary",
          "Transgender",
          "Male",
          "Male",
          "Male",
          "Transgender",
          "Male",
          "Transgender",
          "Male",
          "Transgender",
          "Non-Binary",
          "Female",
          "Male",
          "Transgender",
          "Transgender",
          "Transgender",
          "Female",
          "Male",
          "Male",
          "Non-Binary",
          "Non-Binary",
          "Male",
          "Transgender",
          "Male",
          "Male",
          "Male",
          "Male",
          "Female",
          "Transgender",
          "Male",
          "Female",
          "Non-Binary",
          "Female",
          "Female",
          "Male",
          "Female",
          "Transgender",
          "Non-Binary",
          "Male",
          "Transgender",
          "Transgender",
          "Female",
          "Non-Binary",
          "Male",
          "Non-Binary",
          "Female",
          "Female",
          "Female",
          "Non-Binary",
          "Transgender",
          "Male",
          "Female",
          "Male",
          "Female",
          "Female",
          "Transgender",
          "Male",
          "Non-Binary",
          "Non-Binary",
          "Non-Binary",
          "Non-Binary",
          "Female",
          "Non-Binary",
          "Female",
          "Transgender",
          "Non-Binary",
          "Female",
          "Male",
          "Male",
          "Female",
          "Female",
          "Non-Binary",
          "Non-Binary",
          "Female",
          "Non-Binary",
          "Female",
          "Female",
          "Transgender",
          "Transgender",
          "Female",
          "Non-Binary",
          "Male",
          "Male",
          "Non-Binary",
          "Male",
          "Male",
          "Transgender",
          "Non-Binary",
          "Transgender",
          "Female",
          "Male",
          "Female",
          "Non-Binary",
          "Transgender",
          "Non-Binary",
          "Non-Binary",
          "Transgender",
          "Transgender",
          "Non-Binary",
          "Transgender",
          "Non-Binary",
          "Transgender",
          "Non-Binary",
          "Transgender",
          "Male",
          "Transgender",
          "Female",
          "Female",
          "Non-Binary",
          "Female",
          "Transgender",
          "Non-Binary",
          "Female",
          "Female",
          "Female",
          "Transgender",
          "Transgender",
          "Non-Binary",
          "Male",
          "Male",
          "Female",
          "Male",
          "Non-Binary",
          "Male",
          "Female",
          "Male",
          "Transgender",
          "Female",
          "Non-Binary",
          "Non-Binary",
          "Female",
          "Female",
          "Transgender",
          "Male",
          "Non-Binary",
          "Male",
          "Transgender",
          "Male",
          "Transgender",
          "Male",
          "Male",
          "Male",
          "Non-Binary",
          "Female",
          "Female",
          "Male",
          "Non-Binary",
          "Transgender",
          "Female",
          "Male",
          "Male",
          "Male",
          "Transgender",
          "Non-Binary",
          "Female",
          "Male",
          "Female",
          "Transgender",
          "Male",
          "Male",
          "Non-Binary",
          "Female",
          "Transgender",
          "Male",
          "Transgender",
          "Female",
          "Female",
          "Male",
          "Transgender",
          "Transgender",
          "Female",
          "Transgender",
          "Female",
          "Transgender",
          "Transgender",
          "Male",
          "Female",
          "Non-Binary",
          "Non-Binary",
          "Transgender",
          "Transgender",
          "Female",
          "Male",
          "Male",
          "Female",
          "Female",
          "Female",
          "Transgender",
          "Female",
          "Female",
          "Male",
          "Male",
          "Male",
          "Transgender",
          "Male",
          "Non-Binary",
          "Non-Binary",
          "Male",
          "Transgender",
          "Male",
          "Non-Binary",
          "Male",
          "Transgender",
          "Non-Binary",
          "Transgender",
          "Female",
          "Non-Binary",
          "Transgender",
          "Male",
          "Non-Binary",
          "Female",
          "Non-Binary",
          "Non-Binary",
          "Male",
          "Female",
          "Female",
          "Transgender",
          "Male",
          "Transgender",
          "Male",
          "Transgender",
          "Transgender",
          "Transgender",
          "Transgender",
          "Transgender",
          "Transgender",
          "Female",
          "Non-Binary",
          "Male",
          "Non-Binary",
          "Male",
          "Male",
          "Female",
          "Female",
          "Non-Binary",
          "Non-Binary",
          "Female",
          "Non-Binary",
          "Male",
          "Non-Binary",
          "Transgender",
          "Female",
          "Female",
          "Female",
          "Transgender",
          "Female",
          "Male",
          "Non-Binary",
          "Transgender",
          "Non-Binary",
          "Non-Binary",
          "Female",
          "Male",
          "Male",
          "Male",
          "Transgender",
          "Female",
          "Male",
          "Male",
          "Female",
          "Non-Binary",
          "Non-Binary",
          "Transgender",
          "Female",
          "Transgender",
          "Female",
          "Female",
          "Non-Binary",
          "Male",
          "Female",
          "Male",
          "Female",
          "Non-Binary",
          "Male",
          "Non-Binary",
          "Transgender",
          "Transgender",
          "Male",
          "Female",
          "Non-Binary",
          "Male",
          "Female",
          "Non-Binary",
          "Transgender"
         ],
         "legendgroup": "",
         "marker": {
          "line": {
           "color": "#000000",
           "width": 2
          }
         },
         "name": "",
         "pull": [
          0.02,
          0.03
         ],
         "showlegend": true,
         "textinfo": "percent+label",
         "type": "pie"
        }
       ],
       "layout": {
        "annotations": [
         {
          "font": {
           "size": 20
          },
          "showarrow": false,
          "text": "Sex",
          "x": 0.5,
          "y": 0.5
         }
        ],
        "legend": {
         "tracegroupgap": 0
        },
        "margin": {
         "b": 0,
         "l": 0,
         "r": 0,
         "t": 0
        },
        "paper_bgcolor": "white",
        "showlegend": true,
        "template": {
         "data": {
          "bar": [
           {
            "error_x": {
             "color": "#2a3f5f"
            },
            "error_y": {
             "color": "#2a3f5f"
            },
            "marker": {
             "line": {
              "color": "#E5ECF6",
              "width": 0.5
             },
             "pattern": {
              "fillmode": "overlay",
              "size": 10,
              "solidity": 0.2
             }
            },
            "type": "bar"
           }
          ],
          "barpolar": [
           {
            "marker": {
             "line": {
              "color": "#E5ECF6",
              "width": 0.5
             },
             "pattern": {
              "fillmode": "overlay",
              "size": 10,
              "solidity": 0.2
             }
            },
            "type": "barpolar"
           }
          ],
          "carpet": [
           {
            "aaxis": {
             "endlinecolor": "#2a3f5f",
             "gridcolor": "white",
             "linecolor": "white",
             "minorgridcolor": "white",
             "startlinecolor": "#2a3f5f"
            },
            "baxis": {
             "endlinecolor": "#2a3f5f",
             "gridcolor": "white",
             "linecolor": "white",
             "minorgridcolor": "white",
             "startlinecolor": "#2a3f5f"
            },
            "type": "carpet"
           }
          ],
          "choropleth": [
           {
            "colorbar": {
             "outlinewidth": 0,
             "ticks": ""
            },
            "type": "choropleth"
           }
          ],
          "contour": [
           {
            "colorbar": {
             "outlinewidth": 0,
             "ticks": ""
            },
            "colorscale": [
             [
              0,
              "#0d0887"
             ],
             [
              0.1111111111111111,
              "#46039f"
             ],
             [
              0.2222222222222222,
              "#7201a8"
             ],
             [
              0.3333333333333333,
              "#9c179e"
             ],
             [
              0.4444444444444444,
              "#bd3786"
             ],
             [
              0.5555555555555556,
              "#d8576b"
             ],
             [
              0.6666666666666666,
              "#ed7953"
             ],
             [
              0.7777777777777778,
              "#fb9f3a"
             ],
             [
              0.8888888888888888,
              "#fdca26"
             ],
             [
              1,
              "#f0f921"
             ]
            ],
            "type": "contour"
           }
          ],
          "contourcarpet": [
           {
            "colorbar": {
             "outlinewidth": 0,
             "ticks": ""
            },
            "type": "contourcarpet"
           }
          ],
          "heatmap": [
           {
            "colorbar": {
             "outlinewidth": 0,
             "ticks": ""
            },
            "colorscale": [
             [
              0,
              "#0d0887"
             ],
             [
              0.1111111111111111,
              "#46039f"
             ],
             [
              0.2222222222222222,
              "#7201a8"
             ],
             [
              0.3333333333333333,
              "#9c179e"
             ],
             [
              0.4444444444444444,
              "#bd3786"
             ],
             [
              0.5555555555555556,
              "#d8576b"
             ],
             [
              0.6666666666666666,
              "#ed7953"
             ],
             [
              0.7777777777777778,
              "#fb9f3a"
             ],
             [
              0.8888888888888888,
              "#fdca26"
             ],
             [
              1,
              "#f0f921"
             ]
            ],
            "type": "heatmap"
           }
          ],
          "heatmapgl": [
           {
            "colorbar": {
             "outlinewidth": 0,
             "ticks": ""
            },
            "colorscale": [
             [
              0,
              "#0d0887"
             ],
             [
              0.1111111111111111,
              "#46039f"
             ],
             [
              0.2222222222222222,
              "#7201a8"
             ],
             [
              0.3333333333333333,
              "#9c179e"
             ],
             [
              0.4444444444444444,
              "#bd3786"
             ],
             [
              0.5555555555555556,
              "#d8576b"
             ],
             [
              0.6666666666666666,
              "#ed7953"
             ],
             [
              0.7777777777777778,
              "#fb9f3a"
             ],
             [
              0.8888888888888888,
              "#fdca26"
             ],
             [
              1,
              "#f0f921"
             ]
            ],
            "type": "heatmapgl"
           }
          ],
          "histogram": [
           {
            "marker": {
             "pattern": {
              "fillmode": "overlay",
              "size": 10,
              "solidity": 0.2
             }
            },
            "type": "histogram"
           }
          ],
          "histogram2d": [
           {
            "colorbar": {
             "outlinewidth": 0,
             "ticks": ""
            },
            "colorscale": [
             [
              0,
              "#0d0887"
             ],
             [
              0.1111111111111111,
              "#46039f"
             ],
             [
              0.2222222222222222,
              "#7201a8"
             ],
             [
              0.3333333333333333,
              "#9c179e"
             ],
             [
              0.4444444444444444,
              "#bd3786"
             ],
             [
              0.5555555555555556,
              "#d8576b"
             ],
             [
              0.6666666666666666,
              "#ed7953"
             ],
             [
              0.7777777777777778,
              "#fb9f3a"
             ],
             [
              0.8888888888888888,
              "#fdca26"
             ],
             [
              1,
              "#f0f921"
             ]
            ],
            "type": "histogram2d"
           }
          ],
          "histogram2dcontour": [
           {
            "colorbar": {
             "outlinewidth": 0,
             "ticks": ""
            },
            "colorscale": [
             [
              0,
              "#0d0887"
             ],
             [
              0.1111111111111111,
              "#46039f"
             ],
             [
              0.2222222222222222,
              "#7201a8"
             ],
             [
              0.3333333333333333,
              "#9c179e"
             ],
             [
              0.4444444444444444,
              "#bd3786"
             ],
             [
              0.5555555555555556,
              "#d8576b"
             ],
             [
              0.6666666666666666,
              "#ed7953"
             ],
             [
              0.7777777777777778,
              "#fb9f3a"
             ],
             [
              0.8888888888888888,
              "#fdca26"
             ],
             [
              1,
              "#f0f921"
             ]
            ],
            "type": "histogram2dcontour"
           }
          ],
          "mesh3d": [
           {
            "colorbar": {
             "outlinewidth": 0,
             "ticks": ""
            },
            "type": "mesh3d"
           }
          ],
          "parcoords": [
           {
            "line": {
             "colorbar": {
              "outlinewidth": 0,
              "ticks": ""
             }
            },
            "type": "parcoords"
           }
          ],
          "pie": [
           {
            "automargin": true,
            "type": "pie"
           }
          ],
          "scatter": [
           {
            "fillpattern": {
             "fillmode": "overlay",
             "size": 10,
             "solidity": 0.2
            },
            "type": "scatter"
           }
          ],
          "scatter3d": [
           {
            "line": {
             "colorbar": {
              "outlinewidth": 0,
              "ticks": ""
             }
            },
            "marker": {
             "colorbar": {
              "outlinewidth": 0,
              "ticks": ""
             }
            },
            "type": "scatter3d"
           }
          ],
          "scattercarpet": [
           {
            "marker": {
             "colorbar": {
              "outlinewidth": 0,
              "ticks": ""
             }
            },
            "type": "scattercarpet"
           }
          ],
          "scattergeo": [
           {
            "marker": {
             "colorbar": {
              "outlinewidth": 0,
              "ticks": ""
             }
            },
            "type": "scattergeo"
           }
          ],
          "scattergl": [
           {
            "marker": {
             "colorbar": {
              "outlinewidth": 0,
              "ticks": ""
             }
            },
            "type": "scattergl"
           }
          ],
          "scattermapbox": [
           {
            "marker": {
             "colorbar": {
              "outlinewidth": 0,
              "ticks": ""
             }
            },
            "type": "scattermapbox"
           }
          ],
          "scatterpolar": [
           {
            "marker": {
             "colorbar": {
              "outlinewidth": 0,
              "ticks": ""
             }
            },
            "type": "scatterpolar"
           }
          ],
          "scatterpolargl": [
           {
            "marker": {
             "colorbar": {
              "outlinewidth": 0,
              "ticks": ""
             }
            },
            "type": "scatterpolargl"
           }
          ],
          "scatterternary": [
           {
            "marker": {
             "colorbar": {
              "outlinewidth": 0,
              "ticks": ""
             }
            },
            "type": "scatterternary"
           }
          ],
          "surface": [
           {
            "colorbar": {
             "outlinewidth": 0,
             "ticks": ""
            },
            "colorscale": [
             [
              0,
              "#0d0887"
             ],
             [
              0.1111111111111111,
              "#46039f"
             ],
             [
              0.2222222222222222,
              "#7201a8"
             ],
             [
              0.3333333333333333,
              "#9c179e"
             ],
             [
              0.4444444444444444,
              "#bd3786"
             ],
             [
              0.5555555555555556,
              "#d8576b"
             ],
             [
              0.6666666666666666,
              "#ed7953"
             ],
             [
              0.7777777777777778,
              "#fb9f3a"
             ],
             [
              0.8888888888888888,
              "#fdca26"
             ],
             [
              1,
              "#f0f921"
             ]
            ],
            "type": "surface"
           }
          ],
          "table": [
           {
            "cells": {
             "fill": {
              "color": "#EBF0F8"
             },
             "line": {
              "color": "white"
             }
            },
            "header": {
             "fill": {
              "color": "#C8D4E3"
             },
             "line": {
              "color": "white"
             }
            },
            "type": "table"
           }
          ]
         },
         "layout": {
          "annotationdefaults": {
           "arrowcolor": "#2a3f5f",
           "arrowhead": 0,
           "arrowwidth": 1
          },
          "autotypenumbers": "strict",
          "coloraxis": {
           "colorbar": {
            "outlinewidth": 0,
            "ticks": ""
           }
          },
          "colorscale": {
           "diverging": [
            [
             0,
             "#8e0152"
            ],
            [
             0.1,
             "#c51b7d"
            ],
            [
             0.2,
             "#de77ae"
            ],
            [
             0.3,
             "#f1b6da"
            ],
            [
             0.4,
             "#fde0ef"
            ],
            [
             0.5,
             "#f7f7f7"
            ],
            [
             0.6,
             "#e6f5d0"
            ],
            [
             0.7,
             "#b8e186"
            ],
            [
             0.8,
             "#7fbc41"
            ],
            [
             0.9,
             "#4d9221"
            ],
            [
             1,
             "#276419"
            ]
           ],
           "sequential": [
            [
             0,
             "#0d0887"
            ],
            [
             0.1111111111111111,
             "#46039f"
            ],
            [
             0.2222222222222222,
             "#7201a8"
            ],
            [
             0.3333333333333333,
             "#9c179e"
            ],
            [
             0.4444444444444444,
             "#bd3786"
            ],
            [
             0.5555555555555556,
             "#d8576b"
            ],
            [
             0.6666666666666666,
             "#ed7953"
            ],
            [
             0.7777777777777778,
             "#fb9f3a"
            ],
            [
             0.8888888888888888,
             "#fdca26"
            ],
            [
             1,
             "#f0f921"
            ]
           ],
           "sequentialminus": [
            [
             0,
             "#0d0887"
            ],
            [
             0.1111111111111111,
             "#46039f"
            ],
            [
             0.2222222222222222,
             "#7201a8"
            ],
            [
             0.3333333333333333,
             "#9c179e"
            ],
            [
             0.4444444444444444,
             "#bd3786"
            ],
            [
             0.5555555555555556,
             "#d8576b"
            ],
            [
             0.6666666666666666,
             "#ed7953"
            ],
            [
             0.7777777777777778,
             "#fb9f3a"
            ],
            [
             0.8888888888888888,
             "#fdca26"
            ],
            [
             1,
             "#f0f921"
            ]
           ]
          },
          "colorway": [
           "#636efa",
           "#EF553B",
           "#00cc96",
           "#ab63fa",
           "#FFA15A",
           "#19d3f3",
           "#FF6692",
           "#B6E880",
           "#FF97FF",
           "#FECB52"
          ],
          "font": {
           "color": "#2a3f5f"
          },
          "geo": {
           "bgcolor": "white",
           "lakecolor": "white",
           "landcolor": "#E5ECF6",
           "showlakes": true,
           "showland": true,
           "subunitcolor": "white"
          },
          "hoverlabel": {
           "align": "left"
          },
          "hovermode": "closest",
          "mapbox": {
           "style": "light"
          },
          "paper_bgcolor": "white",
          "plot_bgcolor": "#E5ECF6",
          "polar": {
           "angularaxis": {
            "gridcolor": "white",
            "linecolor": "white",
            "ticks": ""
           },
           "bgcolor": "#E5ECF6",
           "radialaxis": {
            "gridcolor": "white",
            "linecolor": "white",
            "ticks": ""
           }
          },
          "scene": {
           "xaxis": {
            "backgroundcolor": "#E5ECF6",
            "gridcolor": "white",
            "gridwidth": 2,
            "linecolor": "white",
            "showbackground": true,
            "ticks": "",
            "zerolinecolor": "white"
           },
           "yaxis": {
            "backgroundcolor": "#E5ECF6",
            "gridcolor": "white",
            "gridwidth": 2,
            "linecolor": "white",
            "showbackground": true,
            "ticks": "",
            "zerolinecolor": "white"
           },
           "zaxis": {
            "backgroundcolor": "#E5ECF6",
            "gridcolor": "white",
            "gridwidth": 2,
            "linecolor": "white",
            "showbackground": true,
            "ticks": "",
            "zerolinecolor": "white"
           }
          },
          "shapedefaults": {
           "line": {
            "color": "#2a3f5f"
           }
          },
          "ternary": {
           "aaxis": {
            "gridcolor": "white",
            "linecolor": "white",
            "ticks": ""
           },
           "baxis": {
            "gridcolor": "white",
            "linecolor": "white",
            "ticks": ""
           },
           "bgcolor": "#E5ECF6",
           "caxis": {
            "gridcolor": "white",
            "linecolor": "white",
            "ticks": ""
           }
          },
          "title": {
           "x": 0.05
          },
          "xaxis": {
           "automargin": true,
           "gridcolor": "white",
           "linecolor": "white",
           "ticks": "",
           "title": {
            "standoff": 15
           },
           "zerolinecolor": "white",
           "zerolinewidth": 2
          },
          "yaxis": {
           "automargin": true,
           "gridcolor": "white",
           "linecolor": "white",
           "ticks": "",
           "title": {
            "standoff": 15
           },
           "zerolinecolor": "white",
           "zerolinewidth": 2
          }
         }
        },
        "title": {
         "text": "Sex distribution of trekkers"
        }
       }
      }
     },
     "metadata": {},
     "output_type": "display_data"
    }
   ],
   "source": [
    "#sex column visualization using plotly with a pie\n",
    "# Create the pie chart\n",
    "fig = px.pie(df, names='Sex', title='Sex distribution of trekkers', hole=0.3)\n",
    "fig.update_traces(textinfo='percent+label', pull=[0.02, 0.03], marker=dict(line=dict(color='#000000', width=2)))\n",
    "\n",
    "fig.update_layout(\n",
    "    showlegend=True,\n",
    "    margin=dict(t=0, b=0, l=0, r=0),\n",
    "    annotations=[dict(text='Sex', x=0.5, y=0.5, font_size=20, showarrow=False)],\n",
    "    paper_bgcolor=\"white\"\n",
    ")\n",
    "\n",
    "# Show the plot\n",
    "fig.show()"
   ]
  },
  {
   "cell_type": "markdown",
   "metadata": {},
   "source": [
    "Based on travel patterns of the trekkers"
   ]
  },
  {
   "cell_type": "code",
   "execution_count": 59,
   "metadata": {},
   "outputs": [
    {
     "name": "stdout",
     "output_type": "stream",
     "text": [
      "Trekkers used travel insurance distribution (%):\n",
      "TravelInsurance\n",
      "0    65.680473\n",
      "1    34.319527\n",
      "Name: proportion, dtype: float64\n",
      "Trekkers frequent flyer distribution (%):\n",
      "FrequentFlyer\n",
      "0    77.810651\n",
      "1    22.189349\n",
      "Name: proportion, dtype: float64\n",
      "Trekkers ever travelled abroad distribution (%):\n",
      "EverTravelledAbroad\n",
      "0    81.065089\n",
      "1    18.934911\n",
      "Name: proportion, dtype: float64\n"
     ]
    }
   ],
   "source": [
    "#used travelinsurance, frequent flyer and ever travelled abroad\n",
    "#distribution in percentage\n",
    "travel_insurance_dist = df['TravelInsurance'].value_counts(normalize=True) * 100\n",
    "print(\"Trekkers used travel insurance distribution (%):\")\n",
    "print(travel_insurance_dist)\n",
    "\n",
    "frequent_flyer_dist = df['FrequentFlyer'].value_counts(normalize=True) * 100\n",
    "print(\"Trekkers frequent flyer distribution (%):\")\n",
    "print(frequent_flyer_dist)\n",
    "\n",
    "ever_travelled_abroad_dist = df['EverTravelledAbroad'].value_counts(normalize=True) * 100\n",
    "print(\"Trekkers ever travelled abroad distribution (%):\")\n",
    "print(ever_travelled_abroad_dist)"
   ]
  },
  {
   "cell_type": "markdown",
   "metadata": {},
   "source": [
    "Trekkers employment analysis"
   ]
  },
  {
   "cell_type": "code",
   "execution_count": 60,
   "metadata": {},
   "outputs": [
    {
     "name": "stdout",
     "output_type": "stream",
     "text": [
      "Trekkers employment distribution (%):\n",
      "Employment Type\n",
      "1    71.301775\n",
      "0    28.698225\n",
      "Name: proportion, dtype: float64\n",
      "Trekkers graduate distribution (%):\n",
      "GraduateOrNot\n",
      "1    84.023669\n",
      "0    15.976331\n",
      "Name: proportion, dtype: float64\n",
      "Trekkers annual income distribution (%):\n",
      "AnnualIncome\n",
      "800000     9.467456\n",
      "1400000    7.396450\n",
      "1300000    7.100592\n",
      "1200000    5.029586\n",
      "500000     4.733728\n",
      "1150000    4.733728\n",
      "1250000    4.733728\n",
      "300000     4.437870\n",
      "600000     4.437870\n",
      "1100000    4.437870\n",
      "900000     4.142012\n",
      "700000     3.846154\n",
      "350000     3.846154\n",
      "1500000    3.550296\n",
      "400000     3.550296\n",
      "750000     3.550296\n",
      "1050000    3.254438\n",
      "850000     3.254438\n",
      "1000000    2.958580\n",
      "550000     2.366864\n",
      "1350000    2.366864\n",
      "1700000    1.775148\n",
      "650000     1.775148\n",
      "950000     0.887574\n",
      "1550000    0.591716\n",
      "450000     0.591716\n",
      "1450000    0.591716\n",
      "1800000    0.295858\n",
      "1650000    0.295858\n",
      "Name: proportion, dtype: float64\n"
     ]
    }
   ],
   "source": [
    "#based on employment graduateor not and annual income\n",
    "employment_dist = df['Employment Type'].value_counts(normalize=True) * 100\n",
    "print(\"Trekkers employment distribution (%):\")\n",
    "print(employment_dist)\n",
    "\n",
    "graduate_dist = df['GraduateOrNot'].value_counts(normalize=True) * 100\n",
    "print(\"Trekkers graduate distribution (%):\")\n",
    "print(graduate_dist)\n",
    "\n",
    "annual_income_dist = df['AnnualIncome'].value_counts(normalize=True) * 100\n",
    "print(\"Trekkers annual income distribution (%):\")\n",
    "print(annual_income_dist)"
   ]
  },
  {
   "cell_type": "code",
   "execution_count": 61,
   "metadata": {},
   "outputs": [],
   "source": [
    "#sex column mapping \n",
    "sex_mapping = {\n",
    "    'Male': 0,\n",
    "    'Female': 1,\n",
    "    'Non-Binary': 2,\n",
    "    'Transgender': 3\n",
    "}\n",
    "\n",
    "# Apply the mapping to the 'Sex' column\n",
    "df['Sex'] = df['Sex'].map(sex_mapping)"
   ]
  },
  {
   "cell_type": "code",
   "execution_count": 62,
   "metadata": {},
   "outputs": [],
   "source": [
    "df['Cost'] = pd.to_numeric(df['Cost'], errors='coerce')"
   ]
  },
  {
   "cell_type": "markdown",
   "metadata": {},
   "source": [
    "Cost Distribution visualization"
   ]
  },
  {
   "cell_type": "code",
   "execution_count": null,
   "metadata": {},
   "outputs": [],
   "source": []
  },
  {
   "cell_type": "markdown",
   "metadata": {},
   "source": [
    "## Visualization"
   ]
  },
  {
   "cell_type": "code",
   "execution_count": 66,
   "metadata": {},
   "outputs": [
    {
     "data": {
      "image/png": "[encoded data removed]",
      "text/plain": [
       "<Figure size 1000x600 with 1 Axes>"
      ]
     },
     "metadata": {},
     "output_type": "display_data"
    }
   ],
   "source": [
    "# Normalize the columns scale gareako xu hai aaile lai tara tala chai annualincome ko feature engineering gareako xa\n",
    "df['AnnualIncome_scaled'] = (df['AnnualIncome'] - df['AnnualIncome'].mean()) / df['AnnualIncome'].std()\n",
    "df['Cost_scaled'] = (df['Cost'] - df['Cost'].mean()) / df['Cost'].std()\n",
    "\n",
    "# Plot KDE for both normalized 'AnnualIncome' and 'Cost' on the same figure\n",
    "plt.figure(figsize=(10, 6))\n",
    "df[\"AnnualIncome_scaled\"].plot(kind=\"kde\", label=\"Annual Income (scaled)\", color=\"black\", linewidth=2)\n",
    "df[\"Cost_scaled\"].plot(kind=\"kde\", label=\"Cost (scaled)\", color=\"r\", linewidth=2)\n",
    "\n",
    "plt.title(\"Comparison of Scaled Annual Income and Cost Distributions\")\n",
    "plt.xlabel(\"Scaled Value\")\n",
    "plt.ylabel(\"Density\")\n",
    "plt.legend()\n",
    "plt.show()"
   ]
  },
  {
   "cell_type": "code",
   "execution_count": 67,
   "metadata": {},
   "outputs": [
    {
     "data": {
      "application/vnd.plotly.v1+json": {
       "config": {
        "plotlyServerURL": "https://plot.ly"
       },
       "data": [
        {
         "hovertemplate": "Employment Type=0<br>Cost=%{x}<br>Max Altitude=%{y}<br>AnnualIncome=%{marker.size}<br>Sex=%{marker.color}<extra></extra>",
         "legendgroup": "0",
         "marker": {
          "color": [
           3,
           3,
           2,
           0,
           3,
           0,
           2,
           2,
           3,
           2,
           0,
           0,
           3,
           0,
           0,
           0,
           0,
           3,
           0,
           0,
           1,
           2,
           0,
           1,
           2,
           1,
           1,
           1,
           2,
           1,
           1,
           1,
           2,
           3,
           1,
           0,
           0,
           0,
           0,
           1,
           2,
           2,
           3,
           1,
           3,
           0,
           2,
           0,
           1,
           3,
           2,
           0,
           0,
           3,
           0,
           0,
           2,
           2,
           0,
           3,
           1,
           0,
           1,
           3,
           0,
           0,
           3,
           3,
           3,
           1,
           0,
           1,
           0,
           3,
           0,
           0,
           1,
           2,
           1,
           1,
           3,
           1,
           2,
           0,
           1,
           3,
           1,
           3,
           1,
           0,
           2,
           3,
           1,
           2,
           0,
           2,
           3
          ],
          "coloraxis": "coloraxis",
          "size": [
           1050000,
           300000,
           850000,
           400000,
           300000,
           300000,
           1500000,
           650000,
           300000,
           400000,
           800000,
           1300000,
           850000,
           400000,
           1100000,
           500000,
           600000,
           350000,
           350000,
           1500000,
           850000,
           700000,
           300000,
           400000,
           1100000,
           400000,
           850000,
           900000,
           400000,
           1300000,
           350000,
           1100000,
           400000,
           850000,
           400000,
           850000,
           350000,
           500000,
           1050000,
           800000,
           850000,
           900000,
           800000,
           800000,
           400000,
           1300000,
           900000,
           1300000,
           1300000,
           600000,
           1100000,
           300000,
           400000,
           750000,
           350000,
           300000,
           300000,
           750000,
           850000,
           1200000,
           750000,
           1100000,
           1300000,
           1200000,
           900000,
           900000,
           850000,
           800000,
           350000,
           300000,
           1300000,
           1200000,
           900000,
           800000,
           1300000,
           800000,
           300000,
           1000000,
           350000,
           650000,
           300000,
           1100000,
           1300000,
           300000,
           850000,
           1050000,
           600000,
           400000,
           800000,
           300000,
           1300000,
           300000,
           300000,
           1200000,
           350000,
           1500000,
           400000
          ],
          "sizemode": "area",
          "sizeref": 18000,
          "symbol": "circle"
         },
         "mode": "markers",
         "name": "0",
         "orientation": "v",
         "showlegend": true,
         "type": "scatter",
         "x": [
          1750,
          1750,
          1750,
          1090,
          1090,
          1090,
          1090,
          1090,
          1499,
          1499,
          1250,
          1100,
          1250,
          1250,
          1450,
          1450,
          860,
          1499,
          1450,
          1450,
          1499,
          1350,
          1350,
          1350,
          1499,
          3600,
          3600,
          1499,
          1420,
          1450,
          1450,
          1750,
          1530,
          1499,
          1499,
          1900,
          1499,
          1499,
          1499,
          1499,
          1499,
          1390,
          1499,
          1150,
          1100,
          1450,
          1190,
          1190,
          1190,
          1190,
          1499,
          780,
          780,
          780,
          980,
          980,
          1499,
          1499,
          1180,
          750,
          750,
          1499,
          1499,
          690,
          690,
          1499,
          1499,
          1499,
          1499,
          1499,
          1450,
          1190,
          1190,
          1499,
          1499,
          1499,
          1499,
          850,
          590,
          590,
          850,
          1499,
          1499,
          1499,
          1499,
          590,
          590,
          1499,
          1499,
          1850,
          2150,
          2150,
          2150,
          2100,
          2300,
          1499,
          1499
         ],
         "xaxis": "x",
         "y": [
          4210,
          4210,
          4210,
          4210,
          4210,
          4130,
          4210,
          4210,
          4130,
          4130,
          5416,
          5416,
          5416,
          5416,
          2012,
          2012,
          3210,
          4130,
          5416,
          5416,
          5416,
          5416,
          5416,
          5416,
          6340,
          5545,
          5545,
          5545,
          5545,
          5545,
          5545,
          5545,
          5545,
          5545,
          5545,
          5545,
          5545,
          5545,
          5546,
          5546,
          5546,
          5545,
          5320,
          3860,
          3860,
          5360,
          5357,
          5357,
          5357,
          5357,
          5357,
          3650,
          3650,
          3650,
          4230,
          4230,
          5143,
          5143,
          4600,
          5050,
          5050,
          5122,
          5122,
          4773,
          4773,
          5000,
          5000,
          5000,
          4870,
          4870,
          5106,
          5220,
          5220,
          5160,
          5160,
          5160,
          5416,
          4200,
          4500,
          4500,
          4200,
          3540,
          5545,
          5545,
          5545,
          1990,
          1990,
          5545,
          5545,
          5220,
          4210,
          4210,
          4210,
          4200,
          4200,
          3870,
          3870
         ],
         "yaxis": "y"
        },
        {
         "hovertemplate": "Employment Type=1<br>Cost=%{x}<br>Max Altitude=%{y}<br>AnnualIncome=%{marker.size}<br>Sex=%{marker.color}<extra></extra>",
         "legendgroup": "1",
         "marker": {
          "color": [
           2,
           0,
           3,
           0,
           1,
           2,
           2,
           0,
           2,
           3,
           1,
           0,
           2,
           1,
           1,
           0,
           1,
           1,
           3,
           0,
           1,
           2,
           2,
           1,
           1,
           1,
           1,
           2,
           0,
           3,
           1,
           3,
           1,
           2,
           1,
           0,
           1,
           2,
           0,
           2,
           2,
           3,
           0,
           3,
           3,
           0,
           3,
           2,
           1,
           0,
           3,
           3,
           1,
           0,
           0,
           2,
           2,
           0,
           3,
           0,
           0,
           3,
           0,
           1,
           1,
           1,
           3,
           0,
           3,
           3,
           1,
           2,
           0,
           2,
           1,
           2,
           3,
           0,
           0,
           1,
           1,
           3,
           0,
           2,
           2,
           2,
           2,
           3,
           2,
           1,
           0,
           0,
           1,
           2,
           1,
           2,
           1,
           1,
           3,
           2,
           0,
           2,
           3,
           2,
           3,
           1,
           3,
           2,
           2,
           3,
           3,
           3,
           2,
           2,
           3,
           0,
           3,
           1,
           1,
           2,
           2,
           1,
           1,
           1,
           3,
           3,
           2,
           0,
           0,
           1,
           0,
           1,
           2,
           1,
           1,
           3,
           2,
           3,
           0,
           0,
           1,
           1,
           0,
           3,
           1,
           0,
           0,
           2,
           1,
           0,
           3,
           0,
           2,
           3,
           1,
           1,
           3,
           3,
           1,
           1,
           3,
           0,
           1,
           2,
           2,
           3,
           0,
           1,
           1,
           3,
           1,
           1,
           0,
           0,
           3,
           0,
           2,
           2,
           0,
           2,
           3,
           2,
           3,
           2,
           3,
           0,
           2,
           1,
           2,
           0,
           0,
           3,
           0,
           3,
           3,
           3,
           3,
           3,
           3,
           2,
           0,
           0,
           1,
           2,
           2,
           1,
           2,
           0,
           2,
           1,
           1,
           0,
           2,
           3,
           2,
           2,
           1,
           0,
           0,
           0,
           3,
           1,
           0,
           1,
           2,
           1,
           3,
           1,
           0,
           1,
           0,
           1,
           2,
           0,
           2,
           3,
           3,
           1,
           0,
           1,
           2
          ],
          "coloraxis": "coloraxis",
          "size": [
           600000,
           1150000,
           1050000,
           500000,
           550000,
           1500000,
           550000,
           1550000,
           1400000,
           1300000,
           1150000,
           1000000,
           700000,
           800000,
           1400000,
           1250000,
           1400000,
           600000,
           1350000,
           1000000,
           1400000,
           350000,
           600000,
           750000,
           700000,
           1300000,
           1000000,
           950000,
           1300000,
           1150000,
           700000,
           1400000,
           1200000,
           800000,
           600000,
           1350000,
           550000,
           1400000,
           900000,
           800000,
           550000,
           1350000,
           700000,
           1100000,
           900000,
           350000,
           1150000,
           1700000,
           1800000,
           1250000,
           1350000,
           700000,
           800000,
           1200000,
           750000,
           800000,
           800000,
           1100000,
           800000,
           600000,
           700000,
           550000,
           1100000,
           800000,
           1500000,
           800000,
           1400000,
           1300000,
           550000,
           500000,
           500000,
           1100000,
           1300000,
           700000,
           600000,
           350000,
           600000,
           1150000,
           1500000,
           1250000,
           1500000,
           1100000,
           800000,
           650000,
           900000,
           1400000,
           1200000,
           700000,
           700000,
           800000,
           500000,
           1400000,
           1050000,
           1200000,
           1250000,
           900000,
           450000,
           1050000,
           650000,
           1200000,
           500000,
           750000,
           1400000,
           1150000,
           1350000,
           1250000,
           1400000,
           800000,
           1300000,
           800000,
           650000,
           500000,
           1700000,
           600000,
           800000,
           1100000,
           650000,
           1700000,
           350000,
           1200000,
           950000,
           600000,
           1200000,
           1050000,
           1350000,
           1250000,
           1050000,
           900000,
           1700000,
           900000,
           1200000,
           500000,
           800000,
           1400000,
           1100000,
           900000,
           1650000,
           1500000,
           700000,
           500000,
           1400000,
           500000,
           1400000,
           1500000,
           1300000,
           850000,
           1100000,
           750000,
           700000,
           1300000,
           1400000,
           1500000,
           500000,
           1150000,
           1700000,
           1200000,
           1150000,
           1200000,
           1350000,
           1150000,
           1150000,
           1400000,
           1100000,
           1400000,
           1000000,
           750000,
           1150000,
           1000000,
           1400000,
           700000,
           1300000,
           750000,
           1300000,
           1300000,
           1250000,
           1150000,
           800000,
           1500000,
           1400000,
           1000000,
           600000,
           1300000,
           1300000,
           800000,
           1700000,
           1250000,
           1200000,
           1250000,
           1250000,
           1150000,
           800000,
           1050000,
           800000,
           350000,
           1400000,
           1150000,
           800000,
           1400000,
           1400000,
           1250000,
           1500000,
           1250000,
           1300000,
           1050000,
           1000000,
           1450000,
           500000,
           800000,
           450000,
           500000,
           1450000,
           750000,
           550000,
           1200000,
           500000,
           1000000,
           750000,
           1200000,
           800000,
           600000,
           1000000,
           1050000,
           500000,
           1400000,
           750000,
           1250000,
           1250000,
           1550000,
           950000,
           1250000,
           900000,
           1250000,
           1400000,
           600000,
           1150000,
           550000,
           1350000,
           1150000,
           800000,
           1400000,
           800000
          ],
          "sizemode": "area",
          "sizeref": 18000,
          "symbol": "diamond"
         },
         "mode": "markers",
         "name": "1",
         "orientation": "v",
         "showlegend": true,
         "type": "scatter",
         "x": [
          1750,
          1750,
          1090,
          1090,
          1090,
          1090,
          1090,
          1090,
          1090,
          1090,
          1090,
          1090,
          1499,
          1499,
          1499,
          1499,
          1499,
          1499,
          1499,
          1499,
          1250,
          1250,
          1250,
          1250,
          1100,
          1100,
          1100,
          1250,
          1250,
          1250,
          1100,
          1499,
          1499,
          1499,
          1499,
          1499,
          1499,
          1499,
          1499,
          1499,
          1499,
          1450,
          1450,
          1450,
          860,
          860,
          860,
          860,
          1499,
          1499,
          1499,
          1499,
          1499,
          1499,
          1499,
          1499,
          1499,
          1450,
          1450,
          1450,
          1499,
          1499,
          1499,
          1499,
          1350,
          1350,
          1499,
          1499,
          1499,
          1499,
          2000,
          3600,
          3600,
          3300,
          3600,
          1499,
          1499,
          1499,
          1499,
          1295,
          1499,
          1499,
          1499,
          1499,
          1499,
          1450,
          1450,
          1450,
          1800,
          1750,
          1750,
          1750,
          1750,
          1530,
          1530,
          1530,
          1530,
          1499,
          1499,
          1499,
          1499,
          1499,
          1499,
          1720,
          1950,
          1499,
          1499,
          1390,
          1390,
          1390,
          1390,
          1499,
          1499,
          1499,
          1499,
          1040,
          1040,
          1040,
          1040,
          1040,
          1499,
          1499,
          1499,
          1499,
          1499,
          450,
          450,
          450,
          450,
          450,
          1190,
          1499,
          1499,
          1499,
          1499,
          780,
          780,
          980,
          980,
          980,
          1499,
          1499,
          1499,
          1180,
          1180,
          1180,
          1180,
          750,
          750,
          750,
          1499,
          1499,
          1499,
          690,
          690,
          690,
          1499,
          1499,
          1499,
          1499,
          1499,
          1499,
          1499,
          4200,
          1499,
          1499,
          1499,
          1190,
          1190,
          1450,
          1190,
          1450,
          1450,
          1450,
          1380,
          1380,
          1380,
          1380,
          1380,
          1499,
          1499,
          1499,
          1499,
          1499,
          1499,
          590,
          590,
          590,
          850,
          850,
          850,
          850,
          850,
          850,
          850,
          850,
          1499,
          1499,
          1499,
          1499,
          1499,
          1499,
          1499,
          1499,
          1499,
          1499,
          1499,
          590,
          590,
          590,
          1060,
          1499,
          1499,
          1499,
          1499,
          1499,
          1499,
          1499,
          1499,
          1850,
          1850,
          1850,
          1850,
          2150,
          2150,
          2150,
          2100,
          2100,
          2100,
          2150,
          2150,
          2150,
          2150,
          2100,
          2300,
          2300,
          2300,
          2300,
          1499,
          1499,
          1499
         ],
         "xaxis": "x",
         "y": [
          4210,
          4210,
          4210,
          4210,
          4210,
          4210,
          4210,
          4130,
          4210,
          4130,
          4130,
          4130,
          4130,
          4130,
          4130,
          5416,
          5416,
          5416,
          5416,
          5416,
          5416,
          5416,
          5416,
          5416,
          5416,
          5416,
          5416,
          5416,
          5416,
          5416,
          5416,
          5416,
          5416,
          5416,
          5416,
          5416,
          5416,
          5416,
          5416,
          5416,
          5416,
          2012,
          2012,
          2012,
          3210,
          3210,
          3210,
          3210,
          4130,
          4130,
          4130,
          4130,
          3870,
          3870,
          3870,
          3870,
          3870,
          5416,
          5416,
          5416,
          5416,
          5416,
          5416,
          5416,
          5416,
          5416,
          6340,
          6340,
          6340,
          6340,
          5545,
          5545,
          5545,
          5545,
          5545,
          5545,
          5545,
          5545,
          5545,
          5545,
          5545,
          5545,
          5545,
          5545,
          5545,
          5545,
          5545,
          5545,
          5545,
          5545,
          5545,
          5545,
          5545,
          5545,
          5545,
          5545,
          5545,
          5545,
          5545,
          5545,
          5545,
          5545,
          5545,
          5545,
          5545,
          5546,
          5546,
          5545,
          5545,
          5545,
          5545,
          5320,
          5320,
          5320,
          5320,
          3860,
          3860,
          3860,
          3860,
          3860,
          3870,
          3870,
          3870,
          3870,
          3870,
          3210,
          3210,
          3210,
          3210,
          3210,
          5357,
          5357,
          5357,
          5357,
          5357,
          3650,
          3650,
          4230,
          4230,
          4230,
          5143,
          5143,
          5143,
          4600,
          4600,
          4600,
          4600,
          5050,
          5050,
          5050,
          5122,
          5122,
          5122,
          4773,
          4773,
          4773,
          5000,
          5000,
          5000,
          5000,
          5000,
          5000,
          5000,
          5545,
          4870,
          4870,
          4870,
          5220,
          5220,
          5106,
          5220,
          5106,
          5106,
          5106,
          5220,
          5220,
          5220,
          5220,
          5220,
          5160,
          5160,
          5416,
          5416,
          5416,
          5416,
          4500,
          4500,
          4500,
          4200,
          4200,
          4200,
          4200,
          4200,
          4200,
          4200,
          4200,
          3540,
          3540,
          3540,
          3540,
          5545,
          5545,
          3055,
          3055,
          3055,
          3055,
          3055,
          1990,
          1990,
          1990,
          3900,
          5545,
          5545,
          5545,
          4460,
          4460,
          4460,
          4460,
          4460,
          5220,
          5220,
          5220,
          5220,
          4210,
          4210,
          4210,
          4200,
          4200,
          4200,
          4210,
          4210,
          4210,
          4210,
          4200,
          4200,
          4200,
          4200,
          4200,
          3870,
          3870,
          3870
         ],
         "yaxis": "y"
        }
       ],
       "layout": {
        "coloraxis": {
         "colorbar": {
          "title": {
           "text": "Sex"
          }
         },
         "colorscale": [
          [
           0,
           "#0d0887"
          ],
          [
           0.1111111111111111,
           "#46039f"
          ],
          [
           0.2222222222222222,
           "#7201a8"
          ],
          [
           0.3333333333333333,
           "#9c179e"
          ],
          [
           0.4444444444444444,
           "#bd3786"
          ],
          [
           0.5555555555555556,
           "#d8576b"
          ],
          [
           0.6666666666666666,
           "#ed7953"
          ],
          [
           0.7777777777777778,
           "#fb9f3a"
          ],
          [
           0.8888888888888888,
           "#fdca26"
          ],
          [
           1,
           "#f0f921"
          ]
         ]
        },
        "legend": {
         "itemsizing": "constant",
         "orientation": "h",
         "title": {
          "text": "Legend"
         },
         "tracegroupgap": 0,
         "x": 1,
         "xanchor": "right",
         "y": 1.02,
         "yanchor": "bottom"
        },
        "margin": {
         "b": 0,
         "l": 0,
         "r": 0,
         "t": 40
        },
        "template": {
         "data": {
          "bar": [
           {
            "error_x": {
             "color": "#2a3f5f"
            },
            "error_y": {
             "color": "#2a3f5f"
            },
            "marker": {
             "line": {
              "color": "white",
              "width": 0.5
             },
             "pattern": {
              "fillmode": "overlay",
              "size": 10,
              "solidity": 0.2
             }
            },
            "type": "bar"
           }
          ],
          "barpolar": [
           {
            "marker": {
             "line": {
              "color": "white",
              "width": 0.5
             },
             "pattern": {
              "fillmode": "overlay",
              "size": 10,
              "solidity": 0.2
             }
            },
            "type": "barpolar"
           }
          ],
          "carpet": [
           {
            "aaxis": {
             "endlinecolor": "#2a3f5f",
             "gridcolor": "#C8D4E3",
             "linecolor": "#C8D4E3",
             "minorgridcolor": "#C8D4E3",
             "startlinecolor": "#2a3f5f"
            },
            "baxis": {
             "endlinecolor": "#2a3f5f",
             "gridcolor": "#C8D4E3",
             "linecolor": "#C8D4E3",
             "minorgridcolor": "#C8D4E3",
             "startlinecolor": "#2a3f5f"
            },
            "type": "carpet"
           }
          ],
          "choropleth": [
           {
            "colorbar": {
             "outlinewidth": 0,
             "ticks": ""
            },
            "type": "choropleth"
           }
          ],
          "contour": [
           {
            "colorbar": {
             "outlinewidth": 0,
             "ticks": ""
            },
            "colorscale": [
             [
              0,
              "#0d0887"
             ],
             [
              0.1111111111111111,
              "#46039f"
             ],
             [
              0.2222222222222222,
              "#7201a8"
             ],
             [
              0.3333333333333333,
              "#9c179e"
             ],
             [
              0.4444444444444444,
              "#bd3786"
             ],
             [
              0.5555555555555556,
              "#d8576b"
             ],
             [
              0.6666666666666666,
              "#ed7953"
             ],
             [
              0.7777777777777778,
              "#fb9f3a"
             ],
             [
              0.8888888888888888,
              "#fdca26"
             ],
             [
              1,
              "#f0f921"
             ]
            ],
            "type": "contour"
           }
          ],
          "contourcarpet": [
           {
            "colorbar": {
             "outlinewidth": 0,
             "ticks": ""
            },
            "type": "contourcarpet"
           }
          ],
          "heatmap": [
           {
            "colorbar": {
             "outlinewidth": 0,
             "ticks": ""
            },
            "colorscale": [
             [
              0,
              "#0d0887"
             ],
             [
              0.1111111111111111,
              "#46039f"
             ],
             [
              0.2222222222222222,
              "#7201a8"
             ],
             [
              0.3333333333333333,
              "#9c179e"
             ],
             [
              0.4444444444444444,
              "#bd3786"
             ],
             [
              0.5555555555555556,
              "#d8576b"
             ],
             [
              0.6666666666666666,
              "#ed7953"
             ],
             [
              0.7777777777777778,
              "#fb9f3a"
             ],
             [
              0.8888888888888888,
              "#fdca26"
             ],
             [
              1,
              "#f0f921"
             ]
            ],
            "type": "heatmap"
           }
          ],
          "heatmapgl": [
           {
            "colorbar": {
             "outlinewidth": 0,
             "ticks": ""
            },
            "colorscale": [
             [
              0,
              "#0d0887"
             ],
             [
              0.1111111111111111,
              "#46039f"
             ],
             [
              0.2222222222222222,
              "#7201a8"
             ],
             [
              0.3333333333333333,
              "#9c179e"
             ],
             [
              0.4444444444444444,
              "#bd3786"
             ],
             [
              0.5555555555555556,
              "#d8576b"
             ],
             [
              0.6666666666666666,
              "#ed7953"
             ],
             [
              0.7777777777777778,
              "#fb9f3a"
             ],
             [
              0.8888888888888888,
              "#fdca26"
             ],
             [
              1,
              "#f0f921"
             ]
            ],
            "type": "heatmapgl"
           }
          ],
          "histogram": [
           {
            "marker": {
             "pattern": {
              "fillmode": "overlay",
              "size": 10,
              "solidity": 0.2
             }
            },
            "type": "histogram"
           }
          ],
          "histogram2d": [
           {
            "colorbar": {
             "outlinewidth": 0,
             "ticks": ""
            },
            "colorscale": [
             [
              0,
              "#0d0887"
             ],
             [
              0.1111111111111111,
              "#46039f"
             ],
             [
              0.2222222222222222,
              "#7201a8"
             ],
             [
              0.3333333333333333,
              "#9c179e"
             ],
             [
              0.4444444444444444,
              "#bd3786"
             ],
             [
              0.5555555555555556,
              "#d8576b"
             ],
             [
              0.6666666666666666,
              "#ed7953"
             ],
             [
              0.7777777777777778,
              "#fb9f3a"
             ],
             [
              0.8888888888888888,
              "#fdca26"
             ],
             [
              1,
              "#f0f921"
             ]
            ],
            "type": "histogram2d"
           }
          ],
          "histogram2dcontour": [
           {
            "colorbar": {
             "outlinewidth": 0,
             "ticks": ""
            },
            "colorscale": [
             [
              0,
              "#0d0887"
             ],
             [
              0.1111111111111111,
              "#46039f"
             ],
             [
              0.2222222222222222,
              "#7201a8"
             ],
             [
              0.3333333333333333,
              "#9c179e"
             ],
             [
              0.4444444444444444,
              "#bd3786"
             ],
             [
              0.5555555555555556,
              "#d8576b"
             ],
             [
              0.6666666666666666,
              "#ed7953"
             ],
             [
              0.7777777777777778,
              "#fb9f3a"
             ],
             [
              0.8888888888888888,
              "#fdca26"
             ],
             [
              1,
              "#f0f921"
             ]
            ],
            "type": "histogram2dcontour"
           }
          ],
          "mesh3d": [
           {
            "colorbar": {
             "outlinewidth": 0,
             "ticks": ""
            },
            "type": "mesh3d"
           }
          ],
          "parcoords": [
           {
            "line": {
             "colorbar": {
              "outlinewidth": 0,
              "ticks": ""
             }
            },
            "type": "parcoords"
           }
          ],
          "pie": [
           {
            "automargin": true,
            "type": "pie"
           }
          ],
          "scatter": [
           {
            "fillpattern": {
             "fillmode": "overlay",
             "size": 10,
             "solidity": 0.2
            },
            "type": "scatter"
           }
          ],
          "scatter3d": [
           {
            "line": {
             "colorbar": {
              "outlinewidth": 0,
              "ticks": ""
             }
            },
            "marker": {
             "colorbar": {
              "outlinewidth": 0,
              "ticks": ""
             }
            },
            "type": "scatter3d"
           }
          ],
          "scattercarpet": [
           {
            "marker": {
             "colorbar": {
              "outlinewidth": 0,
              "ticks": ""
             }
            },
            "type": "scattercarpet"
           }
          ],
          "scattergeo": [
           {
            "marker": {
             "colorbar": {
              "outlinewidth": 0,
              "ticks": ""
             }
            },
            "type": "scattergeo"
           }
          ],
          "scattergl": [
           {
            "marker": {
             "colorbar": {
              "outlinewidth": 0,
              "ticks": ""
             }
            },
            "type": "scattergl"
           }
          ],
          "scattermapbox": [
           {
            "marker": {
             "colorbar": {
              "outlinewidth": 0,
              "ticks": ""
             }
            },
            "type": "scattermapbox"
           }
          ],
          "scatterpolar": [
           {
            "marker": {
             "colorbar": {
              "outlinewidth": 0,
              "ticks": ""
             }
            },
            "type": "scatterpolar"
           }
          ],
          "scatterpolargl": [
           {
            "marker": {
             "colorbar": {
              "outlinewidth": 0,
              "ticks": ""
             }
            },
            "type": "scatterpolargl"
           }
          ],
          "scatterternary": [
           {
            "marker": {
             "colorbar": {
              "outlinewidth": 0,
              "ticks": ""
             }
            },
            "type": "scatterternary"
           }
          ],
          "surface": [
           {
            "colorbar": {
             "outlinewidth": 0,
             "ticks": ""
            },
            "colorscale": [
             [
              0,
              "#0d0887"
             ],
             [
              0.1111111111111111,
              "#46039f"
             ],
             [
              0.2222222222222222,
              "#7201a8"
             ],
             [
              0.3333333333333333,
              "#9c179e"
             ],
             [
              0.4444444444444444,
              "#bd3786"
             ],
             [
              0.5555555555555556,
              "#d8576b"
             ],
             [
              0.6666666666666666,
              "#ed7953"
             ],
             [
              0.7777777777777778,
              "#fb9f3a"
             ],
             [
              0.8888888888888888,
              "#fdca26"
             ],
             [
              1,
              "#f0f921"
             ]
            ],
            "type": "surface"
           }
          ],
          "table": [
           {
            "cells": {
             "fill": {
              "color": "#EBF0F8"
             },
             "line": {
              "color": "white"
             }
            },
            "header": {
             "fill": {
              "color": "#C8D4E3"
             },
             "line": {
              "color": "white"
             }
            },
            "type": "table"
           }
          ]
         },
         "layout": {
          "annotationdefaults": {
           "arrowcolor": "#2a3f5f",
           "arrowhead": 0,
           "arrowwidth": 1
          },
          "autotypenumbers": "strict",
          "coloraxis": {
           "colorbar": {
            "outlinewidth": 0,
            "ticks": ""
           }
          },
          "colorscale": {
           "diverging": [
            [
             0,
             "#8e0152"
            ],
            [
             0.1,
             "#c51b7d"
            ],
            [
             0.2,
             "#de77ae"
            ],
            [
             0.3,
             "#f1b6da"
            ],
            [
             0.4,
             "#fde0ef"
            ],
            [
             0.5,
             "#f7f7f7"
            ],
            [
             0.6,
             "#e6f5d0"
            ],
            [
             0.7,
             "#b8e186"
            ],
            [
             0.8,
             "#7fbc41"
            ],
            [
             0.9,
             "#4d9221"
            ],
            [
             1,
             "#276419"
            ]
           ],
           "sequential": [
            [
             0,
             "#0d0887"
            ],
            [
             0.1111111111111111,
             "#46039f"
            ],
            [
             0.2222222222222222,
             "#7201a8"
            ],
            [
             0.3333333333333333,
             "#9c179e"
            ],
            [
             0.4444444444444444,
             "#bd3786"
            ],
            [
             0.5555555555555556,
             "#d8576b"
            ],
            [
             0.6666666666666666,
             "#ed7953"
            ],
            [
             0.7777777777777778,
             "#fb9f3a"
            ],
            [
             0.8888888888888888,
             "#fdca26"
            ],
            [
             1,
             "#f0f921"
            ]
           ],
           "sequentialminus": [
            [
             0,
             "#0d0887"
            ],
            [
             0.1111111111111111,
             "#46039f"
            ],
            [
             0.2222222222222222,
             "#7201a8"
            ],
            [
             0.3333333333333333,
             "#9c179e"
            ],
            [
             0.4444444444444444,
             "#bd3786"
            ],
            [
             0.5555555555555556,
             "#d8576b"
            ],
            [
             0.6666666666666666,
             "#ed7953"
            ],
            [
             0.7777777777777778,
             "#fb9f3a"
            ],
            [
             0.8888888888888888,
             "#fdca26"
            ],
            [
             1,
             "#f0f921"
            ]
           ]
          },
          "colorway": [
           "#636efa",
           "#EF553B",
           "#00cc96",
           "#ab63fa",
           "#FFA15A",
           "#19d3f3",
           "#FF6692",
           "#B6E880",
           "#FF97FF",
           "#FECB52"
          ],
          "font": {
           "color": "#2a3f5f"
          },
          "geo": {
           "bgcolor": "white",
           "lakecolor": "white",
           "landcolor": "white",
           "showlakes": true,
           "showland": true,
           "subunitcolor": "#C8D4E3"
          },
          "hoverlabel": {
           "align": "left"
          },
          "hovermode": "closest",
          "mapbox": {
           "style": "light"
          },
          "paper_bgcolor": "white",
          "plot_bgcolor": "white",
          "polar": {
           "angularaxis": {
            "gridcolor": "#EBF0F8",
            "linecolor": "#EBF0F8",
            "ticks": ""
           },
           "bgcolor": "white",
           "radialaxis": {
            "gridcolor": "#EBF0F8",
            "linecolor": "#EBF0F8",
            "ticks": ""
           }
          },
          "scene": {
           "xaxis": {
            "backgroundcolor": "white",
            "gridcolor": "#DFE8F3",
            "gridwidth": 2,
            "linecolor": "#EBF0F8",
            "showbackground": true,
            "ticks": "",
            "zerolinecolor": "#EBF0F8"
           },
           "yaxis": {
            "backgroundcolor": "white",
            "gridcolor": "#DFE8F3",
            "gridwidth": 2,
            "linecolor": "#EBF0F8",
            "showbackground": true,
            "ticks": "",
            "zerolinecolor": "#EBF0F8"
           },
           "zaxis": {
            "backgroundcolor": "white",
            "gridcolor": "#DFE8F3",
            "gridwidth": 2,
            "linecolor": "#EBF0F8",
            "showbackground": true,
            "ticks": "",
            "zerolinecolor": "#EBF0F8"
           }
          },
          "shapedefaults": {
           "line": {
            "color": "#2a3f5f"
           }
          },
          "ternary": {
           "aaxis": {
            "gridcolor": "#DFE8F3",
            "linecolor": "#A2B1C6",
            "ticks": ""
           },
           "baxis": {
            "gridcolor": "#DFE8F3",
            "linecolor": "#A2B1C6",
            "ticks": ""
           },
           "bgcolor": "white",
           "caxis": {
            "gridcolor": "#DFE8F3",
            "linecolor": "#A2B1C6",
            "ticks": ""
           }
          },
          "title": {
           "x": 0.05
          },
          "xaxis": {
           "automargin": true,
           "gridcolor": "#EBF0F8",
           "linecolor": "#EBF0F8",
           "ticks": "",
           "title": {
            "standoff": 15
           },
           "zerolinecolor": "#EBF0F8",
           "zerolinewidth": 2
          },
          "yaxis": {
           "automargin": true,
           "gridcolor": "#EBF0F8",
           "linecolor": "#EBF0F8",
           "ticks": "",
           "title": {
            "standoff": 15
           },
           "zerolinecolor": "#EBF0F8",
           "zerolinewidth": 2
          }
         }
        },
        "title": {
         "text": "Max Altitude vs Cost with Gender, Annual Income, and Employment Type"
        },
        "xaxis": {
         "anchor": "y",
         "domain": [
          0,
          1
         ],
         "title": {
          "text": "Cost"
         }
        },
        "yaxis": {
         "anchor": "x",
         "domain": [
          0,
          1
         ],
         "title": {
          "text": "Max Altitude"
         }
        }
       }
      }
     },
     "metadata": {},
     "output_type": "display_data"
    }
   ],
   "source": [
    "# Create the scatter plot\n",
    "fig = px.scatter(\n",
    "    df,\n",
    "    x='Cost',\n",
    "    y='Max Altitude',\n",
    "    color='Sex',\n",
    "    size='AnnualIncome',\n",
    "    size_max=10,\n",
    "    symbol='Employment Type',\n",
    "    title='Max Altitude vs Cost with Gender, Annual Income, and Employment Type',\n",
    "    labels={'Cost': 'Cost', 'Max Altitude': 'Max Altitude'},\n",
    "    template='plotly_white'\n",
    ")\n",
    "# Update layout for better visualization\n",
    "fig.update_layout(\n",
    "    legend=dict(\n",
    "        title='Legend',\n",
    "        orientation='h',\n",
    "        yanchor='bottom',\n",
    "        y=1.02,\n",
    "        xanchor='right',\n",
    "        x=1\n",
    "    ),\n",
    "    margin=dict(l=0, r=0, t=40, b=0)\n",
    ")\n",
    "\n",
    "# Show the plot\n",
    "fig.show()"
   ]
  },
  {
   "cell_type": "code",
   "execution_count": 68,
   "metadata": {},
   "outputs": [
    {
     "data": {
      "image/png": "[encoded data removed]",
      "text/plain": [
       "<Figure size 1500x1000 with 4 Axes>"
      ]
     },
     "metadata": {},
     "output_type": "display_data"
    }
   ],
   "source": [
    "# Group by 'GraduateOrNot', 'AnnualIncome', and 'Employment Type', and count the occurrences of each accommodation type\n",
    "accommodation_counts = df.groupby(['GraduateOrNot', 'AnnualIncome', 'Employment Type', 'Accomodation']).size().unstack(fill_value=0)\n",
    "\n",
    "accommodation_counts = accommodation_counts.reset_index()\n",
    "\n",
    "fig, axes = plt.subplots(nrows=2, ncols=2, figsize=(15, 10), sharey=True)\n",
    "colors = plt.cm.viridis(np.linspace(0, 1, len(accommodation_counts.columns[3:])))\n",
    "\n",
    "# Plot each combination of GraduateOrNot and Employment Type\n",
    "for (grad_status, emp_type), group_data in accommodation_counts.groupby(['GraduateOrNot', 'Employment Type']):\n",
    "    ax = axes[grad_status, emp_type]\n",
    "    group_data.plot(kind='bar', x='AnnualIncome', stacked=True, color=colors, ax=ax)\n",
    "    ax.set_title(f'Graduate: {grad_status}, Employment: {emp_type}')\n",
    "    ax.set_xlabel('Annual Income')\n",
    "    ax.set_ylabel('Count of Accommodation Types')\n",
    "    ax.legend(title='Accommodation Type', bbox_to_anchor=(1.05, 1), loc='upper left')\n",
    "\n",
    "plt.suptitle('Accommodation Preference by Graduate Status, Annual Income, and Employment Type')\n",
    "plt.tight_layout(rect=[0, 0, 1, 0.96])\n",
    "plt.show()"
   ]
  },
  {
   "cell_type": "code",
   "execution_count": 69,
   "metadata": {},
   "outputs": [
    {
     "data": {
      "image/png": "[encoded data removed]",
      "text/plain": [
       "<Figure size 1200x600 with 1 Axes>"
      ]
     },
     "metadata": {},
     "output_type": "display_data"
    }
   ],
   "source": [
    "# Grouping by Year and summing the Cost\n",
    "Expenses = df.groupby('Year')['Cost'].sum().reset_index()\n",
    "\n",
    "# Create a bar chart\n",
    "plt.figure(figsize=(12, 6))\n",
    "sns.barplot(data=Expenses, x='Year', y='Cost', palette='coolwarm')\n",
    "\n",
    "# Customize the plot\n",
    "plt.title('Total Expenses by Year')\n",
    "plt.xlabel('Year')\n",
    "plt.ylabel('Total Cost')\n",
    "plt.xticks(rotation=0)\n",
    "plt.grid(axis='y')  # Adding grid lines for better readability\n",
    "plt.show()\n"
   ]
  },
  {
   "cell_type": "code",
   "execution_count": 70,
   "metadata": {},
   "outputs": [
    {
     "data": {
      "image/png": "[encoded data removed]",
      "text/plain": [
       "<Figure size 1200x800 with 1 Axes>"
      ]
     },
     "metadata": {},
     "output_type": "display_data"
    }
   ],
   "source": [
    "# Group by 'Country' and sum the 'Cost'\n",
    "country_spending = df.groupby('Country')['Cost'].sum().reset_index()\n",
    "# Sort the data by 'Cost' in descending order\n",
    "country_spending = country_spending.sort_values(by='Cost', ascending=False).head(5)\n",
    "# Plotting the bar chart\n",
    "plt.figure(figsize=(12, 8))\n",
    "sns.barplot(x='Country', y='Cost', data=country_spending, palette='winter')\n",
    "\n",
    "# Customizing the plot\n",
    "plt.title('Total Spending by Country')\n",
    "plt.xlabel('Country')\n",
    "plt.ylabel('Total Cost')\n",
    "plt.xticks(rotation=90)  # Rotate x-axis labels for better readability\n",
    "\n",
    "plt.show()"
   ]
  },
  {
   "cell_type": "code",
   "execution_count": 71,
   "metadata": {},
   "outputs": [
    {
     "data": {
      "text/plain": [
       "Index(['Trek', 'Cost', 'Time', 'Trip Grade', 'Max Altitude', 'Accomodation',\n",
       "       'Best Travel Time', 'Date of Travel', 'Sex', 'Age', 'Employment Type',\n",
       "       'GraduateOrNot', 'AnnualIncome', 'FamilyMembers', 'ChronicDiseases',\n",
       "       'FrequentFlyer', 'EverTravelledAbroad', 'TravelInsurance', 'Year',\n",
       "       'Regional code', 'Country', 'Cluster', 'AnnualIncome_scaled',\n",
       "       'Cost_scaled'],\n",
       "      dtype='object')"
      ]
     },
     "execution_count": 71,
     "metadata": {},
     "output_type": "execute_result"
    }
   ],
   "source": [
    "df.columns"
   ]
  },
  {
   "cell_type": "code",
   "execution_count": 83,
   "metadata": {},
   "outputs": [
    {
     "data": {
      "text/html": [
       "<div>\n",
       "<style scoped>\n",
       "    .dataframe tbody tr th:only-of-type {\n",
       "        vertical-align: middle;\n",
       "    }\n",
       "\n",
       "    .dataframe tbody tr th {\n",
       "        vertical-align: top;\n",
       "    }\n",
       "\n",
       "    .dataframe thead th {\n",
       "        text-align: right;\n",
       "    }\n",
       "</style>\n",
       "<table border=\"1\" class=\"dataframe\">\n",
       "  <thead>\n",
       "    <tr style=\"text-align: right;\">\n",
       "      <th></th>\n",
       "      <th>Cost</th>\n",
       "      <th>Time</th>\n",
       "      <th>Trip Grade</th>\n",
       "      <th>Max Altitude</th>\n",
       "      <th>Date of Travel</th>\n",
       "      <th>Sex</th>\n",
       "      <th>Age</th>\n",
       "      <th>Employment Type</th>\n",
       "      <th>GraduateOrNot</th>\n",
       "      <th>AnnualIncome</th>\n",
       "      <th>...</th>\n",
       "      <th>EverTravelledAbroad</th>\n",
       "      <th>TravelInsurance</th>\n",
       "      <th>Year</th>\n",
       "      <th>Regional code</th>\n",
       "      <th>Cluster</th>\n",
       "      <th>AnnualIncome_scaled</th>\n",
       "      <th>Cost_scaled</th>\n",
       "      <th>Time_MaxAltitude</th>\n",
       "      <th>Log_AnnualIncome</th>\n",
       "      <th>Log_MaxAltitude</th>\n",
       "    </tr>\n",
       "  </thead>\n",
       "  <tbody>\n",
       "    <tr>\n",
       "      <th>count</th>\n",
       "      <td>338.000000</td>\n",
       "      <td>338.000000</td>\n",
       "      <td>338.000000</td>\n",
       "      <td>338.000000</td>\n",
       "      <td>338</td>\n",
       "      <td>338.000000</td>\n",
       "      <td>338.000000</td>\n",
       "      <td>338.000000</td>\n",
       "      <td>338.000000</td>\n",
       "      <td>3.380000e+02</td>\n",
       "      <td>...</td>\n",
       "      <td>338.000000</td>\n",
       "      <td>338.000000</td>\n",
       "      <td>338.00000</td>\n",
       "      <td>338.000000</td>\n",
       "      <td>338.000000</td>\n",
       "      <td>3.380000e+02</td>\n",
       "      <td>3.380000e+02</td>\n",
       "      <td>338.000000</td>\n",
       "      <td>338.000000</td>\n",
       "      <td>338.000000</td>\n",
       "    </tr>\n",
       "    <tr>\n",
       "      <th>mean</th>\n",
       "      <td>1424.556213</td>\n",
       "      <td>14.786982</td>\n",
       "      <td>2.653846</td>\n",
       "      <td>4755.961538</td>\n",
       "      <td>2021-11-15 16:36:55.384615424</td>\n",
       "      <td>1.426036</td>\n",
       "      <td>29.677515</td>\n",
       "      <td>0.713018</td>\n",
       "      <td>0.840237</td>\n",
       "      <td>9.468935e+05</td>\n",
       "      <td>...</td>\n",
       "      <td>0.189349</td>\n",
       "      <td>0.343195</td>\n",
       "      <td>2016.54142</td>\n",
       "      <td>4100.316568</td>\n",
       "      <td>4.683432</td>\n",
       "      <td>-4.204395e-17</td>\n",
       "      <td>-1.997088e-16</td>\n",
       "      <td>72160.724852</td>\n",
       "      <td>13.666616</td>\n",
       "      <td>8.446369</td>\n",
       "    </tr>\n",
       "    <tr>\n",
       "      <th>min</th>\n",
       "      <td>450.000000</td>\n",
       "      <td>5.000000</td>\n",
       "      <td>1.000000</td>\n",
       "      <td>1990.000000</td>\n",
       "      <td>2020-01-03 00:00:00</td>\n",
       "      <td>0.000000</td>\n",
       "      <td>25.000000</td>\n",
       "      <td>0.000000</td>\n",
       "      <td>0.000000</td>\n",
       "      <td>3.000000e+05</td>\n",
       "      <td>...</td>\n",
       "      <td>0.000000</td>\n",
       "      <td>0.000000</td>\n",
       "      <td>2016.00000</td>\n",
       "      <td>0.000000</td>\n",
       "      <td>1.000000</td>\n",
       "      <td>-1.740850e+00</td>\n",
       "      <td>-2.009313e+00</td>\n",
       "      <td>9950.000000</td>\n",
       "      <td>12.611541</td>\n",
       "      <td>7.596392</td>\n",
       "    </tr>\n",
       "    <tr>\n",
       "      <th>25%</th>\n",
       "      <td>1190.000000</td>\n",
       "      <td>11.000000</td>\n",
       "      <td>2.000000</td>\n",
       "      <td>4200.000000</td>\n",
       "      <td>2020-12-04 00:00:00</td>\n",
       "      <td>0.000000</td>\n",
       "      <td>28.000000</td>\n",
       "      <td>0.000000</td>\n",
       "      <td>1.000000</td>\n",
       "      <td>6.500000e+05</td>\n",
       "      <td>...</td>\n",
       "      <td>0.000000</td>\n",
       "      <td>0.000000</td>\n",
       "      <td>2016.00000</td>\n",
       "      <td>1960.000000</td>\n",
       "      <td>1.000000</td>\n",
       "      <td>-7.989679e-01</td>\n",
       "      <td>-4.836014e-01</td>\n",
       "      <td>46440.000000</td>\n",
       "      <td>13.384729</td>\n",
       "      <td>8.343078</td>\n",
       "    </tr>\n",
       "    <tr>\n",
       "      <th>50%</th>\n",
       "      <td>1499.000000</td>\n",
       "      <td>15.000000</td>\n",
       "      <td>3.000000</td>\n",
       "      <td>5122.000000</td>\n",
       "      <td>2022-01-09 00:00:00</td>\n",
       "      <td>1.000000</td>\n",
       "      <td>29.000000</td>\n",
       "      <td>1.000000</td>\n",
       "      <td>1.000000</td>\n",
       "      <td>9.250000e+05</td>\n",
       "      <td>...</td>\n",
       "      <td>0.000000</td>\n",
       "      <td>0.000000</td>\n",
       "      <td>2017.00000</td>\n",
       "      <td>4170.000000</td>\n",
       "      <td>2.000000</td>\n",
       "      <td>-5.891741e-02</td>\n",
       "      <td>1.534861e-01</td>\n",
       "      <td>73600.000000</td>\n",
       "      <td>13.737185</td>\n",
       "      <td>8.541495</td>\n",
       "    </tr>\n",
       "    <tr>\n",
       "      <th>75%</th>\n",
       "      <td>1499.000000</td>\n",
       "      <td>18.000000</td>\n",
       "      <td>4.000000</td>\n",
       "      <td>5416.000000</td>\n",
       "      <td>2022-09-12 18:00:00</td>\n",
       "      <td>2.000000</td>\n",
       "      <td>32.000000</td>\n",
       "      <td>1.000000</td>\n",
       "      <td>1.000000</td>\n",
       "      <td>1.250000e+06</td>\n",
       "      <td>...</td>\n",
       "      <td>0.000000</td>\n",
       "      <td>1.000000</td>\n",
       "      <td>2017.00000</td>\n",
       "      <td>6140.000000</td>\n",
       "      <td>8.750000</td>\n",
       "      <td>8.156877e-01</td>\n",
       "      <td>1.534861e-01</td>\n",
       "      <td>92072.000000</td>\n",
       "      <td>14.038655</td>\n",
       "      <td>8.597297</td>\n",
       "    </tr>\n",
       "    <tr>\n",
       "      <th>max</th>\n",
       "      <td>4200.000000</td>\n",
       "      <td>27.000000</td>\n",
       "      <td>5.000000</td>\n",
       "      <td>6340.000000</td>\n",
       "      <td>2025-05-13 00:00:00</td>\n",
       "      <td>3.000000</td>\n",
       "      <td>35.000000</td>\n",
       "      <td>1.000000</td>\n",
       "      <td>1.000000</td>\n",
       "      <td>1.800000e+06</td>\n",
       "      <td>...</td>\n",
       "      <td>1.000000</td>\n",
       "      <td>1.000000</td>\n",
       "      <td>2017.00000</td>\n",
       "      <td>9990.000000</td>\n",
       "      <td>13.000000</td>\n",
       "      <td>2.295789e+00</td>\n",
       "      <td>5.722332e+00</td>\n",
       "      <td>135400.000000</td>\n",
       "      <td>14.403298</td>\n",
       "      <td>8.754792</td>\n",
       "    </tr>\n",
       "    <tr>\n",
       "      <th>std</th>\n",
       "      <td>485.019665</td>\n",
       "      <td>4.568848</td>\n",
       "      <td>1.278097</td>\n",
       "      <td>874.491955</td>\n",
       "      <td>NaN</td>\n",
       "      <td>1.117239</td>\n",
       "      <td>2.874140</td>\n",
       "      <td>0.453024</td>\n",
       "      <td>0.366930</td>\n",
       "      <td>3.715963e+05</td>\n",
       "      <td>...</td>\n",
       "      <td>0.392367</td>\n",
       "      <td>0.475480</td>\n",
       "      <td>0.49902</td>\n",
       "      <td>2447.090136</td>\n",
       "      <td>3.975118</td>\n",
       "      <td>1.000000e+00</td>\n",
       "      <td>1.000000e+00</td>\n",
       "      <td>28482.095972</td>\n",
       "      <td>0.462717</td>\n",
       "      <td>0.218679</td>\n",
       "    </tr>\n",
       "  </tbody>\n",
       "</table>\n",
       "<p>8 rows × 23 columns</p>\n",
       "</div>"
      ],
      "text/plain": [
       "              Cost        Time  Trip Grade  Max Altitude  \\\n",
       "count   338.000000  338.000000  338.000000    338.000000   \n",
       "mean   1424.556213   14.786982    2.653846   4755.961538   \n",
       "min     450.000000    5.000000    1.000000   1990.000000   \n",
       "25%    1190.000000   11.000000    2.000000   4200.000000   \n",
       "50%    1499.000000   15.000000    3.000000   5122.000000   \n",
       "75%    1499.000000   18.000000    4.000000   5416.000000   \n",
       "max    4200.000000   27.000000    5.000000   6340.000000   \n",
       "std     485.019665    4.568848    1.278097    874.491955   \n",
       "\n",
       "                      Date of Travel         Sex         Age  Employment Type  \\\n",
       "count                            338  338.000000  338.000000       338.000000   \n",
       "mean   2021-11-15 16:36:55.384615424    1.426036   29.677515         0.713018   \n",
       "min              2020-01-03 00:00:00    0.000000   25.000000         0.000000   \n",
       "25%              2020-12-04 00:00:00    0.000000   28.000000         0.000000   \n",
       "50%              2022-01-09 00:00:00    1.000000   29.000000         1.000000   \n",
       "75%              2022-09-12 18:00:00    2.000000   32.000000         1.000000   \n",
       "max              2025-05-13 00:00:00    3.000000   35.000000         1.000000   \n",
       "std                              NaN    1.117239    2.874140         0.453024   \n",
       "\n",
       "       GraduateOrNot  AnnualIncome  ...  EverTravelledAbroad  TravelInsurance  \\\n",
       "count     338.000000  3.380000e+02  ...           338.000000       338.000000   \n",
       "mean        0.840237  9.468935e+05  ...             0.189349         0.343195   \n",
       "min         0.000000  3.000000e+05  ...             0.000000         0.000000   \n",
       "25%         1.000000  6.500000e+05  ...             0.000000         0.000000   \n",
       "50%         1.000000  9.250000e+05  ...             0.000000         0.000000   \n",
       "75%         1.000000  1.250000e+06  ...             0.000000         1.000000   \n",
       "max         1.000000  1.800000e+06  ...             1.000000         1.000000   \n",
       "std         0.366930  3.715963e+05  ...             0.392367         0.475480   \n",
       "\n",
       "             Year  Regional code     Cluster  AnnualIncome_scaled  \\\n",
       "count   338.00000     338.000000  338.000000         3.380000e+02   \n",
       "mean   2016.54142    4100.316568    4.683432        -4.204395e-17   \n",
       "min    2016.00000       0.000000    1.000000        -1.740850e+00   \n",
       "25%    2016.00000    1960.000000    1.000000        -7.989679e-01   \n",
       "50%    2017.00000    4170.000000    2.000000        -5.891741e-02   \n",
       "75%    2017.00000    6140.000000    8.750000         8.156877e-01   \n",
       "max    2017.00000    9990.000000   13.000000         2.295789e+00   \n",
       "std       0.49902    2447.090136    3.975118         1.000000e+00   \n",
       "\n",
       "        Cost_scaled  Time_MaxAltitude  Log_AnnualIncome  Log_MaxAltitude  \n",
       "count  3.380000e+02        338.000000        338.000000       338.000000  \n",
       "mean  -1.997088e-16      72160.724852         13.666616         8.446369  \n",
       "min   -2.009313e+00       9950.000000         12.611541         7.596392  \n",
       "25%   -4.836014e-01      46440.000000         13.384729         8.343078  \n",
       "50%    1.534861e-01      73600.000000         13.737185         8.541495  \n",
       "75%    1.534861e-01      92072.000000         14.038655         8.597297  \n",
       "max    5.722332e+00     135400.000000         14.403298         8.754792  \n",
       "std    1.000000e+00      28482.095972          0.462717         0.218679  \n",
       "\n",
       "[8 rows x 23 columns]"
      ]
     },
     "execution_count": 83,
     "metadata": {},
     "output_type": "execute_result"
    }
   ],
   "source": [
    "df.describe()"
   ]
  },
  {
   "cell_type": "markdown",
   "metadata": {},
   "source": [
    "Model Training"
   ]
  },
  {
   "cell_type": "code",
   "execution_count": 72,
   "metadata": {},
   "outputs": [
    {
     "data": {
      "text/html": [
       "<div>\n",
       "<style scoped>\n",
       "    .dataframe tbody tr th:only-of-type {\n",
       "        vertical-align: middle;\n",
       "    }\n",
       "\n",
       "    .dataframe tbody tr th {\n",
       "        vertical-align: top;\n",
       "    }\n",
       "\n",
       "    .dataframe thead th {\n",
       "        text-align: right;\n",
       "    }\n",
       "</style>\n",
       "<table border=\"1\" class=\"dataframe\">\n",
       "  <thead>\n",
       "    <tr style=\"text-align: right;\">\n",
       "      <th></th>\n",
       "      <th>Time</th>\n",
       "      <th>Trip Grade</th>\n",
       "      <th>Max Altitude</th>\n",
       "      <th>Age</th>\n",
       "      <th>AnnualIncome</th>\n",
       "      <th>FamilyMembers</th>\n",
       "      <th>Cost</th>\n",
       "      <th>Sex</th>\n",
       "      <th>Age</th>\n",
       "      <th>FrequentFlyer</th>\n",
       "      <th>EverTravelledAbroad</th>\n",
       "      <th>AnnualIncome</th>\n",
       "      <th>ChronicDiseases</th>\n",
       "    </tr>\n",
       "  </thead>\n",
       "  <tbody>\n",
       "    <tr>\n",
       "      <th>Time</th>\n",
       "      <td>1.000000</td>\n",
       "      <td>0.608306</td>\n",
       "      <td>0.460490</td>\n",
       "      <td>0.059155</td>\n",
       "      <td>-0.010616</td>\n",
       "      <td>-0.113429</td>\n",
       "      <td>0.280118</td>\n",
       "      <td>0.014925</td>\n",
       "      <td>0.059155</td>\n",
       "      <td>0.051467</td>\n",
       "      <td>0.025877</td>\n",
       "      <td>-0.010616</td>\n",
       "      <td>-0.042387</td>\n",
       "    </tr>\n",
       "    <tr>\n",
       "      <th>Trip Grade</th>\n",
       "      <td>0.608306</td>\n",
       "      <td>1.000000</td>\n",
       "      <td>0.611832</td>\n",
       "      <td>0.022028</td>\n",
       "      <td>-0.030074</td>\n",
       "      <td>-0.031310</td>\n",
       "      <td>0.229902</td>\n",
       "      <td>-0.035647</td>\n",
       "      <td>0.022028</td>\n",
       "      <td>0.010944</td>\n",
       "      <td>0.060082</td>\n",
       "      <td>-0.030074</td>\n",
       "      <td>-0.004193</td>\n",
       "    </tr>\n",
       "    <tr>\n",
       "      <th>Max Altitude</th>\n",
       "      <td>0.460490</td>\n",
       "      <td>0.611832</td>\n",
       "      <td>1.000000</td>\n",
       "      <td>0.048049</td>\n",
       "      <td>-0.000369</td>\n",
       "      <td>0.008919</td>\n",
       "      <td>0.298811</td>\n",
       "      <td>-0.027363</td>\n",
       "      <td>0.048049</td>\n",
       "      <td>-0.029315</td>\n",
       "      <td>0.015839</td>\n",
       "      <td>-0.000369</td>\n",
       "      <td>0.037271</td>\n",
       "    </tr>\n",
       "    <tr>\n",
       "      <th>Age</th>\n",
       "      <td>0.059155</td>\n",
       "      <td>0.022028</td>\n",
       "      <td>0.048049</td>\n",
       "      <td>1.000000</td>\n",
       "      <td>-0.076513</td>\n",
       "      <td>0.058535</td>\n",
       "      <td>-0.033999</td>\n",
       "      <td>-0.102170</td>\n",
       "      <td>1.000000</td>\n",
       "      <td>-0.046677</td>\n",
       "      <td>-0.053576</td>\n",
       "      <td>-0.076513</td>\n",
       "      <td>-0.018488</td>\n",
       "    </tr>\n",
       "    <tr>\n",
       "      <th>AnnualIncome</th>\n",
       "      <td>-0.010616</td>\n",
       "      <td>-0.030074</td>\n",
       "      <td>-0.000369</td>\n",
       "      <td>-0.076513</td>\n",
       "      <td>1.000000</td>\n",
       "      <td>-0.095532</td>\n",
       "      <td>-0.006153</td>\n",
       "      <td>0.004627</td>\n",
       "      <td>-0.076513</td>\n",
       "      <td>0.311503</td>\n",
       "      <td>0.448737</td>\n",
       "      <td>1.000000</td>\n",
       "      <td>0.026584</td>\n",
       "    </tr>\n",
       "    <tr>\n",
       "      <th>FamilyMembers</th>\n",
       "      <td>-0.113429</td>\n",
       "      <td>-0.031310</td>\n",
       "      <td>0.008919</td>\n",
       "      <td>0.058535</td>\n",
       "      <td>-0.095532</td>\n",
       "      <td>1.000000</td>\n",
       "      <td>-0.100425</td>\n",
       "      <td>-0.013402</td>\n",
       "      <td>0.058535</td>\n",
       "      <td>0.026366</td>\n",
       "      <td>-0.061129</td>\n",
       "      <td>-0.095532</td>\n",
       "      <td>0.062914</td>\n",
       "    </tr>\n",
       "    <tr>\n",
       "      <th>Cost</th>\n",
       "      <td>0.280118</td>\n",
       "      <td>0.229902</td>\n",
       "      <td>0.298811</td>\n",
       "      <td>-0.033999</td>\n",
       "      <td>-0.006153</td>\n",
       "      <td>-0.100425</td>\n",
       "      <td>1.000000</td>\n",
       "      <td>0.010420</td>\n",
       "      <td>-0.033999</td>\n",
       "      <td>-0.022740</td>\n",
       "      <td>0.083286</td>\n",
       "      <td>-0.006153</td>\n",
       "      <td>0.074500</td>\n",
       "    </tr>\n",
       "    <tr>\n",
       "      <th>Sex</th>\n",
       "      <td>0.014925</td>\n",
       "      <td>-0.035647</td>\n",
       "      <td>-0.027363</td>\n",
       "      <td>-0.102170</td>\n",
       "      <td>0.004627</td>\n",
       "      <td>-0.013402</td>\n",
       "      <td>0.010420</td>\n",
       "      <td>1.000000</td>\n",
       "      <td>-0.102170</td>\n",
       "      <td>0.032214</td>\n",
       "      <td>0.079427</td>\n",
       "      <td>0.004627</td>\n",
       "      <td>0.109141</td>\n",
       "    </tr>\n",
       "    <tr>\n",
       "      <th>Age</th>\n",
       "      <td>0.059155</td>\n",
       "      <td>0.022028</td>\n",
       "      <td>0.048049</td>\n",
       "      <td>1.000000</td>\n",
       "      <td>-0.076513</td>\n",
       "      <td>0.058535</td>\n",
       "      <td>-0.033999</td>\n",
       "      <td>-0.102170</td>\n",
       "      <td>1.000000</td>\n",
       "      <td>-0.046677</td>\n",
       "      <td>-0.053576</td>\n",
       "      <td>-0.076513</td>\n",
       "      <td>-0.018488</td>\n",
       "    </tr>\n",
       "    <tr>\n",
       "      <th>FrequentFlyer</th>\n",
       "      <td>0.051467</td>\n",
       "      <td>0.010944</td>\n",
       "      <td>-0.029315</td>\n",
       "      <td>-0.046677</td>\n",
       "      <td>0.311503</td>\n",
       "      <td>0.026366</td>\n",
       "      <td>-0.022740</td>\n",
       "      <td>0.032214</td>\n",
       "      <td>-0.046677</td>\n",
       "      <td>1.000000</td>\n",
       "      <td>0.196254</td>\n",
       "      <td>0.311503</td>\n",
       "      <td>-0.089859</td>\n",
       "    </tr>\n",
       "    <tr>\n",
       "      <th>EverTravelledAbroad</th>\n",
       "      <td>0.025877</td>\n",
       "      <td>0.060082</td>\n",
       "      <td>0.015839</td>\n",
       "      <td>-0.053576</td>\n",
       "      <td>0.448737</td>\n",
       "      <td>-0.061129</td>\n",
       "      <td>0.083286</td>\n",
       "      <td>0.079427</td>\n",
       "      <td>-0.053576</td>\n",
       "      <td>0.196254</td>\n",
       "      <td>1.000000</td>\n",
       "      <td>0.448737</td>\n",
       "      <td>0.057332</td>\n",
       "    </tr>\n",
       "    <tr>\n",
       "      <th>AnnualIncome</th>\n",
       "      <td>-0.010616</td>\n",
       "      <td>-0.030074</td>\n",
       "      <td>-0.000369</td>\n",
       "      <td>-0.076513</td>\n",
       "      <td>1.000000</td>\n",
       "      <td>-0.095532</td>\n",
       "      <td>-0.006153</td>\n",
       "      <td>0.004627</td>\n",
       "      <td>-0.076513</td>\n",
       "      <td>0.311503</td>\n",
       "      <td>0.448737</td>\n",
       "      <td>1.000000</td>\n",
       "      <td>0.026584</td>\n",
       "    </tr>\n",
       "    <tr>\n",
       "      <th>ChronicDiseases</th>\n",
       "      <td>-0.042387</td>\n",
       "      <td>-0.004193</td>\n",
       "      <td>0.037271</td>\n",
       "      <td>-0.018488</td>\n",
       "      <td>0.026584</td>\n",
       "      <td>0.062914</td>\n",
       "      <td>0.074500</td>\n",
       "      <td>0.109141</td>\n",
       "      <td>-0.018488</td>\n",
       "      <td>-0.089859</td>\n",
       "      <td>0.057332</td>\n",
       "      <td>0.026584</td>\n",
       "      <td>1.000000</td>\n",
       "    </tr>\n",
       "  </tbody>\n",
       "</table>\n",
       "</div>"
      ],
      "text/plain": [
       "                         Time  Trip Grade  Max Altitude       Age  \\\n",
       "Time                 1.000000    0.608306      0.460490  0.059155   \n",
       "Trip Grade           0.608306    1.000000      0.611832  0.022028   \n",
       "Max Altitude         0.460490    0.611832      1.000000  0.048049   \n",
       "Age                  0.059155    0.022028      0.048049  1.000000   \n",
       "AnnualIncome        -0.010616   -0.030074     -0.000369 -0.076513   \n",
       "FamilyMembers       -0.113429   -0.031310      0.008919  0.058535   \n",
       "Cost                 0.280118    0.229902      0.298811 -0.033999   \n",
       "Sex                  0.014925   -0.035647     -0.027363 -0.102170   \n",
       "Age                  0.059155    0.022028      0.048049  1.000000   \n",
       "FrequentFlyer        0.051467    0.010944     -0.029315 -0.046677   \n",
       "EverTravelledAbroad  0.025877    0.060082      0.015839 -0.053576   \n",
       "AnnualIncome        -0.010616   -0.030074     -0.000369 -0.076513   \n",
       "ChronicDiseases     -0.042387   -0.004193      0.037271 -0.018488   \n",
       "\n",
       "                     AnnualIncome  FamilyMembers      Cost       Sex  \\\n",
       "Time                    -0.010616      -0.113429  0.280118  0.014925   \n",
       "Trip Grade              -0.030074      -0.031310  0.229902 -0.035647   \n",
       "Max Altitude            -0.000369       0.008919  0.298811 -0.027363   \n",
       "Age                     -0.076513       0.058535 -0.033999 -0.102170   \n",
       "AnnualIncome             1.000000      -0.095532 -0.006153  0.004627   \n",
       "FamilyMembers           -0.095532       1.000000 -0.100425 -0.013402   \n",
       "Cost                    -0.006153      -0.100425  1.000000  0.010420   \n",
       "Sex                      0.004627      -0.013402  0.010420  1.000000   \n",
       "Age                     -0.076513       0.058535 -0.033999 -0.102170   \n",
       "FrequentFlyer            0.311503       0.026366 -0.022740  0.032214   \n",
       "EverTravelledAbroad      0.448737      -0.061129  0.083286  0.079427   \n",
       "AnnualIncome             1.000000      -0.095532 -0.006153  0.004627   \n",
       "ChronicDiseases          0.026584       0.062914  0.074500  0.109141   \n",
       "\n",
       "                          Age  FrequentFlyer  EverTravelledAbroad  \\\n",
       "Time                 0.059155       0.051467             0.025877   \n",
       "Trip Grade           0.022028       0.010944             0.060082   \n",
       "Max Altitude         0.048049      -0.029315             0.015839   \n",
       "Age                  1.000000      -0.046677            -0.053576   \n",
       "AnnualIncome        -0.076513       0.311503             0.448737   \n",
       "FamilyMembers        0.058535       0.026366            -0.061129   \n",
       "Cost                -0.033999      -0.022740             0.083286   \n",
       "Sex                 -0.102170       0.032214             0.079427   \n",
       "Age                  1.000000      -0.046677            -0.053576   \n",
       "FrequentFlyer       -0.046677       1.000000             0.196254   \n",
       "EverTravelledAbroad -0.053576       0.196254             1.000000   \n",
       "AnnualIncome        -0.076513       0.311503             0.448737   \n",
       "ChronicDiseases     -0.018488      -0.089859             0.057332   \n",
       "\n",
       "                     AnnualIncome  ChronicDiseases  \n",
       "Time                    -0.010616        -0.042387  \n",
       "Trip Grade              -0.030074        -0.004193  \n",
       "Max Altitude            -0.000369         0.037271  \n",
       "Age                     -0.076513        -0.018488  \n",
       "AnnualIncome             1.000000         0.026584  \n",
       "FamilyMembers           -0.095532         0.062914  \n",
       "Cost                    -0.006153         0.074500  \n",
       "Sex                      0.004627         0.109141  \n",
       "Age                     -0.076513        -0.018488  \n",
       "FrequentFlyer            0.311503        -0.089859  \n",
       "EverTravelledAbroad      0.448737         0.057332  \n",
       "AnnualIncome             1.000000         0.026584  \n",
       "ChronicDiseases          0.026584         1.000000  "
      ]
     },
     "execution_count": 72,
     "metadata": {},
     "output_type": "execute_result"
    }
   ],
   "source": [
    "#correlation of [['Time', 'Trip Grade', 'Max Altitude', 'Age', 'Annual Income', 'Family Members']]\n",
    "corr = df[['Time', 'Trip Grade', 'Max Altitude', 'Age', 'AnnualIncome', 'FamilyMembers','Cost','Sex','Age','FrequentFlyer', 'EverTravelledAbroad', 'AnnualIncome','ChronicDiseases']].corr()\n",
    "corr"
   ]
  },
  {
   "cell_type": "code",
   "execution_count": 73,
   "metadata": {},
   "outputs": [
    {
     "data": {
      "image/png": "[encoded data removed]",
      "text/plain": [
       "<Figure size 1200x800 with 2 Axes>"
      ]
     },
     "metadata": {},
     "output_type": "display_data"
    }
   ],
   "source": [
    "# Heatmap\n",
    "plt.figure(figsize=(12, 8))\n",
    "sns.heatmap(df.corr(numeric_only=1), annot=True, cmap='coolwarm', linewidths=0.5)\n",
    "plt.title('Correlation Heatmap')\n",
    "plt.show()"
   ]
  },
  {
   "cell_type": "markdown",
   "metadata": {},
   "source": [
    "## Gradient Boosting Regressor"
   ]
  },
  {
   "cell_type": "code",
   "execution_count": 74,
   "metadata": {},
   "outputs": [],
   "source": [
    "#features and targets based on Regression\n",
    "df['Time'] = pd.to_numeric(df['Time'], errors='coerce')\n",
    "\n",
    "#feature engineering\n",
    "df['Time_MaxAltitude'] = df['Time'] * df['Max Altitude'] \n",
    "df['Log_AnnualIncome'] = np.log1p(df['AnnualIncome'])\n",
    "df['Log_MaxAltitude'] = np.log1p(df['Max Altitude'])\n",
    "\n",
    "features_reg = df[['Trip Grade', 'Age', 'FamilyMembers', 'Time_MaxAltitude', 'Log_AnnualIncome', 'Log_MaxAltitude']]\n",
    "target_reg = df['Cost']\n",
    "\n",
    "\n",
    "X_train_reg, X_test_reg, y_train_reg, y_test_reg = train_test_split(features_reg, target_reg, test_size=0.2, random_state=42)\n",
    "\n",
    "gbr = GradientBoostingRegressor(random_state=42)\n",
    "gbr.fit(X_train_reg, y_train_reg)\n",
    "\n",
    "y_pred_gbr = gbr.predict(X_test_reg)"
   ]
  },
  {
   "cell_type": "code",
   "execution_count": 75,
   "metadata": {},
   "outputs": [
    {
     "name": "stdout",
     "output_type": "stream",
     "text": [
      "Mean Absolute Error (MAE): 65.35472581037936\n",
      "R-squared (R²): 0.9574233991659512\n"
     ]
    }
   ],
   "source": [
    "mae = mean_absolute_error(y_test_reg, y_pred_gbr)\n",
    "r2 = r2_score(y_test_reg, y_pred_gbr)\n",
    "\n",
    "print(\"Mean Absolute Error (MAE):\", mae)\n",
    "print(\"R-squared (R²):\", r2)"
   ]
  },
  {
   "cell_type": "markdown",
   "metadata": {},
   "source": [
    "RandomForestClassifier"
   ]
  },
  {
   "cell_type": "code",
   "execution_count": 76,
   "metadata": {},
   "outputs": [],
   "source": [
    "#freture and target based on classification\n",
    "features_clf = df[['Trip Grade', 'Employment Type', 'Sex', 'Age', 'FrequentFlyer', 'EverTravelledAbroad', 'Log_AnnualIncome', 'ChronicDiseases']]\n",
    "target_clf = df['TravelInsurance']\n",
    "\n",
    "#splitting\n",
    "X_train_clf, X_test_clf, y_train_clf, y_test_clf = train_test_split(features_clf, target_clf, test_size=0.2, random_state=42)\n",
    "\n",
    "rfc = RandomForestClassifier(\n",
    "    random_state=42, \n",
    "    n_estimators=300,         # Increase the number of trees\n",
    "    max_depth=3,           \n",
    "    min_samples_split=2,      # Use default, allowing more splits\n",
    "    min_samples_leaf=2,       # Allow smaller leaf nodes\n",
    "    max_features='sqrt'\n",
    ")\n",
    "\n",
    "rfc.fit(X_train_clf, y_train_clf)\n",
    "\n",
    "y_pred_rfc = rfc.predict(X_test_clf)"
   ]
  },
  {
   "cell_type": "code",
   "execution_count": 77,
   "metadata": {},
   "outputs": [
    {
     "name": "stdout",
     "output_type": "stream",
     "text": [
      "Accuracy: 0.7647058823529411\n",
      "Classification Report:\n",
      "              precision    recall  f1-score   support\n",
      "\n",
      "           0       0.75      0.95      0.84        44\n",
      "           1       0.83      0.42      0.56        24\n",
      "\n",
      "    accuracy                           0.76        68\n",
      "   macro avg       0.79      0.69      0.70        68\n",
      "weighted avg       0.78      0.76      0.74        68\n",
      "\n"
     ]
    }
   ],
   "source": [
    "# Evaluate the model\n",
    "accuracy = accuracy_score(y_test_clf, y_pred_rfc)\n",
    "report = classification_report(y_test_clf, y_pred_rfc)\n",
    "\n",
    "print(f\"Accuracy: {accuracy}\")\n",
    "print(\"Classification Report:\")\n",
    "print(report)"
   ]
  },
  {
   "cell_type": "code",
   "execution_count": 78,
   "metadata": {},
   "outputs": [
    {
     "data": {
      "text/html": [
       "<div>\n",
       "<style scoped>\n",
       "    .dataframe tbody tr th:only-of-type {\n",
       "        vertical-align: middle;\n",
       "    }\n",
       "\n",
       "    .dataframe tbody tr th {\n",
       "        vertical-align: top;\n",
       "    }\n",
       "\n",
       "    .dataframe thead th {\n",
       "        text-align: right;\n",
       "    }\n",
       "</style>\n",
       "<table border=\"1\" class=\"dataframe\">\n",
       "  <thead>\n",
       "    <tr style=\"text-align: right;\">\n",
       "      <th></th>\n",
       "      <th>Trek</th>\n",
       "      <th>Cost</th>\n",
       "      <th>Time</th>\n",
       "      <th>Trip Grade</th>\n",
       "      <th>Max Altitude</th>\n",
       "      <th>Accomodation</th>\n",
       "      <th>Best Travel Time</th>\n",
       "      <th>Date of Travel</th>\n",
       "      <th>Sex</th>\n",
       "      <th>Age</th>\n",
       "      <th>...</th>\n",
       "      <th>TravelInsurance</th>\n",
       "      <th>Year</th>\n",
       "      <th>Regional code</th>\n",
       "      <th>Country</th>\n",
       "      <th>Cluster</th>\n",
       "      <th>AnnualIncome_scaled</th>\n",
       "      <th>Cost_scaled</th>\n",
       "      <th>Time_MaxAltitude</th>\n",
       "      <th>Log_AnnualIncome</th>\n",
       "      <th>Log_MaxAltitude</th>\n",
       "    </tr>\n",
       "  </thead>\n",
       "  <tbody>\n",
       "    <tr>\n",
       "      <th>0</th>\n",
       "      <td>Annapurna Base Camp Heli Trek</td>\n",
       "      <td>1750</td>\n",
       "      <td>9</td>\n",
       "      <td>1</td>\n",
       "      <td>4210.0</td>\n",
       "      <td>Teahouse</td>\n",
       "      <td>Spring/Autumn</td>\n",
       "      <td>2023-08-07</td>\n",
       "      <td>3</td>\n",
       "      <td>27</td>\n",
       "      <td>...</td>\n",
       "      <td>0</td>\n",
       "      <td>2017</td>\n",
       "      <td>3980</td>\n",
       "      <td>Kazakhstan</td>\n",
       "      <td>1</td>\n",
       "      <td>0.277469</td>\n",
       "      <td>0.670991</td>\n",
       "      <td>37890.0</td>\n",
       "      <td>13.864302</td>\n",
       "      <td>8.345455</td>\n",
       "    </tr>\n",
       "    <tr>\n",
       "      <th>1</th>\n",
       "      <td>Annapurna Base Camp Heli Trek</td>\n",
       "      <td>1750</td>\n",
       "      <td>9</td>\n",
       "      <td>1</td>\n",
       "      <td>4210.0</td>\n",
       "      <td>Teahouse</td>\n",
       "      <td>Spring/Autumn</td>\n",
       "      <td>2023-05-27</td>\n",
       "      <td>3</td>\n",
       "      <td>28</td>\n",
       "      <td>...</td>\n",
       "      <td>0</td>\n",
       "      <td>2017</td>\n",
       "      <td>7050</td>\n",
       "      <td>Slovenia</td>\n",
       "      <td>1</td>\n",
       "      <td>-1.740850</td>\n",
       "      <td>0.670991</td>\n",
       "      <td>37890.0</td>\n",
       "      <td>12.611541</td>\n",
       "      <td>8.345455</td>\n",
       "    </tr>\n",
       "    <tr>\n",
       "      <th>2</th>\n",
       "      <td>Annapurna Base Camp Heli Trek</td>\n",
       "      <td>1750</td>\n",
       "      <td>9</td>\n",
       "      <td>1</td>\n",
       "      <td>4210.0</td>\n",
       "      <td>Teahouse</td>\n",
       "      <td>Spring/Autumn</td>\n",
       "      <td>2022-05-07</td>\n",
       "      <td>2</td>\n",
       "      <td>29</td>\n",
       "      <td>...</td>\n",
       "      <td>0</td>\n",
       "      <td>2016</td>\n",
       "      <td>1520</td>\n",
       "      <td>Chile</td>\n",
       "      <td>1</td>\n",
       "      <td>-0.933523</td>\n",
       "      <td>0.670991</td>\n",
       "      <td>37890.0</td>\n",
       "      <td>13.304687</td>\n",
       "      <td>8.345455</td>\n",
       "    </tr>\n",
       "    <tr>\n",
       "      <th>3</th>\n",
       "      <td>Annapurna Base Camp Heli Trek</td>\n",
       "      <td>1750</td>\n",
       "      <td>9</td>\n",
       "      <td>1</td>\n",
       "      <td>4210.0</td>\n",
       "      <td>Teahouse</td>\n",
       "      <td>Spring/Autumn</td>\n",
       "      <td>2022-10-07</td>\n",
       "      <td>0</td>\n",
       "      <td>28</td>\n",
       "      <td>...</td>\n",
       "      <td>0</td>\n",
       "      <td>2017</td>\n",
       "      <td>560</td>\n",
       "      <td>Belgium</td>\n",
       "      <td>1</td>\n",
       "      <td>0.546578</td>\n",
       "      <td>0.670991</td>\n",
       "      <td>37890.0</td>\n",
       "      <td>13.955273</td>\n",
       "      <td>8.345455</td>\n",
       "    </tr>\n",
       "    <tr>\n",
       "      <th>4</th>\n",
       "      <td>Annapurna Base Camp Heli Trek</td>\n",
       "      <td>1750</td>\n",
       "      <td>9</td>\n",
       "      <td>1</td>\n",
       "      <td>4210.0</td>\n",
       "      <td>Teahouse</td>\n",
       "      <td>Spring/Autumn</td>\n",
       "      <td>2022-06-24</td>\n",
       "      <td>2</td>\n",
       "      <td>32</td>\n",
       "      <td>...</td>\n",
       "      <td>0</td>\n",
       "      <td>2016</td>\n",
       "      <td>4540</td>\n",
       "      <td>Malawi</td>\n",
       "      <td>1</td>\n",
       "      <td>-0.260749</td>\n",
       "      <td>0.670991</td>\n",
       "      <td>37890.0</td>\n",
       "      <td>13.652993</td>\n",
       "      <td>8.345455</td>\n",
       "    </tr>\n",
       "    <tr>\n",
       "      <th>...</th>\n",
       "      <td>...</td>\n",
       "      <td>...</td>\n",
       "      <td>...</td>\n",
       "      <td>...</td>\n",
       "      <td>...</td>\n",
       "      <td>...</td>\n",
       "      <td>...</td>\n",
       "      <td>...</td>\n",
       "      <td>...</td>\n",
       "      <td>...</td>\n",
       "      <td>...</td>\n",
       "      <td>...</td>\n",
       "      <td>...</td>\n",
       "      <td>...</td>\n",
       "      <td>...</td>\n",
       "      <td>...</td>\n",
       "      <td>...</td>\n",
       "      <td>...</td>\n",
       "      <td>...</td>\n",
       "      <td>...</td>\n",
       "      <td>...</td>\n",
       "    </tr>\n",
       "    <tr>\n",
       "      <th>378</th>\n",
       "      <td>Upper Mustang Trek</td>\n",
       "      <td>1499</td>\n",
       "      <td>17</td>\n",
       "      <td>3</td>\n",
       "      <td>3870.0</td>\n",
       "      <td>Guesthouse</td>\n",
       "      <td>Spring/Autumn/Winter</td>\n",
       "      <td>2022-05-22</td>\n",
       "      <td>2</td>\n",
       "      <td>31</td>\n",
       "      <td>...</td>\n",
       "      <td>1</td>\n",
       "      <td>2017</td>\n",
       "      <td>4960</td>\n",
       "      <td>Mongolia</td>\n",
       "      <td>13</td>\n",
       "      <td>1.488461</td>\n",
       "      <td>0.153486</td>\n",
       "      <td>65790.0</td>\n",
       "      <td>14.220976</td>\n",
       "      <td>8.261268</td>\n",
       "    </tr>\n",
       "    <tr>\n",
       "      <th>379</th>\n",
       "      <td>Upper Mustang Trek</td>\n",
       "      <td>1499</td>\n",
       "      <td>17</td>\n",
       "      <td>3</td>\n",
       "      <td>3870.0</td>\n",
       "      <td>Guesthouse</td>\n",
       "      <td>Spring/Autumn/Winter</td>\n",
       "      <td>2021-09-29</td>\n",
       "      <td>0</td>\n",
       "      <td>27</td>\n",
       "      <td>...</td>\n",
       "      <td>0</td>\n",
       "      <td>2016</td>\n",
       "      <td>5860</td>\n",
       "      <td>Pakistan</td>\n",
       "      <td>13</td>\n",
       "      <td>-0.395304</td>\n",
       "      <td>0.153486</td>\n",
       "      <td>65790.0</td>\n",
       "      <td>13.592368</td>\n",
       "      <td>8.261268</td>\n",
       "    </tr>\n",
       "    <tr>\n",
       "      <th>380</th>\n",
       "      <td>Upper Mustang Trek</td>\n",
       "      <td>1499</td>\n",
       "      <td>17</td>\n",
       "      <td>3</td>\n",
       "      <td>3870.0</td>\n",
       "      <td>Guesthouse</td>\n",
       "      <td>Spring/Autumn/Winter</td>\n",
       "      <td>2022-03-23</td>\n",
       "      <td>1</td>\n",
       "      <td>25</td>\n",
       "      <td>...</td>\n",
       "      <td>1</td>\n",
       "      <td>2017</td>\n",
       "      <td>1910</td>\n",
       "      <td>Croatia</td>\n",
       "      <td>13</td>\n",
       "      <td>1.219352</td>\n",
       "      <td>0.153486</td>\n",
       "      <td>65790.0</td>\n",
       "      <td>14.151984</td>\n",
       "      <td>8.261268</td>\n",
       "    </tr>\n",
       "    <tr>\n",
       "      <th>381</th>\n",
       "      <td>Upper Mustang Trek</td>\n",
       "      <td>1499</td>\n",
       "      <td>17</td>\n",
       "      <td>3</td>\n",
       "      <td>3870.0</td>\n",
       "      <td>Guesthouse</td>\n",
       "      <td>Spring/Autumn/Winter</td>\n",
       "      <td>2023-03-12</td>\n",
       "      <td>2</td>\n",
       "      <td>28</td>\n",
       "      <td>...</td>\n",
       "      <td>0</td>\n",
       "      <td>2017</td>\n",
       "      <td>8400</td>\n",
       "      <td>united states of america</td>\n",
       "      <td>13</td>\n",
       "      <td>-0.395304</td>\n",
       "      <td>0.153486</td>\n",
       "      <td>65790.0</td>\n",
       "      <td>13.592368</td>\n",
       "      <td>8.261268</td>\n",
       "    </tr>\n",
       "    <tr>\n",
       "      <th>382</th>\n",
       "      <td>Upper Mustang Trek</td>\n",
       "      <td>1499</td>\n",
       "      <td>17</td>\n",
       "      <td>3</td>\n",
       "      <td>3870.0</td>\n",
       "      <td>Guesthouse</td>\n",
       "      <td>Spring/Autumn/Winter</td>\n",
       "      <td>2021-10-13</td>\n",
       "      <td>3</td>\n",
       "      <td>31</td>\n",
       "      <td>...</td>\n",
       "      <td>0</td>\n",
       "      <td>2016</td>\n",
       "      <td>2660</td>\n",
       "      <td>Gabon</td>\n",
       "      <td>13</td>\n",
       "      <td>-1.471741</td>\n",
       "      <td>0.153486</td>\n",
       "      <td>65790.0</td>\n",
       "      <td>12.899222</td>\n",
       "      <td>8.261268</td>\n",
       "    </tr>\n",
       "  </tbody>\n",
       "</table>\n",
       "<p>338 rows × 27 columns</p>\n",
       "</div>"
      ],
      "text/plain": [
       "                              Trek  Cost  Time  Trip Grade  Max Altitude  \\\n",
       "0    Annapurna Base Camp Heli Trek  1750     9           1        4210.0   \n",
       "1    Annapurna Base Camp Heli Trek  1750     9           1        4210.0   \n",
       "2    Annapurna Base Camp Heli Trek  1750     9           1        4210.0   \n",
       "3    Annapurna Base Camp Heli Trek  1750     9           1        4210.0   \n",
       "4    Annapurna Base Camp Heli Trek  1750     9           1        4210.0   \n",
       "..                             ...   ...   ...         ...           ...   \n",
       "378            Upper Mustang Trek   1499    17           3        3870.0   \n",
       "379            Upper Mustang Trek   1499    17           3        3870.0   \n",
       "380            Upper Mustang Trek   1499    17           3        3870.0   \n",
       "381            Upper Mustang Trek   1499    17           3        3870.0   \n",
       "382            Upper Mustang Trek   1499    17           3        3870.0   \n",
       "\n",
       "    Accomodation      Best Travel Time Date of Travel  Sex  Age  ...  \\\n",
       "0       Teahouse         Spring/Autumn     2023-08-07    3   27  ...   \n",
       "1       Teahouse         Spring/Autumn     2023-05-27    3   28  ...   \n",
       "2       Teahouse         Spring/Autumn     2022-05-07    2   29  ...   \n",
       "3       Teahouse         Spring/Autumn     2022-10-07    0   28  ...   \n",
       "4       Teahouse         Spring/Autumn     2022-06-24    2   32  ...   \n",
       "..           ...                   ...            ...  ...  ...  ...   \n",
       "378   Guesthouse  Spring/Autumn/Winter     2022-05-22    2   31  ...   \n",
       "379   Guesthouse  Spring/Autumn/Winter     2021-09-29    0   27  ...   \n",
       "380   Guesthouse  Spring/Autumn/Winter     2022-03-23    1   25  ...   \n",
       "381   Guesthouse  Spring/Autumn/Winter     2023-03-12    2   28  ...   \n",
       "382   Guesthouse  Spring/Autumn/Winter     2021-10-13    3   31  ...   \n",
       "\n",
       "     TravelInsurance  Year  Regional code                   Country  Cluster  \\\n",
       "0                  0  2017           3980                Kazakhstan        1   \n",
       "1                  0  2017           7050                  Slovenia        1   \n",
       "2                  0  2016           1520                     Chile        1   \n",
       "3                  0  2017            560                   Belgium        1   \n",
       "4                  0  2016           4540                    Malawi        1   \n",
       "..               ...   ...            ...                       ...      ...   \n",
       "378                1  2017           4960                  Mongolia       13   \n",
       "379                0  2016           5860                  Pakistan       13   \n",
       "380                1  2017           1910                   Croatia       13   \n",
       "381                0  2017           8400  united states of america       13   \n",
       "382                0  2016           2660                     Gabon       13   \n",
       "\n",
       "     AnnualIncome_scaled  Cost_scaled  Time_MaxAltitude  Log_AnnualIncome  \\\n",
       "0               0.277469     0.670991           37890.0         13.864302   \n",
       "1              -1.740850     0.670991           37890.0         12.611541   \n",
       "2              -0.933523     0.670991           37890.0         13.304687   \n",
       "3               0.546578     0.670991           37890.0         13.955273   \n",
       "4              -0.260749     0.670991           37890.0         13.652993   \n",
       "..                   ...          ...               ...               ...   \n",
       "378             1.488461     0.153486           65790.0         14.220976   \n",
       "379            -0.395304     0.153486           65790.0         13.592368   \n",
       "380             1.219352     0.153486           65790.0         14.151984   \n",
       "381            -0.395304     0.153486           65790.0         13.592368   \n",
       "382            -1.471741     0.153486           65790.0         12.899222   \n",
       "\n",
       "     Log_MaxAltitude  \n",
       "0           8.345455  \n",
       "1           8.345455  \n",
       "2           8.345455  \n",
       "3           8.345455  \n",
       "4           8.345455  \n",
       "..               ...  \n",
       "378         8.261268  \n",
       "379         8.261268  \n",
       "380         8.261268  \n",
       "381         8.261268  \n",
       "382         8.261268  \n",
       "\n",
       "[338 rows x 27 columns]"
      ]
     },
     "execution_count": 78,
     "metadata": {},
     "output_type": "execute_result"
    }
   ],
   "source": [
    "# df.to_csv('cleaned_dataset.csv')\n",
    "df"
   ]
  },
  {
   "cell_type": "markdown",
   "metadata": {},
   "source": [
    "model validation via cross validation and hyper parameter tuning"
   ]
  },
  {
   "cell_type": "code",
   "execution_count": 79,
   "metadata": {},
   "outputs": [
    {
     "name": "stdout",
     "output_type": "stream",
     "text": [
      "Best Parameters for Gradient Boosting Regressor: {'learning_rate': 0.05, 'max_depth': 4, 'min_samples_leaf': 1, 'min_samples_split': 2, 'n_estimators': 400}\n",
      "Best R² Score for Gradient Boosting Regressor: 0.9479515527942421\n"
     ]
    }
   ],
   "source": [
    "# Define the parameter grid\n",
    "from sklearn.model_selection import GridSearchCV\n",
    "\n",
    "\n",
    "param_grid_gbr = {\n",
    "    'n_estimators': [50, 100, 200, 300, 400],\n",
    "    'learning_rate': [0.01, 0.05, 0.1, 0.2],\n",
    "    'max_depth': [3, 4, 5, 6],\n",
    "    'min_samples_split': [2, 5, 10],\n",
    "    'min_samples_leaf': [1, 2, 4]\n",
    "}\n",
    "#initializing the model and GridSearchCV\n",
    "gbr = GradientBoostingRegressor(random_state=42)\n",
    "grid_search_gbr = GridSearchCV(estimator=gbr, param_grid=param_grid_gbr, cv=5, scoring='r2', n_jobs=-1)\n",
    "\n",
    "grid_search_gbr.fit(X_train_reg, y_train_reg)\n",
    "#for bestfit\n",
    "best_params_gbr = grid_search_gbr.best_params_\n",
    "best_score_gbr = grid_search_gbr.best_score_\n",
    "\n",
    "print(\"Best Parameters for Gradient Boosting Regressor:\", best_params_gbr)\n",
    "print(\"Best R² Score for Gradient Boosting Regressor:\", best_score_gbr)"
   ]
  },
  {
   "cell_type": "code",
   "execution_count": 80,
   "metadata": {},
   "outputs": [
    {
     "data": {
      "application/vnd.plotly.v1+json": {
       "config": {
        "plotlyServerURL": "https://plot.ly"
       },
       "data": [
        {
         "hovertemplate": "Actual Cost=%{x}<br>Predicted Cost=%{y}<extra></extra>",
         "legendgroup": "",
         "marker": {
          "color": "#636efa",
          "symbol": "circle"
         },
         "mode": "markers",
         "name": "",
         "orientation": "v",
         "showlegend": false,
         "type": "scatter",
         "x": [
          1499,
          1499,
          1499,
          1450,
          1499,
          1499,
          1250,
          1499,
          750,
          1499,
          1450,
          1450,
          2300,
          860,
          1499,
          1499,
          980,
          1530,
          1450,
          1090,
          2300,
          2100,
          2150,
          1450,
          1499,
          1499,
          1450,
          1499,
          1499,
          1499,
          1499,
          1499,
          1180,
          1090,
          1499,
          1450,
          850,
          1499,
          1450,
          1750,
          1450,
          1499,
          1180,
          1499,
          590,
          1450,
          1499,
          1250,
          1420,
          1190,
          1499,
          1450,
          2100,
          2100,
          1499,
          1499,
          1499,
          1499,
          1499,
          2150,
          1499,
          1499,
          3600,
          1190,
          1499,
          1090,
          1499,
          1499
         ],
         "xaxis": "x",
         "y": [
          1604.6075887850334,
          1477.8414424659873,
          1442.548266988755,
          1489.671810432309,
          1520.7737304178413,
          1522.1228941909703,
          1324.017203552058,
          1485.0138981448163,
          879.2398216944168,
          1475.73561256587,
          1472.1858883171726,
          1494.3456603859422,
          2241.0428154761216,
          858.9973911700312,
          1554.6896947955138,
          1461.1344436849483,
          949.4022673578746,
          1481.6861673564463,
          1362.8632918320582,
          1362.7355916721956,
          2264.91197821548,
          2016.9125907736154,
          2084.005209056292,
          1597.4641762955634,
          1610.4020240007756,
          1540.7909327747986,
          1327.2838744675728,
          1586.839962051771,
          1475.520667499049,
          1428.2827928047288,
          1468.959214122403,
          1607.6798117479295,
          1228.669616072908,
          1267.766283389366,
          1453.5238465329398,
          1474.631853476619,
          821.0246671550743,
          1569.0355577279784,
          1498.0736175916572,
          1531.8474454770057,
          1494.3456603859422,
          1308.0998936518404,
          1219.8532627392558,
          1505.391331934717,
          652.3000708472285,
          1390.265228136845,
          1522.6588662223428,
          1313.6201482140275,
          1453.157073258121,
          1232.7177735380342,
          1492.2432589432528,
          1485.9448253469068,
          1988.6237254309733,
          1997.9681428500335,
          1465.2730298031922,
          1424.6077308547353,
          1502.48145457632,
          1518.3495989532903,
          1494.8579697173705,
          2084.445035067818,
          1412.1480497360992,
          1423.600708357348,
          3510.4137391808486,
          1237.634879893422,
          1450.361728977847,
          1265.2044334094342,
          1470.8871799858014,
          1611.0515602550092
         ],
         "yaxis": "y"
        }
       ],
       "layout": {
        "legend": {
         "tracegroupgap": 0
        },
        "paper_bgcolor": "white",
        "shapes": [
         {
          "line": {
           "dash": "dash"
          },
          "type": "line",
          "x0": 590,
          "x1": 3600,
          "y0": 590,
          "y1": 3600
         }
        ],
        "template": {
         "data": {
          "bar": [
           {
            "error_x": {
             "color": "#2a3f5f"
            },
            "error_y": {
             "color": "#2a3f5f"
            },
            "marker": {
             "line": {
              "color": "#E5ECF6",
              "width": 0.5
             },
             "pattern": {
              "fillmode": "overlay",
              "size": 10,
              "solidity": 0.2
             }
            },
            "type": "bar"
           }
          ],
          "barpolar": [
           {
            "marker": {
             "line": {
              "color": "#E5ECF6",
              "width": 0.5
             },
             "pattern": {
              "fillmode": "overlay",
              "size": 10,
              "solidity": 0.2
             }
            },
            "type": "barpolar"
           }
          ],
          "carpet": [
           {
            "aaxis": {
             "endlinecolor": "#2a3f5f",
             "gridcolor": "white",
             "linecolor": "white",
             "minorgridcolor": "white",
             "startlinecolor": "#2a3f5f"
            },
            "baxis": {
             "endlinecolor": "#2a3f5f",
             "gridcolor": "white",
             "linecolor": "white",
             "minorgridcolor": "white",
             "startlinecolor": "#2a3f5f"
            },
            "type": "carpet"
           }
          ],
          "choropleth": [
           {
            "colorbar": {
             "outlinewidth": 0,
             "ticks": ""
            },
            "type": "choropleth"
           }
          ],
          "contour": [
           {
            "colorbar": {
             "outlinewidth": 0,
             "ticks": ""
            },
            "colorscale": [
             [
              0,
              "#0d0887"
             ],
             [
              0.1111111111111111,
              "#46039f"
             ],
             [
              0.2222222222222222,
              "#7201a8"
             ],
             [
              0.3333333333333333,
              "#9c179e"
             ],
             [
              0.4444444444444444,
              "#bd3786"
             ],
             [
              0.5555555555555556,
              "#d8576b"
             ],
             [
              0.6666666666666666,
              "#ed7953"
             ],
             [
              0.7777777777777778,
              "#fb9f3a"
             ],
             [
              0.8888888888888888,
              "#fdca26"
             ],
             [
              1,
              "#f0f921"
             ]
            ],
            "type": "contour"
           }
          ],
          "contourcarpet": [
           {
            "colorbar": {
             "outlinewidth": 0,
             "ticks": ""
            },
            "type": "contourcarpet"
           }
          ],
          "heatmap": [
           {
            "colorbar": {
             "outlinewidth": 0,
             "ticks": ""
            },
            "colorscale": [
             [
              0,
              "#0d0887"
             ],
             [
              0.1111111111111111,
              "#46039f"
             ],
             [
              0.2222222222222222,
              "#7201a8"
             ],
             [
              0.3333333333333333,
              "#9c179e"
             ],
             [
              0.4444444444444444,
              "#bd3786"
             ],
             [
              0.5555555555555556,
              "#d8576b"
             ],
             [
              0.6666666666666666,
              "#ed7953"
             ],
             [
              0.7777777777777778,
              "#fb9f3a"
             ],
             [
              0.8888888888888888,
              "#fdca26"
             ],
             [
              1,
              "#f0f921"
             ]
            ],
            "type": "heatmap"
           }
          ],
          "heatmapgl": [
           {
            "colorbar": {
             "outlinewidth": 0,
             "ticks": ""
            },
            "colorscale": [
             [
              0,
              "#0d0887"
             ],
             [
              0.1111111111111111,
              "#46039f"
             ],
             [
              0.2222222222222222,
              "#7201a8"
             ],
             [
              0.3333333333333333,
              "#9c179e"
             ],
             [
              0.4444444444444444,
              "#bd3786"
             ],
             [
              0.5555555555555556,
              "#d8576b"
             ],
             [
              0.6666666666666666,
              "#ed7953"
             ],
             [
              0.7777777777777778,
              "#fb9f3a"
             ],
             [
              0.8888888888888888,
              "#fdca26"
             ],
             [
              1,
              "#f0f921"
             ]
            ],
            "type": "heatmapgl"
           }
          ],
          "histogram": [
           {
            "marker": {
             "pattern": {
              "fillmode": "overlay",
              "size": 10,
              "solidity": 0.2
             }
            },
            "type": "histogram"
           }
          ],
          "histogram2d": [
           {
            "colorbar": {
             "outlinewidth": 0,
             "ticks": ""
            },
            "colorscale": [
             [
              0,
              "#0d0887"
             ],
             [
              0.1111111111111111,
              "#46039f"
             ],
             [
              0.2222222222222222,
              "#7201a8"
             ],
             [
              0.3333333333333333,
              "#9c179e"
             ],
             [
              0.4444444444444444,
              "#bd3786"
             ],
             [
              0.5555555555555556,
              "#d8576b"
             ],
             [
              0.6666666666666666,
              "#ed7953"
             ],
             [
              0.7777777777777778,
              "#fb9f3a"
             ],
             [
              0.8888888888888888,
              "#fdca26"
             ],
             [
              1,
              "#f0f921"
             ]
            ],
            "type": "histogram2d"
           }
          ],
          "histogram2dcontour": [
           {
            "colorbar": {
             "outlinewidth": 0,
             "ticks": ""
            },
            "colorscale": [
             [
              0,
              "#0d0887"
             ],
             [
              0.1111111111111111,
              "#46039f"
             ],
             [
              0.2222222222222222,
              "#7201a8"
             ],
             [
              0.3333333333333333,
              "#9c179e"
             ],
             [
              0.4444444444444444,
              "#bd3786"
             ],
             [
              0.5555555555555556,
              "#d8576b"
             ],
             [
              0.6666666666666666,
              "#ed7953"
             ],
             [
              0.7777777777777778,
              "#fb9f3a"
             ],
             [
              0.8888888888888888,
              "#fdca26"
             ],
             [
              1,
              "#f0f921"
             ]
            ],
            "type": "histogram2dcontour"
           }
          ],
          "mesh3d": [
           {
            "colorbar": {
             "outlinewidth": 0,
             "ticks": ""
            },
            "type": "mesh3d"
           }
          ],
          "parcoords": [
           {
            "line": {
             "colorbar": {
              "outlinewidth": 0,
              "ticks": ""
             }
            },
            "type": "parcoords"
           }
          ],
          "pie": [
           {
            "automargin": true,
            "type": "pie"
           }
          ],
          "scatter": [
           {
            "fillpattern": {
             "fillmode": "overlay",
             "size": 10,
             "solidity": 0.2
            },
            "type": "scatter"
           }
          ],
          "scatter3d": [
           {
            "line": {
             "colorbar": {
              "outlinewidth": 0,
              "ticks": ""
             }
            },
            "marker": {
             "colorbar": {
              "outlinewidth": 0,
              "ticks": ""
             }
            },
            "type": "scatter3d"
           }
          ],
          "scattercarpet": [
           {
            "marker": {
             "colorbar": {
              "outlinewidth": 0,
              "ticks": ""
             }
            },
            "type": "scattercarpet"
           }
          ],
          "scattergeo": [
           {
            "marker": {
             "colorbar": {
              "outlinewidth": 0,
              "ticks": ""
             }
            },
            "type": "scattergeo"
           }
          ],
          "scattergl": [
           {
            "marker": {
             "colorbar": {
              "outlinewidth": 0,
              "ticks": ""
             }
            },
            "type": "scattergl"
           }
          ],
          "scattermapbox": [
           {
            "marker": {
             "colorbar": {
              "outlinewidth": 0,
              "ticks": ""
             }
            },
            "type": "scattermapbox"
           }
          ],
          "scatterpolar": [
           {
            "marker": {
             "colorbar": {
              "outlinewidth": 0,
              "ticks": ""
             }
            },
            "type": "scatterpolar"
           }
          ],
          "scatterpolargl": [
           {
            "marker": {
             "colorbar": {
              "outlinewidth": 0,
              "ticks": ""
             }
            },
            "type": "scatterpolargl"
           }
          ],
          "scatterternary": [
           {
            "marker": {
             "colorbar": {
              "outlinewidth": 0,
              "ticks": ""
             }
            },
            "type": "scatterternary"
           }
          ],
          "surface": [
           {
            "colorbar": {
             "outlinewidth": 0,
             "ticks": ""
            },
            "colorscale": [
             [
              0,
              "#0d0887"
             ],
             [
              0.1111111111111111,
              "#46039f"
             ],
             [
              0.2222222222222222,
              "#7201a8"
             ],
             [
              0.3333333333333333,
              "#9c179e"
             ],
             [
              0.4444444444444444,
              "#bd3786"
             ],
             [
              0.5555555555555556,
              "#d8576b"
             ],
             [
              0.6666666666666666,
              "#ed7953"
             ],
             [
              0.7777777777777778,
              "#fb9f3a"
             ],
             [
              0.8888888888888888,
              "#fdca26"
             ],
             [
              1,
              "#f0f921"
             ]
            ],
            "type": "surface"
           }
          ],
          "table": [
           {
            "cells": {
             "fill": {
              "color": "#EBF0F8"
             },
             "line": {
              "color": "white"
             }
            },
            "header": {
             "fill": {
              "color": "#C8D4E3"
             },
             "line": {
              "color": "white"
             }
            },
            "type": "table"
           }
          ]
         },
         "layout": {
          "annotationdefaults": {
           "arrowcolor": "#2a3f5f",
           "arrowhead": 0,
           "arrowwidth": 1
          },
          "autotypenumbers": "strict",
          "coloraxis": {
           "colorbar": {
            "outlinewidth": 0,
            "ticks": ""
           }
          },
          "colorscale": {
           "diverging": [
            [
             0,
             "#8e0152"
            ],
            [
             0.1,
             "#c51b7d"
            ],
            [
             0.2,
             "#de77ae"
            ],
            [
             0.3,
             "#f1b6da"
            ],
            [
             0.4,
             "#fde0ef"
            ],
            [
             0.5,
             "#f7f7f7"
            ],
            [
             0.6,
             "#e6f5d0"
            ],
            [
             0.7,
             "#b8e186"
            ],
            [
             0.8,
             "#7fbc41"
            ],
            [
             0.9,
             "#4d9221"
            ],
            [
             1,
             "#276419"
            ]
           ],
           "sequential": [
            [
             0,
             "#0d0887"
            ],
            [
             0.1111111111111111,
             "#46039f"
            ],
            [
             0.2222222222222222,
             "#7201a8"
            ],
            [
             0.3333333333333333,
             "#9c179e"
            ],
            [
             0.4444444444444444,
             "#bd3786"
            ],
            [
             0.5555555555555556,
             "#d8576b"
            ],
            [
             0.6666666666666666,
             "#ed7953"
            ],
            [
             0.7777777777777778,
             "#fb9f3a"
            ],
            [
             0.8888888888888888,
             "#fdca26"
            ],
            [
             1,
             "#f0f921"
            ]
           ],
           "sequentialminus": [
            [
             0,
             "#0d0887"
            ],
            [
             0.1111111111111111,
             "#46039f"
            ],
            [
             0.2222222222222222,
             "#7201a8"
            ],
            [
             0.3333333333333333,
             "#9c179e"
            ],
            [
             0.4444444444444444,
             "#bd3786"
            ],
            [
             0.5555555555555556,
             "#d8576b"
            ],
            [
             0.6666666666666666,
             "#ed7953"
            ],
            [
             0.7777777777777778,
             "#fb9f3a"
            ],
            [
             0.8888888888888888,
             "#fdca26"
            ],
            [
             1,
             "#f0f921"
            ]
           ]
          },
          "colorway": [
           "#636efa",
           "#EF553B",
           "#00cc96",
           "#ab63fa",
           "#FFA15A",
           "#19d3f3",
           "#FF6692",
           "#B6E880",
           "#FF97FF",
           "#FECB52"
          ],
          "font": {
           "color": "#2a3f5f"
          },
          "geo": {
           "bgcolor": "white",
           "lakecolor": "white",
           "landcolor": "#E5ECF6",
           "showlakes": true,
           "showland": true,
           "subunitcolor": "white"
          },
          "hoverlabel": {
           "align": "left"
          },
          "hovermode": "closest",
          "mapbox": {
           "style": "light"
          },
          "paper_bgcolor": "white",
          "plot_bgcolor": "#E5ECF6",
          "polar": {
           "angularaxis": {
            "gridcolor": "white",
            "linecolor": "white",
            "ticks": ""
           },
           "bgcolor": "#E5ECF6",
           "radialaxis": {
            "gridcolor": "white",
            "linecolor": "white",
            "ticks": ""
           }
          },
          "scene": {
           "xaxis": {
            "backgroundcolor": "#E5ECF6",
            "gridcolor": "white",
            "gridwidth": 2,
            "linecolor": "white",
            "showbackground": true,
            "ticks": "",
            "zerolinecolor": "white"
           },
           "yaxis": {
            "backgroundcolor": "#E5ECF6",
            "gridcolor": "white",
            "gridwidth": 2,
            "linecolor": "white",
            "showbackground": true,
            "ticks": "",
            "zerolinecolor": "white"
           },
           "zaxis": {
            "backgroundcolor": "#E5ECF6",
            "gridcolor": "white",
            "gridwidth": 2,
            "linecolor": "white",
            "showbackground": true,
            "ticks": "",
            "zerolinecolor": "white"
           }
          },
          "shapedefaults": {
           "line": {
            "color": "#2a3f5f"
           }
          },
          "ternary": {
           "aaxis": {
            "gridcolor": "white",
            "linecolor": "white",
            "ticks": ""
           },
           "baxis": {
            "gridcolor": "white",
            "linecolor": "white",
            "ticks": ""
           },
           "bgcolor": "#E5ECF6",
           "caxis": {
            "gridcolor": "white",
            "linecolor": "white",
            "ticks": ""
           }
          },
          "title": {
           "x": 0.05
          },
          "xaxis": {
           "automargin": true,
           "gridcolor": "white",
           "linecolor": "white",
           "ticks": "",
           "title": {
            "standoff": 15
           },
           "zerolinecolor": "white",
           "zerolinewidth": 2
          },
          "yaxis": {
           "automargin": true,
           "gridcolor": "white",
           "linecolor": "white",
           "ticks": "",
           "title": {
            "standoff": 15
           },
           "zerolinecolor": "white",
           "zerolinewidth": 2
          }
         }
        },
        "title": {
         "text": "Actual vs Predicted Cost"
        },
        "xaxis": {
         "anchor": "y",
         "domain": [
          0,
          1
         ],
         "title": {
          "text": "Actual Cost"
         }
        },
        "yaxis": {
         "anchor": "x",
         "domain": [
          0,
          1
         ],
         "title": {
          "text": "Predicted Cost"
         }
        }
       }
      }
     },
     "metadata": {},
     "output_type": "display_data"
    }
   ],
   "source": [
    "\n",
    "# Visualization of predicted vs actual costs\n",
    "fig_cost = px.scatter(x=y_test_reg, y=y_pred_gbr, labels={'x': 'Actual Cost', 'y': 'Predicted Cost'}, title='Actual vs Predicted Cost')\n",
    "fig_cost.add_shape(\n",
    "    type=\"line\", line=dict(dash='dash'),\n",
    "    x0=y_test_reg.min(), y0=y_test_reg.min(),\n",
    "    x1=y_test_reg.max(), y1=y_test_reg.max()\n",
    ")\n",
    "fig_cost.update_layout(paper_bgcolor=\"white\")\n",
    "fig_cost.show()"
   ]
  },
  {
   "cell_type": "code",
   "execution_count": 139,
   "metadata": {},
   "outputs": [
    {
     "name": "stdout",
     "output_type": "stream",
     "text": [
      "Cross-validation accuracy scores for Random Forest Classifier: [0.82352941 0.76470588 0.77941176 0.7761194  0.80597015]\n",
      "Mean accuracy score: 0.7899473222124671\n"
     ]
    }
   ],
   "source": [
    "\n",
    "from sklearn.model_selection import cross_val_score\n",
    "#Perform cross-validation\n",
    "cv_scores_rfc = cross_val_score(rfc, features_clf, target_clf, cv=5, scoring='accuracy')\n",
    "\n",
    "print(\"Cross-validation accuracy scores for Random Forest Classifier:\", cv_scores_rfc)\n",
    "print(\"Mean accuracy score:\", cv_scores_rfc.mean())"
   ]
  },
  {
   "cell_type": "code",
   "execution_count": 140,
   "metadata": {},
   "outputs": [
    {
     "data": {
      "application/vnd.plotly.v1+json": {
       "config": {
        "plotlyServerURL": "https://plot.ly"
       },
       "data": [
        {
         "colorscale": [
          [
           0,
           "#440154"
          ],
          [
           0.1111111111111111,
           "#482878"
          ],
          [
           0.2222222222222222,
           "#3e4989"
          ],
          [
           0.3333333333333333,
           "#31688e"
          ],
          [
           0.4444444444444444,
           "#26828e"
          ],
          [
           0.5555555555555556,
           "#1f9e89"
          ],
          [
           0.6666666666666666,
           "#35b779"
          ],
          [
           0.7777777777777778,
           "#6ece58"
          ],
          [
           0.8888888888888888,
           "#b5de2b"
          ],
          [
           1,
           "#fde725"
          ]
         ],
         "reversescale": false,
         "showscale": false,
         "type": "heatmap",
         "x": [
          "Predicted No",
          "Predicted Yes"
         ],
         "y": [
          "Actual No",
          "Actual Yes"
         ],
         "z": [
          [
           42,
           2
          ],
          [
           14,
           10
          ]
         ]
        }
       ],
       "layout": {
        "annotations": [
         {
          "font": {
           "color": "#000000"
          },
          "showarrow": false,
          "text": "42",
          "x": "Predicted No",
          "xref": "x",
          "y": "Actual No",
          "yref": "y"
         },
         {
          "font": {
           "color": "#FFFFFF"
          },
          "showarrow": false,
          "text": "2",
          "x": "Predicted Yes",
          "xref": "x",
          "y": "Actual No",
          "yref": "y"
         },
         {
          "font": {
           "color": "#FFFFFF"
          },
          "showarrow": false,
          "text": "14",
          "x": "Predicted No",
          "xref": "x",
          "y": "Actual Yes",
          "yref": "y"
         },
         {
          "font": {
           "color": "#FFFFFF"
          },
          "showarrow": false,
          "text": "10",
          "x": "Predicted Yes",
          "xref": "x",
          "y": "Actual Yes",
          "yref": "y"
         }
        ],
        "paper_bgcolor": "white",
        "template": {
         "data": {
          "bar": [
           {
            "error_x": {
             "color": "#2a3f5f"
            },
            "error_y": {
             "color": "#2a3f5f"
            },
            "marker": {
             "line": {
              "color": "#E5ECF6",
              "width": 0.5
             },
             "pattern": {
              "fillmode": "overlay",
              "size": 10,
              "solidity": 0.2
             }
            },
            "type": "bar"
           }
          ],
          "barpolar": [
           {
            "marker": {
             "line": {
              "color": "#E5ECF6",
              "width": 0.5
             },
             "pattern": {
              "fillmode": "overlay",
              "size": 10,
              "solidity": 0.2
             }
            },
            "type": "barpolar"
           }
          ],
          "carpet": [
           {
            "aaxis": {
             "endlinecolor": "#2a3f5f",
             "gridcolor": "white",
             "linecolor": "white",
             "minorgridcolor": "white",
             "startlinecolor": "#2a3f5f"
            },
            "baxis": {
             "endlinecolor": "#2a3f5f",
             "gridcolor": "white",
             "linecolor": "white",
             "minorgridcolor": "white",
             "startlinecolor": "#2a3f5f"
            },
            "type": "carpet"
           }
          ],
          "choropleth": [
           {
            "colorbar": {
             "outlinewidth": 0,
             "ticks": ""
            },
            "type": "choropleth"
           }
          ],
          "contour": [
           {
            "colorbar": {
             "outlinewidth": 0,
             "ticks": ""
            },
            "colorscale": [
             [
              0,
              "#0d0887"
             ],
             [
              0.1111111111111111,
              "#46039f"
             ],
             [
              0.2222222222222222,
              "#7201a8"
             ],
             [
              0.3333333333333333,
              "#9c179e"
             ],
             [
              0.4444444444444444,
              "#bd3786"
             ],
             [
              0.5555555555555556,
              "#d8576b"
             ],
             [
              0.6666666666666666,
              "#ed7953"
             ],
             [
              0.7777777777777778,
              "#fb9f3a"
             ],
             [
              0.8888888888888888,
              "#fdca26"
             ],
             [
              1,
              "#f0f921"
             ]
            ],
            "type": "contour"
           }
          ],
          "contourcarpet": [
           {
            "colorbar": {
             "outlinewidth": 0,
             "ticks": ""
            },
            "type": "contourcarpet"
           }
          ],
          "heatmap": [
           {
            "colorbar": {
             "outlinewidth": 0,
             "ticks": ""
            },
            "colorscale": [
             [
              0,
              "#0d0887"
             ],
             [
              0.1111111111111111,
              "#46039f"
             ],
             [
              0.2222222222222222,
              "#7201a8"
             ],
             [
              0.3333333333333333,
              "#9c179e"
             ],
             [
              0.4444444444444444,
              "#bd3786"
             ],
             [
              0.5555555555555556,
              "#d8576b"
             ],
             [
              0.6666666666666666,
              "#ed7953"
             ],
             [
              0.7777777777777778,
              "#fb9f3a"
             ],
             [
              0.8888888888888888,
              "#fdca26"
             ],
             [
              1,
              "#f0f921"
             ]
            ],
            "type": "heatmap"
           }
          ],
          "heatmapgl": [
           {
            "colorbar": {
             "outlinewidth": 0,
             "ticks": ""
            },
            "colorscale": [
             [
              0,
              "#0d0887"
             ],
             [
              0.1111111111111111,
              "#46039f"
             ],
             [
              0.2222222222222222,
              "#7201a8"
             ],
             [
              0.3333333333333333,
              "#9c179e"
             ],
             [
              0.4444444444444444,
              "#bd3786"
             ],
             [
              0.5555555555555556,
              "#d8576b"
             ],
             [
              0.6666666666666666,
              "#ed7953"
             ],
             [
              0.7777777777777778,
              "#fb9f3a"
             ],
             [
              0.8888888888888888,
              "#fdca26"
             ],
             [
              1,
              "#f0f921"
             ]
            ],
            "type": "heatmapgl"
           }
          ],
          "histogram": [
           {
            "marker": {
             "pattern": {
              "fillmode": "overlay",
              "size": 10,
              "solidity": 0.2
             }
            },
            "type": "histogram"
           }
          ],
          "histogram2d": [
           {
            "colorbar": {
             "outlinewidth": 0,
             "ticks": ""
            },
            "colorscale": [
             [
              0,
              "#0d0887"
             ],
             [
              0.1111111111111111,
              "#46039f"
             ],
             [
              0.2222222222222222,
              "#7201a8"
             ],
             [
              0.3333333333333333,
              "#9c179e"
             ],
             [
              0.4444444444444444,
              "#bd3786"
             ],
             [
              0.5555555555555556,
              "#d8576b"
             ],
             [
              0.6666666666666666,
              "#ed7953"
             ],
             [
              0.7777777777777778,
              "#fb9f3a"
             ],
             [
              0.8888888888888888,
              "#fdca26"
             ],
             [
              1,
              "#f0f921"
             ]
            ],
            "type": "histogram2d"
           }
          ],
          "histogram2dcontour": [
           {
            "colorbar": {
             "outlinewidth": 0,
             "ticks": ""
            },
            "colorscale": [
             [
              0,
              "#0d0887"
             ],
             [
              0.1111111111111111,
              "#46039f"
             ],
             [
              0.2222222222222222,
              "#7201a8"
             ],
             [
              0.3333333333333333,
              "#9c179e"
             ],
             [
              0.4444444444444444,
              "#bd3786"
             ],
             [
              0.5555555555555556,
              "#d8576b"
             ],
             [
              0.6666666666666666,
              "#ed7953"
             ],
             [
              0.7777777777777778,
              "#fb9f3a"
             ],
             [
              0.8888888888888888,
              "#fdca26"
             ],
             [
              1,
              "#f0f921"
             ]
            ],
            "type": "histogram2dcontour"
           }
          ],
          "mesh3d": [
           {
            "colorbar": {
             "outlinewidth": 0,
             "ticks": ""
            },
            "type": "mesh3d"
           }
          ],
          "parcoords": [
           {
            "line": {
             "colorbar": {
              "outlinewidth": 0,
              "ticks": ""
             }
            },
            "type": "parcoords"
           }
          ],
          "pie": [
           {
            "automargin": true,
            "type": "pie"
           }
          ],
          "scatter": [
           {
            "fillpattern": {
             "fillmode": "overlay",
             "size": 10,
             "solidity": 0.2
            },
            "type": "scatter"
           }
          ],
          "scatter3d": [
           {
            "line": {
             "colorbar": {
              "outlinewidth": 0,
              "ticks": ""
             }
            },
            "marker": {
             "colorbar": {
              "outlinewidth": 0,
              "ticks": ""
             }
            },
            "type": "scatter3d"
           }
          ],
          "scattercarpet": [
           {
            "marker": {
             "colorbar": {
              "outlinewidth": 0,
              "ticks": ""
             }
            },
            "type": "scattercarpet"
           }
          ],
          "scattergeo": [
           {
            "marker": {
             "colorbar": {
              "outlinewidth": 0,
              "ticks": ""
             }
            },
            "type": "scattergeo"
           }
          ],
          "scattergl": [
           {
            "marker": {
             "colorbar": {
              "outlinewidth": 0,
              "ticks": ""
             }
            },
            "type": "scattergl"
           }
          ],
          "scattermapbox": [
           {
            "marker": {
             "colorbar": {
              "outlinewidth": 0,
              "ticks": ""
             }
            },
            "type": "scattermapbox"
           }
          ],
          "scatterpolar": [
           {
            "marker": {
             "colorbar": {
              "outlinewidth": 0,
              "ticks": ""
             }
            },
            "type": "scatterpolar"
           }
          ],
          "scatterpolargl": [
           {
            "marker": {
             "colorbar": {
              "outlinewidth": 0,
              "ticks": ""
             }
            },
            "type": "scatterpolargl"
           }
          ],
          "scatterternary": [
           {
            "marker": {
             "colorbar": {
              "outlinewidth": 0,
              "ticks": ""
             }
            },
            "type": "scatterternary"
           }
          ],
          "surface": [
           {
            "colorbar": {
             "outlinewidth": 0,
             "ticks": ""
            },
            "colorscale": [
             [
              0,
              "#0d0887"
             ],
             [
              0.1111111111111111,
              "#46039f"
             ],
             [
              0.2222222222222222,
              "#7201a8"
             ],
             [
              0.3333333333333333,
              "#9c179e"
             ],
             [
              0.4444444444444444,
              "#bd3786"
             ],
             [
              0.5555555555555556,
              "#d8576b"
             ],
             [
              0.6666666666666666,
              "#ed7953"
             ],
             [
              0.7777777777777778,
              "#fb9f3a"
             ],
             [
              0.8888888888888888,
              "#fdca26"
             ],
             [
              1,
              "#f0f921"
             ]
            ],
            "type": "surface"
           }
          ],
          "table": [
           {
            "cells": {
             "fill": {
              "color": "#EBF0F8"
             },
             "line": {
              "color": "white"
             }
            },
            "header": {
             "fill": {
              "color": "#C8D4E3"
             },
             "line": {
              "color": "white"
             }
            },
            "type": "table"
           }
          ]
         },
         "layout": {
          "annotationdefaults": {
           "arrowcolor": "#2a3f5f",
           "arrowhead": 0,
           "arrowwidth": 1
          },
          "autotypenumbers": "strict",
          "coloraxis": {
           "colorbar": {
            "outlinewidth": 0,
            "ticks": ""
           }
          },
          "colorscale": {
           "diverging": [
            [
             0,
             "#8e0152"
            ],
            [
             0.1,
             "#c51b7d"
            ],
            [
             0.2,
             "#de77ae"
            ],
            [
             0.3,
             "#f1b6da"
            ],
            [
             0.4,
             "#fde0ef"
            ],
            [
             0.5,
             "#f7f7f7"
            ],
            [
             0.6,
             "#e6f5d0"
            ],
            [
             0.7,
             "#b8e186"
            ],
            [
             0.8,
             "#7fbc41"
            ],
            [
             0.9,
             "#4d9221"
            ],
            [
             1,
             "#276419"
            ]
           ],
           "sequential": [
            [
             0,
             "#0d0887"
            ],
            [
             0.1111111111111111,
             "#46039f"
            ],
            [
             0.2222222222222222,
             "#7201a8"
            ],
            [
             0.3333333333333333,
             "#9c179e"
            ],
            [
             0.4444444444444444,
             "#bd3786"
            ],
            [
             0.5555555555555556,
             "#d8576b"
            ],
            [
             0.6666666666666666,
             "#ed7953"
            ],
            [
             0.7777777777777778,
             "#fb9f3a"
            ],
            [
             0.8888888888888888,
             "#fdca26"
            ],
            [
             1,
             "#f0f921"
            ]
           ],
           "sequentialminus": [
            [
             0,
             "#0d0887"
            ],
            [
             0.1111111111111111,
             "#46039f"
            ],
            [
             0.2222222222222222,
             "#7201a8"
            ],
            [
             0.3333333333333333,
             "#9c179e"
            ],
            [
             0.4444444444444444,
             "#bd3786"
            ],
            [
             0.5555555555555556,
             "#d8576b"
            ],
            [
             0.6666666666666666,
             "#ed7953"
            ],
            [
             0.7777777777777778,
             "#fb9f3a"
            ],
            [
             0.8888888888888888,
             "#fdca26"
            ],
            [
             1,
             "#f0f921"
            ]
           ]
          },
          "colorway": [
           "#636efa",
           "#EF553B",
           "#00cc96",
           "#ab63fa",
           "#FFA15A",
           "#19d3f3",
           "#FF6692",
           "#B6E880",
           "#FF97FF",
           "#FECB52"
          ],
          "font": {
           "color": "#2a3f5f"
          },
          "geo": {
           "bgcolor": "white",
           "lakecolor": "white",
           "landcolor": "#E5ECF6",
           "showlakes": true,
           "showland": true,
           "subunitcolor": "white"
          },
          "hoverlabel": {
           "align": "left"
          },
          "hovermode": "closest",
          "mapbox": {
           "style": "light"
          },
          "paper_bgcolor": "white",
          "plot_bgcolor": "#E5ECF6",
          "polar": {
           "angularaxis": {
            "gridcolor": "white",
            "linecolor": "white",
            "ticks": ""
           },
           "bgcolor": "#E5ECF6",
           "radialaxis": {
            "gridcolor": "white",
            "linecolor": "white",
            "ticks": ""
           }
          },
          "scene": {
           "xaxis": {
            "backgroundcolor": "#E5ECF6",
            "gridcolor": "white",
            "gridwidth": 2,
            "linecolor": "white",
            "showbackground": true,
            "ticks": "",
            "zerolinecolor": "white"
           },
           "yaxis": {
            "backgroundcolor": "#E5ECF6",
            "gridcolor": "white",
            "gridwidth": 2,
            "linecolor": "white",
            "showbackground": true,
            "ticks": "",
            "zerolinecolor": "white"
           },
           "zaxis": {
            "backgroundcolor": "#E5ECF6",
            "gridcolor": "white",
            "gridwidth": 2,
            "linecolor": "white",
            "showbackground": true,
            "ticks": "",
            "zerolinecolor": "white"
           }
          },
          "shapedefaults": {
           "line": {
            "color": "#2a3f5f"
           }
          },
          "ternary": {
           "aaxis": {
            "gridcolor": "white",
            "linecolor": "white",
            "ticks": ""
           },
           "baxis": {
            "gridcolor": "white",
            "linecolor": "white",
            "ticks": ""
           },
           "bgcolor": "#E5ECF6",
           "caxis": {
            "gridcolor": "white",
            "linecolor": "white",
            "ticks": ""
           }
          },
          "title": {
           "x": 0.05
          },
          "xaxis": {
           "automargin": true,
           "gridcolor": "white",
           "linecolor": "white",
           "ticks": "",
           "title": {
            "standoff": 15
           },
           "zerolinecolor": "white",
           "zerolinewidth": 2
          },
          "yaxis": {
           "automargin": true,
           "gridcolor": "white",
           "linecolor": "white",
           "ticks": "",
           "title": {
            "standoff": 15
           },
           "zerolinecolor": "white",
           "zerolinewidth": 2
          }
         }
        },
        "title": {
         "text": "Confusion Matrix"
        },
        "xaxis": {
         "dtick": 1,
         "gridcolor": "rgb(0, 0, 0)",
         "side": "top",
         "ticks": ""
        },
        "yaxis": {
         "dtick": 1,
         "ticks": "",
         "ticksuffix": "  "
        }
       }
      }
     },
     "metadata": {},
     "output_type": "display_data"
    }
   ],
   "source": [
    "# Visualization of confusion matrix\n",
    "from sklearn.metrics import confusion_matrix\n",
    "import plotly.figure_factory as ff\n",
    "\n",
    "cm = confusion_matrix(y_test_clf, y_pred_rfc)\n",
    "fig_cm = ff.create_annotated_heatmap(z=cm, x=['Predicted No', 'Predicted Yes'], y=['Actual No', 'Actual Yes'], colorscale='Viridis')\n",
    "fig_cm.update_layout(title='Confusion Matrix', paper_bgcolor=\"white\")\n",
    "fig_cm.show()"
   ]
  },
  {
   "cell_type": "code",
   "execution_count": null,
   "metadata": {},
   "outputs": [],
   "source": []
  }
 ],
 "metadata": {
  "kernelspec": {
   "display_name": "Python 3",
   "language": "python",
   "name": "python3"
  },
  "language_info": {
   "codemirror_mode": {
    "name": "ipython",
    "version": 3
   },
   "file_extension": ".py",
   "mimetype": "text/x-python",
   "name": "python",
   "nbconvert_exporter": "python",
   "pygments_lexer": "ipython3",
   "version": "3.12.4"
  }
 },
 "nbformat": 4,
 "nbformat_minor": 2
}
